{
 "cells": [
  {
   "cell_type": "code",
   "execution_count": 1,
   "id": "49bea178",
   "metadata": {},
   "outputs": [],
   "source": [
    "import pandas as pd\n",
    "from datetime import datetime\n",
    "import pm4py\n",
    "import numpy as np\n",
    "from collections import defaultdict\n",
    "from Levenshtein import distance\n",
    "\n",
    "from sklearn.cluster import AgglomerativeClustering\n",
    "from matplotlib import pyplot as plt\n",
    "from scipy.cluster.hierarchy import dendrogram\n",
    "from sklearn import metrics\n",
    "\n",
    "import copy\n",
    "import matplotlib as mlp\n",
    "import matplotlib.pyplot as plt"
   ]
  },
  {
   "cell_type": "code",
   "execution_count": 2,
   "id": "ec7c5499",
   "metadata": {},
   "outputs": [
    {
     "name": "stderr",
     "output_type": "stream",
     "text": [
      "C:\\Users\\la1949\\Anaconda3\\envs\\pm4py\\lib\\site-packages\\tqdm\\auto.py:22: TqdmWarning: IProgress not found. Please update jupyter and ipywidgets. See https://ipywidgets.readthedocs.io/en/stable/user_install.html\n",
      "  from .autonotebook import tqdm as notebook_tqdm\n",
      "parsing log, completed traces :: 100%|██████████| 6/6 [00:00<00:00, 920.68it/s]\n",
      "parsing log, completed traces :: 100%|██████████| 6/6 [00:00<?, ?it/s]\n",
      "parsing log, completed traces :: 100%|██████████| 6/6 [00:00<00:00, 920.78it/s]\n",
      "parsing log, completed traces :: 100%|██████████| 12/12 [00:00<?, ?it/s]\n",
      "parsing log, completed traces :: 100%|██████████| 12/12 [00:00<?, ?it/s]\n",
      "parsing log, completed traces :: 100%|██████████| 12/12 [00:00<00:00, 767.86it/s]\n",
      "parsing log, completed traces :: 100%|██████████| 18/18 [00:00<?, ?it/s]\n"
     ]
    }
   ],
   "source": [
    "Order = pm4py.read.read_xes(\"1_Order.xes\")\n",
    "Loops = pm4py.read.read_xes(\"2_Loops.xes\") \n",
    "Skips = pm4py.read.read_xes(\"3_Skips.xes\")\n",
    "Order_Loops = pm4py.read.read_xes(\"4_Order_Loops.xes\")\n",
    "Loops_Skips = pm4py.read.read_xes(\"5_Loops_Skips.xes\")\n",
    "Skips_Order = pm4py.read.read_xes(\"6_Skips_Order.xes\")\n",
    "Order_Loops_Skips = pm4py.read.read_xes(\"7_Order_Loops_Skips.xes\")\n"
   ]
  },
  {
   "cell_type": "code",
   "execution_count": 3,
   "id": "cb3d9684",
   "metadata": {},
   "outputs": [],
   "source": [
    "Order_log = Order.groupby(['case:concept:name'])['concept:name'].apply(list).reset_index()\n",
    "Loops_log = Loops.groupby(['case:concept:name'])['concept:name'].apply(list).reset_index()\n",
    "Skips_log = Skips.groupby(['case:concept:name'])['concept:name'].apply(list).reset_index()\n",
    "Order_Loops_log = Order_Loops.groupby(['case:concept:name'])['concept:name'].apply(list).reset_index()\n",
    "Loops_Skips_log = Loops_Skips.groupby(['case:concept:name'])['concept:name'].apply(list).reset_index()\n",
    "Skips_Order_log = Skips_Order.groupby(['case:concept:name'])['concept:name'].apply(list).reset_index()\n",
    "Order_Loops_Skips_log = Order_Loops_Skips.groupby(['case:concept:name'])['concept:name'].apply(list).reset_index()"
   ]
  },
  {
   "cell_type": "code",
   "execution_count": 4,
   "id": "674ec7a7",
   "metadata": {},
   "outputs": [],
   "source": [
    "logs = [Order_log, Loops_log, Skips_log, Order_Loops_log, Loops_Skips_log, Skips_Order_log, Order_Loops_Skips_log]"
   ]
  },
  {
   "cell_type": "code",
   "execution_count": 5,
   "id": "a1331cea",
   "metadata": {},
   "outputs": [
    {
     "name": "stdout",
     "output_type": "stream",
     "text": [
      "  case:concept:name     concept:name\n",
      "0                 1  [A, B, C, D, E]\n",
      "1                 2  [A, B, D, C, E]\n",
      "2                 3  [A, C, B, D, E]\n",
      "3                 4  [A, D, B, C, E]\n",
      "4                 5  [A, C, D, B, E]\n",
      "5                 6  [A, D, C, B, E]\n",
      "  case:concept:name              concept:name\n",
      "0                 1        [A, B, B, C, D, E]\n",
      "1                 2        [A, B, C, C, D, E]\n",
      "2                 3        [A, B, C, D, D, E]\n",
      "3                 4     [A, B, C, B, C, D, E]\n",
      "4                 5     [A, B, C, D, C, D, E]\n",
      "5                 6  [A, B, C, D, B, C, D, E]\n",
      "  case:concept:name  concept:name\n",
      "0                 1  [A, C, D, E]\n",
      "1                 2  [A, B, D, E]\n",
      "2                 3  [A, B, C, E]\n",
      "3                 4     [A, D, E]\n",
      "4                 5     [A, B, E]\n",
      "5                 6        [A, E]\n",
      "   case:concept:name              concept:name\n",
      "0                  1           [A, B, C, D, E]\n",
      "1                 10     [A, B, C, B, C, D, E]\n",
      "2                 11     [A, B, C, D, C, D, E]\n",
      "3                 12  [A, B, C, D, B, C, D, E]\n",
      "4                  2           [A, B, D, C, E]\n",
      "5                  3           [A, C, B, D, E]\n",
      "6                  4           [A, D, B, C, E]\n",
      "7                  5           [A, C, D, B, E]\n",
      "8                  6           [A, D, C, B, E]\n",
      "9                  7        [A, B, B, C, D, E]\n",
      "10                 8        [A, B, C, C, D, E]\n",
      "11                 9        [A, B, C, D, D, E]\n",
      "   case:concept:name              concept:name\n",
      "0                  1        [A, B, B, C, D, E]\n",
      "1                 10                 [A, D, E]\n",
      "2                 11                 [A, B, E]\n",
      "3                 12                    [A, E]\n",
      "4                  2        [A, B, C, C, D, E]\n",
      "5                  3        [A, B, C, D, D, E]\n",
      "6                  4     [A, B, C, B, C, D, E]\n",
      "7                  5     [A, B, C, D, C, D, E]\n",
      "8                  6  [A, B, C, D, B, C, D, E]\n",
      "9                  7              [A, C, D, E]\n",
      "10                 8              [A, B, D, E]\n",
      "11                 9              [A, B, C, E]\n",
      "   case:concept:name     concept:name\n",
      "0                  1     [A, C, D, E]\n",
      "1                 10  [A, D, B, C, E]\n",
      "2                 11  [A, C, D, B, E]\n",
      "3                 12  [A, D, C, B, E]\n",
      "4                  2     [A, B, D, E]\n",
      "5                  3     [A, B, C, E]\n",
      "6                  4        [A, D, E]\n",
      "7                  5        [A, B, E]\n",
      "8                  6           [A, E]\n",
      "9                  7  [A, B, C, D, E]\n",
      "10                 8  [A, B, D, C, E]\n",
      "11                 9  [A, C, B, D, E]\n",
      "   case:concept:name              concept:name\n",
      "0                  1           [A, B, C, D, E]\n",
      "1                 10     [A, B, C, B, C, D, E]\n",
      "2                 11     [A, B, C, D, C, D, E]\n",
      "3                 12  [A, B, C, D, B, C, D, E]\n",
      "4                 13              [A, C, D, E]\n",
      "5                 14              [A, B, D, E]\n",
      "6                 15              [A, B, C, E]\n",
      "7                 16                 [A, D, E]\n",
      "8                 17                 [A, B, E]\n",
      "9                 18                    [A, E]\n",
      "10                 2           [A, B, D, C, E]\n",
      "11                 3           [A, C, B, D, E]\n",
      "12                 4           [A, D, B, C, E]\n",
      "13                 5           [A, C, D, B, E]\n",
      "14                 6           [A, D, C, B, E]\n",
      "15                 7        [A, B, B, C, D, E]\n",
      "16                 8        [A, B, C, C, D, E]\n",
      "17                 9        [A, B, C, D, D, E]\n"
     ]
    }
   ],
   "source": [
    "for i in logs:\n",
    "    print(i)"
   ]
  },
  {
   "cell_type": "code",
   "execution_count": 6,
   "id": "d5113481",
   "metadata": {},
   "outputs": [],
   "source": [
    "#Change to string format\n",
    "for i in logs:\n",
    "    i[\"strings\"] = i[\"concept:name\"].apply(lambda x: ''.join(x))"
   ]
  },
  {
   "cell_type": "code",
   "execution_count": 7,
   "id": "cce0ece7",
   "metadata": {},
   "outputs": [],
   "source": [
    "#Calculate distance matrix based on Levenshtein Distance\n",
    "from Levenshtein import distance\n",
    "\n",
    "def Lev(logVar):\n",
    "    \n",
    "    List = logVar[\"strings\"]\n",
    "\n",
    "    n = len(List)\n",
    "    dist_matrix = np.zeros((n,n))    # initialize distance matrix to a square of zeros\n",
    "\n",
    "    for i in range(n):\n",
    "        if i % 200 == 0:\n",
    "            print(i)\n",
    "        for j in range(i, n):\n",
    "            dist_matrix[i,j] = distance(List[i], List[j])\n",
    "            dist_matrix[j,i] = dist_matrix[i,j]       # for the symmetric part, no computation\n",
    "\n",
    "    return dist_matrix"
   ]
  },
  {
   "cell_type": "code",
   "execution_count": 8,
   "id": "48beb98d",
   "metadata": {},
   "outputs": [
    {
     "data": {
      "text/plain": [
       "[  case:concept:name     concept:name strings\n",
       " 0                 1  [A, B, C, D, E]   ABCDE\n",
       " 1                 2  [A, B, D, C, E]   ABDCE\n",
       " 2                 3  [A, C, B, D, E]   ACBDE\n",
       " 3                 4  [A, D, B, C, E]   ADBCE\n",
       " 4                 5  [A, C, D, B, E]   ACDBE\n",
       " 5                 6  [A, D, C, B, E]   ADCBE,\n",
       "   case:concept:name              concept:name   strings\n",
       " 0                 1        [A, B, B, C, D, E]    ABBCDE\n",
       " 1                 2        [A, B, C, C, D, E]    ABCCDE\n",
       " 2                 3        [A, B, C, D, D, E]    ABCDDE\n",
       " 3                 4     [A, B, C, B, C, D, E]   ABCBCDE\n",
       " 4                 5     [A, B, C, D, C, D, E]   ABCDCDE\n",
       " 5                 6  [A, B, C, D, B, C, D, E]  ABCDBCDE,\n",
       "   case:concept:name  concept:name strings\n",
       " 0                 1  [A, C, D, E]    ACDE\n",
       " 1                 2  [A, B, D, E]    ABDE\n",
       " 2                 3  [A, B, C, E]    ABCE\n",
       " 3                 4     [A, D, E]     ADE\n",
       " 4                 5     [A, B, E]     ABE\n",
       " 5                 6        [A, E]      AE,\n",
       "    case:concept:name              concept:name   strings\n",
       " 0                  1           [A, B, C, D, E]     ABCDE\n",
       " 1                 10     [A, B, C, B, C, D, E]   ABCBCDE\n",
       " 2                 11     [A, B, C, D, C, D, E]   ABCDCDE\n",
       " 3                 12  [A, B, C, D, B, C, D, E]  ABCDBCDE\n",
       " 4                  2           [A, B, D, C, E]     ABDCE\n",
       " 5                  3           [A, C, B, D, E]     ACBDE\n",
       " 6                  4           [A, D, B, C, E]     ADBCE\n",
       " 7                  5           [A, C, D, B, E]     ACDBE\n",
       " 8                  6           [A, D, C, B, E]     ADCBE\n",
       " 9                  7        [A, B, B, C, D, E]    ABBCDE\n",
       " 10                 8        [A, B, C, C, D, E]    ABCCDE\n",
       " 11                 9        [A, B, C, D, D, E]    ABCDDE,\n",
       "    case:concept:name              concept:name   strings\n",
       " 0                  1        [A, B, B, C, D, E]    ABBCDE\n",
       " 1                 10                 [A, D, E]       ADE\n",
       " 2                 11                 [A, B, E]       ABE\n",
       " 3                 12                    [A, E]        AE\n",
       " 4                  2        [A, B, C, C, D, E]    ABCCDE\n",
       " 5                  3        [A, B, C, D, D, E]    ABCDDE\n",
       " 6                  4     [A, B, C, B, C, D, E]   ABCBCDE\n",
       " 7                  5     [A, B, C, D, C, D, E]   ABCDCDE\n",
       " 8                  6  [A, B, C, D, B, C, D, E]  ABCDBCDE\n",
       " 9                  7              [A, C, D, E]      ACDE\n",
       " 10                 8              [A, B, D, E]      ABDE\n",
       " 11                 9              [A, B, C, E]      ABCE,\n",
       "    case:concept:name     concept:name strings\n",
       " 0                  1     [A, C, D, E]    ACDE\n",
       " 1                 10  [A, D, B, C, E]   ADBCE\n",
       " 2                 11  [A, C, D, B, E]   ACDBE\n",
       " 3                 12  [A, D, C, B, E]   ADCBE\n",
       " 4                  2     [A, B, D, E]    ABDE\n",
       " 5                  3     [A, B, C, E]    ABCE\n",
       " 6                  4        [A, D, E]     ADE\n",
       " 7                  5        [A, B, E]     ABE\n",
       " 8                  6           [A, E]      AE\n",
       " 9                  7  [A, B, C, D, E]   ABCDE\n",
       " 10                 8  [A, B, D, C, E]   ABDCE\n",
       " 11                 9  [A, C, B, D, E]   ACBDE,\n",
       "    case:concept:name              concept:name   strings\n",
       " 0                  1           [A, B, C, D, E]     ABCDE\n",
       " 1                 10     [A, B, C, B, C, D, E]   ABCBCDE\n",
       " 2                 11     [A, B, C, D, C, D, E]   ABCDCDE\n",
       " 3                 12  [A, B, C, D, B, C, D, E]  ABCDBCDE\n",
       " 4                 13              [A, C, D, E]      ACDE\n",
       " 5                 14              [A, B, D, E]      ABDE\n",
       " 6                 15              [A, B, C, E]      ABCE\n",
       " 7                 16                 [A, D, E]       ADE\n",
       " 8                 17                 [A, B, E]       ABE\n",
       " 9                 18                    [A, E]        AE\n",
       " 10                 2           [A, B, D, C, E]     ABDCE\n",
       " 11                 3           [A, C, B, D, E]     ACBDE\n",
       " 12                 4           [A, D, B, C, E]     ADBCE\n",
       " 13                 5           [A, C, D, B, E]     ACDBE\n",
       " 14                 6           [A, D, C, B, E]     ADCBE\n",
       " 15                 7        [A, B, B, C, D, E]    ABBCDE\n",
       " 16                 8        [A, B, C, C, D, E]    ABCCDE\n",
       " 17                 9        [A, B, C, D, D, E]    ABCDDE]"
      ]
     },
     "execution_count": 8,
     "metadata": {},
     "output_type": "execute_result"
    }
   ],
   "source": [
    "logs"
   ]
  },
  {
   "cell_type": "code",
   "execution_count": 9,
   "id": "1922951a",
   "metadata": {},
   "outputs": [
    {
     "name": "stdout",
     "output_type": "stream",
     "text": [
      "0\n",
      "0\n",
      "0\n",
      "0\n",
      "0\n",
      "0\n",
      "0\n"
     ]
    }
   ],
   "source": [
    "#Change to string format\n",
    "logs_dis = ['Order_log_dis', 'Loops_log_dis', 'Skips_log_dis', 'Order_Loops_log_dis', 'Loops_Skips_log_dis', 'Skips_Order_log_dis', 'Order_Loops_Skips_log_dis']\n",
    "\n",
    "for i in range(len(logs)):\n",
    "    logs_dis[i] = Lev(logs[i])"
   ]
  },
  {
   "cell_type": "code",
   "execution_count": 10,
   "id": "74902afb",
   "metadata": {},
   "outputs": [
    {
     "name": "stdout",
     "output_type": "stream",
     "text": [
      "0: 1.6666666666666667\n",
      "1: 1.1666666666666667\n",
      "2: 1.1666666666666667\n",
      "3: 2.0\n",
      "4: 2.25\n",
      "5: 1.7083333333333333\n",
      "6: 2.2037037037037037\n"
     ]
    }
   ],
   "source": [
    "#Average Levenshtein distance\n",
    "for i in range(len(logs_dis)):\n",
    "    variety = np.average(logs_dis[i])\n",
    "    print(str(i)+':', variety)"
   ]
  },
  {
   "cell_type": "markdown",
   "id": "6bd0399e",
   "metadata": {},
   "source": [
    "# Variety"
   ]
  },
  {
   "cell_type": "code",
   "execution_count": 11,
   "id": "26ac7055",
   "metadata": {},
   "outputs": [],
   "source": [
    "#Calculate linkage Matrix\n",
    "from scipy.cluster.hierarchy import linkage\n",
    "\n",
    "#Distances after clustering\n",
    "from scipy.cluster.hierarchy import cophenet\n",
    "from scipy.spatial.distance import squareform\n",
    "\n",
    "#For Evaluation\n",
    "from scipy.integrate import simpson\n",
    "from numpy import trapz\n",
    "import scipy.stats\n",
    "from scipy.cluster.hierarchy import fcluster"
   ]
  },
  {
   "cell_type": "code",
   "execution_count": 12,
   "id": "5a1a42cc",
   "metadata": {},
   "outputs": [],
   "source": [
    "#Change to string format\n",
    "logs_link = ['Order_log_link', 'Loops_log_link', 'Skips_log_link', 'Order_Loops_log_link', 'Loops_Skips_log_link', 'Skips_Order_log_link', 'Order_Loops_Skips_log_link']\n",
    "\n",
    "for i in range(len(logs_dis)):\n",
    "    #logs_link[i] = linkage(logs_dis[i], \"complete\")\n",
    "    logs_link[i] = linkage(squareform(logs_dis[i]), \"centroid\")"
   ]
  },
  {
   "cell_type": "code",
   "execution_count": 17,
   "id": "13e36a3e",
   "metadata": {},
   "outputs": [
    {
     "data": {
      "text/plain": [
       "[array([[0.        , 1.        , 2.        , 2.        ],\n",
       "        [2.        , 6.        , 1.73205081, 3.        ],\n",
       "        [3.        , 7.        , 1.63299316, 4.        ],\n",
       "        [4.        , 8.        , 1.58113883, 5.        ],\n",
       "        [5.        , 9.        , 1.54919334, 6.        ]]),\n",
       " array([[0.        , 1.        , 1.        , 2.        ],\n",
       "        [3.        , 6.        , 0.8660254 , 3.        ],\n",
       "        [4.        , 5.        , 1.        , 2.        ],\n",
       "        [7.        , 8.        , 1.38443731, 5.        ],\n",
       "        [2.        , 9.        , 1.42828569, 6.        ]]),\n",
       " array([[0.        , 1.        , 1.        , 2.        ],\n",
       "        [3.        , 6.        , 0.8660254 , 3.        ],\n",
       "        [4.        , 5.        , 1.        , 2.        ],\n",
       "        [7.        , 8.        , 1.38443731, 5.        ],\n",
       "        [2.        , 9.        , 1.42828569, 6.        ]]),\n",
       " array([[ 0.        ,  9.        ,  1.        ,  2.        ],\n",
       "        [10.        , 12.        ,  0.8660254 ,  3.        ],\n",
       "        [ 1.        ,  2.        ,  1.        ,  2.        ],\n",
       "        [ 3.        , 14.        ,  0.8660254 ,  3.        ],\n",
       "        [11.        , 13.        ,  1.29099445,  4.        ],\n",
       "        [15.        , 16.        ,  1.58771324,  7.        ],\n",
       "        [ 6.        ,  7.        ,  2.        ,  2.        ],\n",
       "        [ 4.        , 18.        ,  1.73205081,  3.        ],\n",
       "        [ 5.        , 19.        ,  1.63299316,  4.        ],\n",
       "        [ 8.        , 20.        ,  1.58113883,  5.        ],\n",
       "        [17.        , 21.        ,  2.18529408, 12.        ]]),\n",
       " array([[ 0.        ,  4.        ,  1.        ,  2.        ],\n",
       "        [ 6.        , 12.        ,  0.8660254 ,  3.        ],\n",
       "        [ 9.        , 10.        ,  1.        ,  2.        ],\n",
       "        [ 1.        , 14.        ,  0.8660254 ,  3.        ],\n",
       "        [ 7.        ,  8.        ,  1.        ,  2.        ],\n",
       "        [ 2.        ,  3.        ,  1.        ,  2.        ],\n",
       "        [13.        , 16.        ,  1.38443731,  5.        ],\n",
       "        [15.        , 17.        ,  1.38443731,  5.        ],\n",
       "        [ 5.        , 18.        ,  1.42828569,  6.        ],\n",
       "        [11.        , 19.        ,  1.42828569,  6.        ],\n",
       "        [20.        , 21.        ,  3.22317993, 12.        ]]),\n",
       " array([[ 0.        ,  2.        ,  1.        ,  2.        ],\n",
       "        [ 1.        ,  5.        ,  1.        ,  2.        ],\n",
       "        [ 7.        ,  8.        ,  1.        ,  2.        ],\n",
       "        [ 6.        , 14.        ,  0.8660254 ,  3.        ],\n",
       "        [ 4.        ,  9.        ,  1.        ,  2.        ],\n",
       "        [12.        , 16.        ,  1.41421356,  4.        ],\n",
       "        [11.        , 17.        ,  1.32287566,  5.        ],\n",
       "        [10.        , 13.        ,  1.5       ,  3.        ],\n",
       "        [18.        , 19.        ,  1.58745079,  8.        ],\n",
       "        [15.        , 20.        ,  1.67860309, 11.        ],\n",
       "        [ 3.        , 21.        ,  1.80220251, 12.        ]]),\n",
       " array([[ 0.        ,  4.        ,  1.        ,  2.        ],\n",
       "        [ 5.        , 18.        ,  0.8660254 ,  3.        ],\n",
       "        [16.        , 17.        ,  1.        ,  2.        ],\n",
       "        [ 2.        , 20.        ,  0.8660254 ,  3.        ],\n",
       "        [ 8.        ,  9.        ,  1.        ,  2.        ],\n",
       "        [ 7.        , 22.        ,  0.8660254 ,  3.        ],\n",
       "        [ 1.        ,  3.        ,  1.        ,  2.        ],\n",
       "        [ 6.        , 10.        ,  1.        ,  2.        ],\n",
       "        [11.        , 19.        ,  1.29099445,  4.        ],\n",
       "        [21.        , 24.        ,  1.38443731,  5.        ],\n",
       "        [15.        , 27.        ,  1.42828569,  6.        ],\n",
       "        [25.        , 26.        ,  1.43614066,  6.        ],\n",
       "        [23.        , 29.        ,  1.70782513,  9.        ],\n",
       "        [13.        , 30.        ,  1.84591641, 10.        ],\n",
       "        [12.        , 31.        ,  1.77763888, 11.        ],\n",
       "        [14.        , 32.        ,  1.80220251, 12.        ],\n",
       "        [28.        , 33.        ,  2.65492205, 18.        ]])]"
      ]
     },
     "execution_count": 17,
     "metadata": {},
     "output_type": "execute_result"
    }
   ],
   "source": [
    "logs_link"
   ]
  },
  {
   "cell_type": "code",
   "execution_count": 13,
   "id": "3b42941c",
   "metadata": {},
   "outputs": [],
   "source": [
    "#Calculate MST --> Variety\n",
    "\n",
    "def mst(linkage_matrix):\n",
    "    x = 0\n",
    "    for i in linkage_matrix:\n",
    "        x += i[2]\n",
    "    return x\n"
   ]
  },
  {
   "cell_type": "code",
   "execution_count": 14,
   "id": "931abba0",
   "metadata": {},
   "outputs": [
    {
     "name": "stdout",
     "output_type": "stream",
     "text": [
      "0: 8.495376137991485\n",
      "1: 5.678748399979353\n",
      "2: 5.678748399979353\n",
      "3: 15.742235373338723\n",
      "4: 14.580676734260996\n",
      "5: 14.171371007438497\n",
      "6: 22.926439305938665\n"
     ]
    }
   ],
   "source": [
    "#logs = [Order_log, Loops_log, Skips_log, Order_Loops_log, Loops_Skips_log, Skips_Order_log, Order_Loops_Skips_log]\n",
    "\n",
    "for i in range(len(logs_link)):\n",
    "    variety = mst(logs_link[i])\n",
    "    print(str(i)+':', variety)"
   ]
  }
 ],
 "metadata": {
  "kernelspec": {
   "display_name": "Python 3 (ipykernel)",
   "language": "python",
   "name": "python3"
  },
  "language_info": {
   "codemirror_mode": {
    "name": "ipython",
    "version": 3
   },
   "file_extension": ".py",
   "mimetype": "text/x-python",
   "name": "python",
   "nbconvert_exporter": "python",
   "pygments_lexer": "ipython3",
   "version": "3.9.13"
  }
 },
 "nbformat": 4,
 "nbformat_minor": 5
}

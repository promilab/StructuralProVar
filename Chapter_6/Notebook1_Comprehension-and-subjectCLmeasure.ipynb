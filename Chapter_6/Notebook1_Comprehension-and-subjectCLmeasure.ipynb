{
 "cells": [
  {
   "cell_type": "code",
   "execution_count": 1,
   "id": "f0a4ce0b",
   "metadata": {},
   "outputs": [],
   "source": [
    "import pandas as pd\n",
    "import random\n",
    "import os\n",
    "import copy\n",
    "import numpy as np\n",
    "import json\n",
    "import re\n",
    "import scipy.stats as stats\n",
    "import matplotlib.pyplot as plt\n",
    "from scipy.stats import wilcoxon\n",
    "import seaborn as sns\n",
    "from functools import reduce\n",
    "from constants import diffMappingToScore, questions\n",
    "#from utils import read_json"
   ]
  },
  {
   "cell_type": "code",
   "execution_count": 2,
   "id": "cc6b9996",
   "metadata": {},
   "outputs": [],
   "source": [
    "#####################\n",
    "# This notebook computes the following measures\n",
    "#\n",
    "#  - Comprehension accuracy\n",
    "#  - Comprehension efficiency (response time)\n",
    "#  - Perceived difficulty\n",
    "#\n",
    "#######################"
   ]
  },
  {
   "cell_type": "code",
   "execution_count": 3,
   "id": "16a89898",
   "metadata": {},
   "outputs": [],
   "source": [
    "def addQuestionInfo(allData,questions):\n",
    "    \n",
    "    #change the type of questionID to integer\n",
    "    allData['questionID'] = allData['questionID'].astype('int')\n",
    "    \n",
    "    #extend the columns of questionnaireData with those in DataFrame(questions) based the common question ID\n",
    "    allData = allData.merge(pd.DataFrame(questions), left_on=['questionID'], right_on=['id'])\n",
    "    \n",
    "    return allData"
   ]
  },
  {
   "cell_type": "code",
   "execution_count": 4,
   "id": "3e2a7773",
   "metadata": {},
   "outputs": [],
   "source": [
    "def read_json(path):\n",
    "    with open(path, encoding='utf-8') as inFile:\n",
    "        return json.load(inFile)\n",
    "    \n",
    "\n",
    "def answeringAccuracy(allData,grouper):\n",
    "    \n",
    "    #compute answer accuracy as 1 if x['questionAnswer']==x['ExpectedAnswer'] else 0\n",
    "    allData[\"AnswerAccuracy\"] = allData.apply(lambda x: 1 if x['questionAnswer']==x['ExpectedAnswer'] else 0, axis=1)\n",
    "    \n",
    "    #group by grouper and compute mean AnswerAccuracy\n",
    "    allData = allData.groupby(grouper,as_index=False).agg({'AnswerAccuracy':'mean'})\n",
    "    \n",
    "    return allData\n",
    "\n",
    "\n",
    "def timeInterval(x):\n",
    "    return x.iloc[-1]-x.iloc[0]\n",
    "\n",
    "def responseTime(allData):\n",
    "    \n",
    "    #goup by questionID and Typ1, Type2 and Type3\n",
    "    #Grouping by questionID allows us to compute timeInterval() by substracting the last timestamp for the question from the first one\n",
    "    #Grouping by 'Type1','Type2','Type3' is done just to keep track of these attributes for further grouping. The grouping by questionID is already at the most fine-grained question level\n",
    "    allData = allData.groupby(['questionID','participant','Type1','Type2','Type3'],as_index=False).agg(timeInterval=('questionTimestamp', timeInterval))\n",
    "\n",
    "    return allData\n",
    "\n",
    "\n",
    "def diffToScore(x):\n",
    "    return diffMappingToScore[x]\n",
    "\n",
    "def perceivedDifficulty(allData,grouper):\n",
    "    \n",
    "    allData['difficultyScore'] = allData.apply(lambda x: diffToScore(x['questionAnswer']),axis=1)\n",
    "    \n",
    "    #group by grouper\n",
    "    allData = allData.groupby(grouper,as_index=False).agg({'difficultyScore':'mean'})\n",
    "\n",
    "    return allData\n"
   ]
  },
  {
   "cell_type": "code",
   "execution_count": 5,
   "id": "33abeba1",
   "metadata": {},
   "outputs": [],
   "source": [
    "#######\n",
    "#\n",
    "# Loading and Preprocessing \n",
    "#\n",
    "######"
   ]
  },
  {
   "cell_type": "code",
   "execution_count": 9,
   "id": "07772f19",
   "metadata": {},
   "outputs": [
    {
     "name": "stdout",
     "output_type": "stream",
     "text": [
      "/Users/amineabbad-andaloussi/Desktop/Postdoc 2022/modularization/Cle/analysis/data/SP10-no/EyeMind_EyeMind_1673613372126_collected-data.json\n",
      "/Users/amineabbad-andaloussi/Desktop/Postdoc 2022/modularization/Cle/analysis/data/SP2-no/EyeMind_EyeMind_1673434034078_collected-data.json\n",
      "/Users/amineabbad-andaloussi/Desktop/Postdoc 2022/modularization/Cle/analysis/data/KP7-no/EyeMind_EyeMind_1674568732308_collected-data.json\n",
      "/Users/amineabbad-andaloussi/Desktop/Postdoc 2022/modularization/Cle/analysis/data/SP14-no/EyeMind_EyeMind_1673877676688_collected-data.json\n",
      "/Users/amineabbad-andaloussi/Desktop/Postdoc 2022/modularization/Cle/analysis/data/SP20-no/EyeMind_EyeMind_1675429001224_collected-data.json\n",
      "/Users/amineabbad-andaloussi/Desktop/Postdoc 2022/modularization/Cle/analysis/data/SP6-no/EyeMind_EyeMind_1673520695482_collected-data.json\n",
      "/Users/amineabbad-andaloussi/Desktop/Postdoc 2022/modularization/Cle/analysis/data/KP3-no/EyeMind_EyeMind_1674491435016_collected-data.json\n",
      "/Users/amineabbad-andaloussi/Desktop/Postdoc 2022/modularization/Cle/analysis/data/SP15-no/EyeMind_EyeMind_1673891753375_collected-data.json\n",
      "/Users/amineabbad-andaloussi/Desktop/Postdoc 2022/modularization/Cle/analysis/data/SP21-no/EyeMind_EyeMind_1675692020906_collected-data.json\n",
      "/Users/amineabbad-andaloussi/Desktop/Postdoc 2022/modularization/Cle/analysis/data/SP7-no/EyeMind_EyeMind_1673539197023_collected-data.json\n",
      "/Users/amineabbad-andaloussi/Desktop/Postdoc 2022/modularization/Cle/analysis/data/KP2-no/EyeMind_EyeMind_1674487735527_collected-data.json\n",
      "/Users/amineabbad-andaloussi/Desktop/Postdoc 2022/modularization/Cle/analysis/data/SP11-no/EyeMind_EyeMind_1673620819578_collected-data.json\n",
      "/Users/amineabbad-andaloussi/Desktop/Postdoc 2022/modularization/Cle/analysis/data/SP3-no/EyeMind_EyeMind_1673447744071_collected-data.json\n",
      "/Users/amineabbad-andaloussi/Desktop/Postdoc 2022/modularization/Cle/analysis/data/KP6-no/EyeMind_EyeMind_1674557681526_collected-data.json\n",
      "/Users/amineabbad-andaloussi/Desktop/Postdoc 2022/modularization/Cle/analysis/data/KP24-no/EyeMind_EyeMind_1674823206160_collected-data.json\n",
      "/Users/amineabbad-andaloussi/Desktop/Postdoc 2022/modularization/Cle/analysis/data/SP8-no/EyeMind_EyeMind_1673601888009_collected-data.json\n",
      "/Users/amineabbad-andaloussi/Desktop/Postdoc 2022/modularization/Cle/analysis/data/KP10-no/EyeMind_EyeMind_1674639630314_collected-data.json\n",
      "/Users/amineabbad-andaloussi/Desktop/Postdoc 2022/modularization/Cle/analysis/data/KP9-no/EyeMind_EyeMind_1674578384653_collected-data.json\n",
      "/Users/amineabbad-andaloussi/Desktop/Postdoc 2022/modularization/Cle/analysis/data/KP14-no/EyeMind_EyeMind_1674664209767_collected-data.json\n",
      "/Users/amineabbad-andaloussi/Desktop/Postdoc 2022/modularization/Cle/analysis/data/KP20-no/EyeMind_EyeMind_1674747102905_collected-data.json\n",
      "/Users/amineabbad-andaloussi/Desktop/Postdoc 2022/modularization/Cle/analysis/data/KP8-no/EyeMind_EyeMind_1674573008098_collected-data.json\n",
      "/Users/amineabbad-andaloussi/Desktop/Postdoc 2022/modularization/Cle/analysis/data/KP15-no/EyeMind_EyeMind_1674668667713_collected-data.json\n",
      "/Users/amineabbad-andaloussi/Desktop/Postdoc 2022/modularization/Cle/analysis/data/KP21-no/EyeMind_EyeMind_1674806583785_collected-data.json\n",
      "/Users/amineabbad-andaloussi/Desktop/Postdoc 2022/modularization/Cle/analysis/data/SP9-no/EyeMind_EyeMind_1673607932277_collected-data.json\n",
      "/Users/amineabbad-andaloussi/Desktop/Postdoc 2022/modularization/Cle/analysis/data/KP11-no/EyeMind_EyeMind_1674643867484_collected-data.json\n",
      "/Users/amineabbad-andaloussi/Desktop/Postdoc 2022/modularization/Cle/analysis/data/KP16-no/EyeMind_EyeMind_1674721956398_collected-data.json\n",
      "/Users/amineabbad-andaloussi/Desktop/Postdoc 2022/modularization/Cle/analysis/data/KP22-no/EyeMind_EyeMind_1674811515606_collected-data.json\n",
      "/Users/amineabbad-andaloussi/Desktop/Postdoc 2022/modularization/Cle/analysis/data/SP18-no/EyeMind_EyeMind_1674032983808_collected-data.json\n",
      "/Users/amineabbad-andaloussi/Desktop/Postdoc 2022/modularization/Cle/analysis/data/KP12-no/EyeMind_EyeMind_1674655397191_collected-data.json\n",
      "/Users/amineabbad-andaloussi/Desktop/Postdoc 2022/modularization/Cle/analysis/data/SP19-no/EyeMind_EyeMind_1674038966430_collected-data.json\n",
      "/Users/amineabbad-andaloussi/Desktop/Postdoc 2022/modularization/Cle/analysis/data/KP13-no/EyeMind_EyeMind_1674659668246_collected-data.json\n",
      "/Users/amineabbad-andaloussi/Desktop/Postdoc 2022/modularization/Cle/analysis/data/KP17-no/EyeMind_EyeMind_1674725603802_collected-data.json\n",
      "/Users/amineabbad-andaloussi/Desktop/Postdoc 2022/modularization/Cle/analysis/data/KP23-no/EyeMind_EyeMind_1674817301486_collected-data.json\n",
      "/Users/amineabbad-andaloussi/Desktop/Postdoc 2022/modularization/Cle/analysis/data/SP16-no/EyeMind_EyeMind_1673946910288_collected-data.json\n",
      "/Users/amineabbad-andaloussi/Desktop/Postdoc 2022/modularization/Cle/analysis/data/SP22-no/EyeMind_EyeMind_1675695929534_collected-data.json\n",
      "/Users/amineabbad-andaloussi/Desktop/Postdoc 2022/modularization/Cle/analysis/data/SP4-no/EyeMind_EyeMind_1673452438562_collected-data.json\n",
      "/Users/amineabbad-andaloussi/Desktop/Postdoc 2022/modularization/Cle/analysis/data/KP1-no/EyeMind_EyeMind_1674478819228_collected-data.json\n",
      "/Users/amineabbad-andaloussi/Desktop/Postdoc 2022/modularization/Cle/analysis/data/SP12-no/EyeMind_EyeMind_1673691728365_collected-data.json\n",
      "/Users/amineabbad-andaloussi/Desktop/Postdoc 2022/modularization/Cle/analysis/data/KP5-no/EyeMind_EyeMind_1674554274345_collected-data.json\n",
      "/Users/amineabbad-andaloussi/Desktop/Postdoc 2022/modularization/Cle/analysis/data/KP18-no/EyeMind_EyeMind_1674731371870_collected-data.json\n",
      "/Users/amineabbad-andaloussi/Desktop/Postdoc 2022/modularization/Cle/analysis/data/SP13-no/EyeMind_EyeMind_1673874501091_collected-data.json\n",
      "/Users/amineabbad-andaloussi/Desktop/Postdoc 2022/modularization/Cle/analysis/data/SP1-no/EyeMind_EyeMind_1673428481933_collected-data.json\n",
      "/Users/amineabbad-andaloussi/Desktop/Postdoc 2022/modularization/Cle/analysis/data/KP4-no/EyeMind_EyeMind_1674551500375_collected-data.json\n",
      "/Users/amineabbad-andaloussi/Desktop/Postdoc 2022/modularization/Cle/analysis/data/KP19-no/EyeMind_EyeMind_1674737722501_collected-data.json\n",
      "/Users/amineabbad-andaloussi/Desktop/Postdoc 2022/modularization/Cle/analysis/data/SP17-no/EyeMind_EyeMind_1673952170200_collected-data.json\n",
      "/Users/amineabbad-andaloussi/Desktop/Postdoc 2022/modularization/Cle/analysis/data/SP5-no/EyeMind_EyeMind_1673515605601_collected-data.json\n"
     ]
    }
   ],
   "source": [
    "#loading the data\n",
    "directory = \"/Users/amineabbad-andaloussi/Desktop/Postdoc 2022/modularization/Cle/analysis/data/\"\n",
    "pattern = re.compile(\"EyeMind_EyeMind_(.+?)_collected-data.json\")\n",
    "allData = None\n",
    "\n",
    "\n",
    "for subdir, dirs, files in os.walk(directory):\n",
    "    for file in files:  \n",
    "        if pattern.match(file):\n",
    "            filename = os.path.join(subdir, file)\n",
    "            print(filename)\n",
    "            data = pd.DataFrame(read_json(filename)[\"processedGazeData\"][\"gazeData\"])\n",
    "           \n",
    "            #data[\"participant\"] = re.search('data/(.+?)\\\\\\EyeMind_EyeMind_',filename).group(1) #for windows\n",
    "            data[\"participant\"] = re.search('data/(.+?)/EyeMind_EyeMind_',filename).group(1) # for mac\n",
    "            allData = pd.concat([allData,data],axis=0)\n",
    "            \n",
    "allData = allData.reset_index(drop=True)"
   ]
  },
  {
   "cell_type": "code",
   "execution_count": 10,
   "id": "af491364",
   "metadata": {},
   "outputs": [
    {
     "data": {
      "text/html": [
       "<div>\n",
       "<style scoped>\n",
       "    .dataframe tbody tr th:only-of-type {\n",
       "        vertical-align: middle;\n",
       "    }\n",
       "\n",
       "    .dataframe tbody tr th {\n",
       "        vertical-align: top;\n",
       "    }\n",
       "\n",
       "    .dataframe thead th {\n",
       "        text-align: right;\n",
       "    }\n",
       "</style>\n",
       "<table border=\"1\" class=\"dataframe\">\n",
       "  <thead>\n",
       "    <tr style=\"text-align: right;\">\n",
       "      <th></th>\n",
       "      <th>questionTimestamp</th>\n",
       "      <th>questionEventType</th>\n",
       "      <th>questionText</th>\n",
       "      <th>questionAnswer</th>\n",
       "      <th>questionPosition</th>\n",
       "      <th>questionID</th>\n",
       "      <th>eventSource</th>\n",
       "      <th>Timestamp</th>\n",
       "      <th>validLeft</th>\n",
       "      <th>validRight</th>\n",
       "      <th>...</th>\n",
       "      <th>leftY</th>\n",
       "      <th>rightX</th>\n",
       "      <th>rightY</th>\n",
       "      <th>x</th>\n",
       "      <th>y</th>\n",
       "      <th>leftDistance</th>\n",
       "      <th>rightDistance</th>\n",
       "      <th>tabName</th>\n",
       "      <th>element</th>\n",
       "      <th>participant</th>\n",
       "    </tr>\n",
       "  </thead>\n",
       "  <tbody>\n",
       "    <tr>\n",
       "      <th>0</th>\n",
       "      <td>1.674477e+12</td>\n",
       "      <td>questionOnset</td>\n",
       "      <td>The activities \"Register arrival of container...</td>\n",
       "      <td></td>\n",
       "      <td>0.0</td>\n",
       "      <td>1</td>\n",
       "      <td>questionnaire</td>\n",
       "      <td>NaN</td>\n",
       "      <td>NaN</td>\n",
       "      <td>NaN</td>\n",
       "      <td>...</td>\n",
       "      <td>NaN</td>\n",
       "      <td>NaN</td>\n",
       "      <td>NaN</td>\n",
       "      <td>NaN</td>\n",
       "      <td>NaN</td>\n",
       "      <td>NaN</td>\n",
       "      <td>NaN</td>\n",
       "      <td></td>\n",
       "      <td></td>\n",
       "      <td>KP1-no</td>\n",
       "    </tr>\n",
       "    <tr>\n",
       "      <th>1</th>\n",
       "      <td>NaN</td>\n",
       "      <td>None</td>\n",
       "      <td>None</td>\n",
       "      <td>None</td>\n",
       "      <td>NaN</td>\n",
       "      <td>None</td>\n",
       "      <td>eye-tracker</td>\n",
       "      <td>5307403.202</td>\n",
       "      <td>0.0</td>\n",
       "      <td>0.0</td>\n",
       "      <td>...</td>\n",
       "      <td>NaN</td>\n",
       "      <td>NaN</td>\n",
       "      <td>NaN</td>\n",
       "      <td>NaN</td>\n",
       "      <td>NaN</td>\n",
       "      <td>NaN</td>\n",
       "      <td>NaN</td>\n",
       "      <td></td>\n",
       "      <td></td>\n",
       "      <td>KP1-no</td>\n",
       "    </tr>\n",
       "    <tr>\n",
       "      <th>2</th>\n",
       "      <td>NaN</td>\n",
       "      <td>None</td>\n",
       "      <td>None</td>\n",
       "      <td>None</td>\n",
       "      <td>NaN</td>\n",
       "      <td>None</td>\n",
       "      <td>eye-tracker</td>\n",
       "      <td>5307411.529</td>\n",
       "      <td>0.0</td>\n",
       "      <td>0.0</td>\n",
       "      <td>...</td>\n",
       "      <td>NaN</td>\n",
       "      <td>NaN</td>\n",
       "      <td>NaN</td>\n",
       "      <td>NaN</td>\n",
       "      <td>NaN</td>\n",
       "      <td>NaN</td>\n",
       "      <td>NaN</td>\n",
       "      <td></td>\n",
       "      <td></td>\n",
       "      <td>KP1-no</td>\n",
       "    </tr>\n",
       "    <tr>\n",
       "      <th>3</th>\n",
       "      <td>NaN</td>\n",
       "      <td>None</td>\n",
       "      <td>None</td>\n",
       "      <td>None</td>\n",
       "      <td>NaN</td>\n",
       "      <td>None</td>\n",
       "      <td>eye-tracker</td>\n",
       "      <td>5307419.884</td>\n",
       "      <td>0.0</td>\n",
       "      <td>0.0</td>\n",
       "      <td>...</td>\n",
       "      <td>NaN</td>\n",
       "      <td>NaN</td>\n",
       "      <td>NaN</td>\n",
       "      <td>NaN</td>\n",
       "      <td>NaN</td>\n",
       "      <td>NaN</td>\n",
       "      <td>NaN</td>\n",
       "      <td></td>\n",
       "      <td></td>\n",
       "      <td>KP1-no</td>\n",
       "    </tr>\n",
       "    <tr>\n",
       "      <th>4</th>\n",
       "      <td>NaN</td>\n",
       "      <td>None</td>\n",
       "      <td>None</td>\n",
       "      <td>None</td>\n",
       "      <td>NaN</td>\n",
       "      <td>None</td>\n",
       "      <td>eye-tracker</td>\n",
       "      <td>5307428.198</td>\n",
       "      <td>0.0</td>\n",
       "      <td>0.0</td>\n",
       "      <td>...</td>\n",
       "      <td>NaN</td>\n",
       "      <td>NaN</td>\n",
       "      <td>NaN</td>\n",
       "      <td>NaN</td>\n",
       "      <td>NaN</td>\n",
       "      <td>NaN</td>\n",
       "      <td>NaN</td>\n",
       "      <td></td>\n",
       "      <td></td>\n",
       "      <td>KP1-no</td>\n",
       "    </tr>\n",
       "  </tbody>\n",
       "</table>\n",
       "<p>5 rows × 29 columns</p>\n",
       "</div>"
      ],
      "text/plain": [
       "   questionTimestamp questionEventType  \\\n",
       "0       1.674477e+12     questionOnset   \n",
       "1                NaN              None   \n",
       "2                NaN              None   \n",
       "3                NaN              None   \n",
       "4                NaN              None   \n",
       "\n",
       "                                        questionText questionAnswer  \\\n",
       "0   The activities \"Register arrival of container...                  \n",
       "1                                               None           None   \n",
       "2                                               None           None   \n",
       "3                                               None           None   \n",
       "4                                               None           None   \n",
       "\n",
       "   questionPosition questionID    eventSource    Timestamp  validLeft  \\\n",
       "0               0.0          1  questionnaire          NaN        NaN   \n",
       "1               NaN       None    eye-tracker  5307403.202        0.0   \n",
       "2               NaN       None    eye-tracker  5307411.529        0.0   \n",
       "3               NaN       None    eye-tracker  5307419.884        0.0   \n",
       "4               NaN       None    eye-tracker  5307428.198        0.0   \n",
       "\n",
       "   validRight  ...  leftY  rightX  rightY   x   y leftDistance  rightDistance  \\\n",
       "0         NaN  ...    NaN     NaN     NaN NaN NaN          NaN            NaN   \n",
       "1         0.0  ...    NaN     NaN     NaN NaN NaN          NaN            NaN   \n",
       "2         0.0  ...    NaN     NaN     NaN NaN NaN          NaN            NaN   \n",
       "3         0.0  ...    NaN     NaN     NaN NaN NaN          NaN            NaN   \n",
       "4         0.0  ...    NaN     NaN     NaN NaN NaN          NaN            NaN   \n",
       "\n",
       "  tabName  element  participant  \n",
       "0                        KP1-no  \n",
       "1                        KP1-no  \n",
       "2                        KP1-no  \n",
       "3                        KP1-no  \n",
       "4                        KP1-no  \n",
       "\n",
       "[5 rows x 29 columns]"
      ]
     },
     "execution_count": 10,
     "metadata": {},
     "output_type": "execute_result"
    }
   ],
   "source": [
    "#previewing the data\n",
    "allData.head()"
   ]
  },
  {
   "cell_type": "code",
   "execution_count": 11,
   "id": "af528479",
   "metadata": {},
   "outputs": [
    {
     "data": {
      "text/plain": [
       "array(['KP1-no', 'KP10-no', 'KP11-no', 'KP12-no', 'KP13-no', 'KP14-no',\n",
       "       'KP15-no', 'KP16-no', 'KP17-no', 'KP18-no', 'KP19-no', 'KP2-no',\n",
       "       'KP20-no', 'KP21-no', 'KP22-no', 'KP23-no', 'KP24-no', 'KP3-no',\n",
       "       'KP4-no', 'KP5-no', 'KP6-no', 'KP7-no', 'KP8-no', 'KP9-no',\n",
       "       'SP1-no', 'SP10-no', 'SP11-no', 'SP12-no', 'SP13-no', 'SP14-no',\n",
       "       'SP15-no', 'SP16-no', 'SP17-no', 'SP18-no', 'SP19-no', 'SP2-no',\n",
       "       'SP20-no', 'SP21-no', 'SP22-no', 'SP3-no', 'SP4-no', 'SP5-no',\n",
       "       'SP6-no', 'SP7-no', 'SP8-no', 'SP9-no'], dtype=object)"
      ]
     },
     "execution_count": 11,
     "metadata": {},
     "output_type": "execute_result"
    }
   ],
   "source": [
    "allData[\"participant\"].unique()"
   ]
  },
  {
   "cell_type": "code",
   "execution_count": 32,
   "id": "0046569f",
   "metadata": {},
   "outputs": [],
   "source": [
    "#######################\n",
    "#\n",
    "# Comprehension Accuracy\n",
    "#\n",
    "#######################"
   ]
  },
  {
   "cell_type": "code",
   "execution_count": 33,
   "id": "95d3880f",
   "metadata": {},
   "outputs": [],
   "source": [
    "#measure specific pre-processing"
   ]
  },
  {
   "cell_type": "code",
   "execution_count": 12,
   "id": "aea43666",
   "metadata": {},
   "outputs": [],
   "source": [
    "# select rows with questionEventType='questionOffset' and 'questionID' is in the questions considered for the analysis\n",
    "ansAccData = allData.loc[(allData['questionEventType']=='questionOffset') & (allData['questionID'].isin([str(question[\"id\"]) for question in questions]))].copy(deep=True)\n",
    "\n",
    "#add question info\n",
    "ansAccData = addQuestionInfo(ansAccData,questions)\n",
    "\n",
    "#Select control-flow question type\n",
    "ansAccData = ansAccData.loc[(ansAccData['Type2'] == 'Control-flow')] "
   ]
  },
  {
   "cell_type": "code",
   "execution_count": 14,
   "id": "ce648988",
   "metadata": {
    "collapsed": true
   },
   "outputs": [
    {
     "name": "stderr",
     "output_type": "stream",
     "text": [
      "C:\\Users\\la1949\\AppData\\Local\\Temp\\ipykernel_14476\\853378133.py:5: UserWarning: Boolean Series key will be reindexed to match DataFrame index.\n",
      "  ansAccData = ansAccData.drop(ansAccData[(allData['participant'] == 'SP11-no') & (ansAccData['Type3'] == 'Exclusiveness')].index)\n"
     ]
    }
   ],
   "source": [
    "\"\"\"\n",
    "2 rows are removed for participant SP11. This concerns the questions local and global (control-flow) Exclusiveness, since the participant \n",
    "skipped the answer for the local Exclusiveness question by mistake. Hence the duration and accuracy were biased!\n",
    "\"\"\"\n",
    "ansAccData = ansAccData.drop(ansAccData[(allData['participant'] == 'SP11-no') & (ansAccData['Type3'] == 'Exclusiveness')].index)\n",
    "#ansAcc_new.shape"
   ]
  },
  {
   "cell_type": "code",
   "execution_count": 36,
   "id": "8ec0d05a",
   "metadata": {},
   "outputs": [],
   "source": [
    "##Check for nan values\n",
    "#print(ansAcc[ansAcc.isna().any(axis=1)])"
   ]
  },
  {
   "cell_type": "code",
   "execution_count": 15,
   "id": "debc439d",
   "metadata": {},
   "outputs": [
    {
     "data": {
      "text/html": [
       "<div>\n",
       "<style scoped>\n",
       "    .dataframe tbody tr th:only-of-type {\n",
       "        vertical-align: middle;\n",
       "    }\n",
       "\n",
       "    .dataframe tbody tr th {\n",
       "        vertical-align: top;\n",
       "    }\n",
       "\n",
       "    .dataframe thead th {\n",
       "        text-align: right;\n",
       "    }\n",
       "</style>\n",
       "<table border=\"1\" class=\"dataframe\">\n",
       "  <thead>\n",
       "    <tr style=\"text-align: right;\">\n",
       "      <th></th>\n",
       "      <th>participant</th>\n",
       "      <th>Type1</th>\n",
       "      <th>AnswerAccuracy</th>\n",
       "    </tr>\n",
       "  </thead>\n",
       "  <tbody>\n",
       "    <tr>\n",
       "      <th>0</th>\n",
       "      <td>KP1-no</td>\n",
       "      <td>Global</td>\n",
       "      <td>0.75</td>\n",
       "    </tr>\n",
       "    <tr>\n",
       "      <th>1</th>\n",
       "      <td>KP1-no</td>\n",
       "      <td>Local</td>\n",
       "      <td>1.00</td>\n",
       "    </tr>\n",
       "    <tr>\n",
       "      <th>2</th>\n",
       "      <td>KP10-no</td>\n",
       "      <td>Global</td>\n",
       "      <td>1.00</td>\n",
       "    </tr>\n",
       "    <tr>\n",
       "      <th>3</th>\n",
       "      <td>KP10-no</td>\n",
       "      <td>Local</td>\n",
       "      <td>1.00</td>\n",
       "    </tr>\n",
       "    <tr>\n",
       "      <th>4</th>\n",
       "      <td>KP11-no</td>\n",
       "      <td>Global</td>\n",
       "      <td>0.25</td>\n",
       "    </tr>\n",
       "    <tr>\n",
       "      <th>...</th>\n",
       "      <td>...</td>\n",
       "      <td>...</td>\n",
       "      <td>...</td>\n",
       "    </tr>\n",
       "    <tr>\n",
       "      <th>87</th>\n",
       "      <td>SP7-no</td>\n",
       "      <td>Local</td>\n",
       "      <td>1.00</td>\n",
       "    </tr>\n",
       "    <tr>\n",
       "      <th>88</th>\n",
       "      <td>SP8-no</td>\n",
       "      <td>Global</td>\n",
       "      <td>0.75</td>\n",
       "    </tr>\n",
       "    <tr>\n",
       "      <th>89</th>\n",
       "      <td>SP8-no</td>\n",
       "      <td>Local</td>\n",
       "      <td>1.00</td>\n",
       "    </tr>\n",
       "    <tr>\n",
       "      <th>90</th>\n",
       "      <td>SP9-no</td>\n",
       "      <td>Global</td>\n",
       "      <td>0.25</td>\n",
       "    </tr>\n",
       "    <tr>\n",
       "      <th>91</th>\n",
       "      <td>SP9-no</td>\n",
       "      <td>Local</td>\n",
       "      <td>1.00</td>\n",
       "    </tr>\n",
       "  </tbody>\n",
       "</table>\n",
       "<p>92 rows × 3 columns</p>\n",
       "</div>"
      ],
      "text/plain": [
       "   participant   Type1  AnswerAccuracy\n",
       "0       KP1-no  Global            0.75\n",
       "1       KP1-no   Local            1.00\n",
       "2      KP10-no  Global            1.00\n",
       "3      KP10-no   Local            1.00\n",
       "4      KP11-no  Global            0.25\n",
       "..         ...     ...             ...\n",
       "87      SP7-no   Local            1.00\n",
       "88      SP8-no  Global            0.75\n",
       "89      SP8-no   Local            1.00\n",
       "90      SP9-no  Global            0.25\n",
       "91      SP9-no   Local            1.00\n",
       "\n",
       "[92 rows x 3 columns]"
      ]
     },
     "execution_count": 15,
     "metadata": {},
     "output_type": "execute_result"
    }
   ],
   "source": [
    "# Example query: For each participant, we obtain one aggregated score for local questions and one aggregate score for global questions\n",
    "answeringAccuracy(ansAccData,['participant','Type1'])"
   ]
  },
  {
   "cell_type": "code",
   "execution_count": 38,
   "id": "5e95227d",
   "metadata": {},
   "outputs": [],
   "source": [
    "# Descriptives"
   ]
  },
  {
   "cell_type": "code",
   "execution_count": 37,
   "id": "1434e9a7",
   "metadata": {},
   "outputs": [
    {
     "data": {
      "text/html": [
       "<div>\n",
       "<style scoped>\n",
       "    .dataframe tbody tr th:only-of-type {\n",
       "        vertical-align: middle;\n",
       "    }\n",
       "\n",
       "    .dataframe tbody tr th {\n",
       "        vertical-align: top;\n",
       "    }\n",
       "\n",
       "    .dataframe thead th {\n",
       "        text-align: right;\n",
       "    }\n",
       "</style>\n",
       "<table border=\"1\" class=\"dataframe\">\n",
       "  <thead>\n",
       "    <tr style=\"text-align: right;\">\n",
       "      <th></th>\n",
       "      <th>AnswerAccuracy</th>\n",
       "    </tr>\n",
       "    <tr>\n",
       "      <th>Type1</th>\n",
       "      <th></th>\n",
       "    </tr>\n",
       "  </thead>\n",
       "  <tbody>\n",
       "    <tr>\n",
       "      <th>Global</th>\n",
       "      <td>0.739130</td>\n",
       "    </tr>\n",
       "    <tr>\n",
       "      <th>Local</th>\n",
       "      <td>0.978261</td>\n",
       "    </tr>\n",
       "  </tbody>\n",
       "</table>\n",
       "</div>"
      ],
      "text/plain": [
       "        AnswerAccuracy\n",
       "Type1                 \n",
       "Global        0.739130\n",
       "Local         0.978261"
      ]
     },
     "execution_count": 37,
     "metadata": {},
     "output_type": "execute_result"
    }
   ],
   "source": [
    "#Calculate mean per participant\n",
    "ansAcc_participant = answeringAccuracy(ansAccData,['participant','Type1', 'Type2'])\n",
    "#Calculate descriptives\n",
    "ansAcc_participant.groupby('Type1').agg({'AnswerAccuracy':'mean'})"
   ]
  },
  {
   "cell_type": "code",
   "execution_count": 41,
   "id": "02ddde44",
   "metadata": {},
   "outputs": [],
   "source": [
    "# Inferentials"
   ]
  },
  {
   "cell_type": "code",
   "execution_count": 38,
   "id": "2a43ff87",
   "metadata": {},
   "outputs": [],
   "source": [
    "# Get a mean value for each participant\n",
    "ansAcc_participant = answeringAccuracy(ansAccData,['participant','Type1', 'Type2'])"
   ]
  },
  {
   "cell_type": "code",
   "execution_count": 39,
   "id": "8f7230ef",
   "metadata": {},
   "outputs": [
    {
     "name": "stdout",
     "output_type": "stream",
     "text": [
      "46 46\n",
      "46\n"
     ]
    },
    {
     "name": "stderr",
     "output_type": "stream",
     "text": [
      "C:\\Users\\la1949\\Anaconda3\\lib\\site-packages\\scipy\\stats\\_morestats.py:3255: UserWarning: Exact p-value calculation does not work if there are zeros. Switching to normal approximation.\n",
      "  warnings.warn(\"Exact p-value calculation does not work if there are \"\n"
     ]
    },
    {
     "data": {
      "text/plain": [
       "WilcoxonResult(statistic=0.0, pvalue=6.108386720026067e-07)"
      ]
     },
     "execution_count": 39,
     "metadata": {},
     "output_type": "execute_result"
    }
   ],
   "source": [
    "#control-flow\n",
    "ansAcc_cflow_Global = ansAcc_participant.loc[(ansAcc_participant[\"Type1\"]=='Global')]\n",
    "ansAcc_cflow_Local = ansAcc_participant.loc[(ansAcc_participant[\"Type1\"]=='Local')]\n",
    "ansAccuracy_cflow_merge = ansAcc_cflow_Global.merge(ansAcc_cflow_Local, on=['participant','Type2'], suffixes=('_global', '_local'), how='inner')\n",
    "\n",
    "print(len(ansAcc_cflow_Global), len(ansAcc_cflow_Local)) \n",
    "print(len(ansAccuracy_cflow_merge))\n",
    "\n",
    "stats.wilcoxon(ansAccuracy_cflow_merge['AnswerAccuracy_global'], ansAccuracy_cflow_merge['AnswerAccuracy_local'],alternative='less')"
   ]
  },
  {
   "cell_type": "code",
   "execution_count": 44,
   "id": "89b9d5fd",
   "metadata": {},
   "outputs": [],
   "source": [
    "######################\n",
    "#\n",
    "# Comprehension efficiency (Response time)\n",
    "#\n",
    "######################"
   ]
  },
  {
   "cell_type": "code",
   "execution_count": 45,
   "id": "f00e37e4",
   "metadata": {},
   "outputs": [],
   "source": [
    "#measure specific pre-processing"
   ]
  },
  {
   "cell_type": "code",
   "execution_count": 40,
   "id": "289c0d84",
   "metadata": {},
   "outputs": [],
   "source": [
    "# select rows with 'questionID' is in the questions considered for the analysis\n",
    "resTimeData = allData.loc[(allData['questionID'].isin([str(question[\"id\"]) for question in questions]))].copy(deep=True)\n",
    "    \n",
    "#add question info\n",
    "resTimeData = addQuestionInfo(resTimeData,questions)\n",
    "\n",
    "#Select control-flow question type\n",
    "resTimeData = resTimeData.loc[(resTimeData['Type2'] == 'Control-flow')] "
   ]
  },
  {
   "cell_type": "code",
   "execution_count": 41,
   "id": "2a02ab07",
   "metadata": {},
   "outputs": [
    {
     "name": "stdout",
     "output_type": "stream",
     "text": [
      "(732, 38)\n"
     ]
    }
   ],
   "source": [
    "\"\"\"\n",
    "2 rows are removed for participant SP11. This concerns the questions local and global (control-flow) Exclusiveness, since the participant \n",
    "skipped the answer for the local Exclusiveness question by mistake. Hence the duration and accuracy were biased!\n",
    "\"\"\"\n",
    "resTimeData = resTimeData.drop(resTimeData[(resTimeData['participant'] == 'SP11-no') & (resTimeData['Type3'] == 'Exclusiveness')].index)\n",
    "print(resTimeData.shape)"
   ]
  },
  {
   "cell_type": "code",
   "execution_count": 42,
   "id": "0e68a7ef",
   "metadata": {},
   "outputs": [
    {
     "data": {
      "text/html": [
       "<div>\n",
       "<style scoped>\n",
       "    .dataframe tbody tr th:only-of-type {\n",
       "        vertical-align: middle;\n",
       "    }\n",
       "\n",
       "    .dataframe tbody tr th {\n",
       "        vertical-align: top;\n",
       "    }\n",
       "\n",
       "    .dataframe thead th {\n",
       "        text-align: right;\n",
       "    }\n",
       "</style>\n",
       "<table border=\"1\" class=\"dataframe\">\n",
       "  <thead>\n",
       "    <tr style=\"text-align: right;\">\n",
       "      <th></th>\n",
       "      <th>questionID</th>\n",
       "      <th>participant</th>\n",
       "      <th>Type1</th>\n",
       "      <th>Type2</th>\n",
       "      <th>Type3</th>\n",
       "      <th>timeInterval</th>\n",
       "    </tr>\n",
       "  </thead>\n",
       "  <tbody>\n",
       "    <tr>\n",
       "      <th>0</th>\n",
       "      <td>7</td>\n",
       "      <td>KP1-no</td>\n",
       "      <td>Local</td>\n",
       "      <td>Control-flow</td>\n",
       "      <td>Ordering</td>\n",
       "      <td>76380.0</td>\n",
       "    </tr>\n",
       "    <tr>\n",
       "      <th>1</th>\n",
       "      <td>7</td>\n",
       "      <td>KP10-no</td>\n",
       "      <td>Local</td>\n",
       "      <td>Control-flow</td>\n",
       "      <td>Ordering</td>\n",
       "      <td>29575.0</td>\n",
       "    </tr>\n",
       "    <tr>\n",
       "      <th>2</th>\n",
       "      <td>7</td>\n",
       "      <td>KP11-no</td>\n",
       "      <td>Local</td>\n",
       "      <td>Control-flow</td>\n",
       "      <td>Ordering</td>\n",
       "      <td>85422.0</td>\n",
       "    </tr>\n",
       "    <tr>\n",
       "      <th>3</th>\n",
       "      <td>7</td>\n",
       "      <td>KP12-no</td>\n",
       "      <td>Local</td>\n",
       "      <td>Control-flow</td>\n",
       "      <td>Ordering</td>\n",
       "      <td>39223.0</td>\n",
       "    </tr>\n",
       "    <tr>\n",
       "      <th>4</th>\n",
       "      <td>7</td>\n",
       "      <td>KP13-no</td>\n",
       "      <td>Local</td>\n",
       "      <td>Control-flow</td>\n",
       "      <td>Ordering</td>\n",
       "      <td>144094.0</td>\n",
       "    </tr>\n",
       "    <tr>\n",
       "      <th>...</th>\n",
       "      <td>...</td>\n",
       "      <td>...</td>\n",
       "      <td>...</td>\n",
       "      <td>...</td>\n",
       "      <td>...</td>\n",
       "      <td>...</td>\n",
       "    </tr>\n",
       "    <tr>\n",
       "      <th>361</th>\n",
       "      <td>28</td>\n",
       "      <td>SP5-no</td>\n",
       "      <td>Global</td>\n",
       "      <td>Control-flow</td>\n",
       "      <td>Repetition</td>\n",
       "      <td>111184.0</td>\n",
       "    </tr>\n",
       "    <tr>\n",
       "      <th>362</th>\n",
       "      <td>28</td>\n",
       "      <td>SP6-no</td>\n",
       "      <td>Global</td>\n",
       "      <td>Control-flow</td>\n",
       "      <td>Repetition</td>\n",
       "      <td>77086.0</td>\n",
       "    </tr>\n",
       "    <tr>\n",
       "      <th>363</th>\n",
       "      <td>28</td>\n",
       "      <td>SP7-no</td>\n",
       "      <td>Global</td>\n",
       "      <td>Control-flow</td>\n",
       "      <td>Repetition</td>\n",
       "      <td>129895.0</td>\n",
       "    </tr>\n",
       "    <tr>\n",
       "      <th>364</th>\n",
       "      <td>28</td>\n",
       "      <td>SP8-no</td>\n",
       "      <td>Global</td>\n",
       "      <td>Control-flow</td>\n",
       "      <td>Repetition</td>\n",
       "      <td>60026.0</td>\n",
       "    </tr>\n",
       "    <tr>\n",
       "      <th>365</th>\n",
       "      <td>28</td>\n",
       "      <td>SP9-no</td>\n",
       "      <td>Global</td>\n",
       "      <td>Control-flow</td>\n",
       "      <td>Repetition</td>\n",
       "      <td>58230.0</td>\n",
       "    </tr>\n",
       "  </tbody>\n",
       "</table>\n",
       "<p>366 rows × 6 columns</p>\n",
       "</div>"
      ],
      "text/plain": [
       "     questionID participant   Type1         Type2       Type3  timeInterval\n",
       "0             7      KP1-no   Local  Control-flow    Ordering       76380.0\n",
       "1             7     KP10-no   Local  Control-flow    Ordering       29575.0\n",
       "2             7     KP11-no   Local  Control-flow    Ordering       85422.0\n",
       "3             7     KP12-no   Local  Control-flow    Ordering       39223.0\n",
       "4             7     KP13-no   Local  Control-flow    Ordering      144094.0\n",
       "..          ...         ...     ...           ...         ...           ...\n",
       "361          28      SP5-no  Global  Control-flow  Repetition      111184.0\n",
       "362          28      SP6-no  Global  Control-flow  Repetition       77086.0\n",
       "363          28      SP7-no  Global  Control-flow  Repetition      129895.0\n",
       "364          28      SP8-no  Global  Control-flow  Repetition       60026.0\n",
       "365          28      SP9-no  Global  Control-flow  Repetition       58230.0\n",
       "\n",
       "[366 rows x 6 columns]"
      ]
     },
     "execution_count": 42,
     "metadata": {},
     "output_type": "execute_result"
    }
   ],
   "source": [
    "#Example of query: time interval taken to answer each question by each participant\n",
    "responseTime(resTimeData)"
   ]
  },
  {
   "cell_type": "code",
   "execution_count": 49,
   "id": "d6dcdc80",
   "metadata": {},
   "outputs": [],
   "source": [
    "#Descriptives"
   ]
  },
  {
   "cell_type": "code",
   "execution_count": 44,
   "id": "07d8ca6a",
   "metadata": {},
   "outputs": [
    {
     "data": {
      "text/html": [
       "<div>\n",
       "<style scoped>\n",
       "    .dataframe tbody tr th:only-of-type {\n",
       "        vertical-align: middle;\n",
       "    }\n",
       "\n",
       "    .dataframe tbody tr th {\n",
       "        vertical-align: top;\n",
       "    }\n",
       "\n",
       "    .dataframe thead th {\n",
       "        text-align: right;\n",
       "    }\n",
       "</style>\n",
       "<table border=\"1\" class=\"dataframe\">\n",
       "  <thead>\n",
       "    <tr style=\"text-align: right;\">\n",
       "      <th></th>\n",
       "      <th>timeInterval</th>\n",
       "    </tr>\n",
       "    <tr>\n",
       "      <th>Type1</th>\n",
       "      <th></th>\n",
       "    </tr>\n",
       "  </thead>\n",
       "  <tbody>\n",
       "    <tr>\n",
       "      <th>Global</th>\n",
       "      <td>117592.971014</td>\n",
       "    </tr>\n",
       "    <tr>\n",
       "      <th>Local</th>\n",
       "      <td>54097.186594</td>\n",
       "    </tr>\n",
       "  </tbody>\n",
       "</table>\n",
       "</div>"
      ],
      "text/plain": [
       "         timeInterval\n",
       "Type1                \n",
       "Global  117592.971014\n",
       "Local    54097.186594"
      ]
     },
     "execution_count": 44,
     "metadata": {},
     "output_type": "execute_result"
    }
   ],
   "source": [
    "#Calculate mean per participant\n",
    "resTime_new_part = responseTime(resTimeData).groupby(['participant','Type1','Type2'],as_index=False).agg({\"timeInterval\":\"mean\"})\n",
    "#Calculate descriptives\n",
    "resTime_new_part.groupby('Type1').agg({'timeInterval':'mean'})"
   ]
  },
  {
   "cell_type": "code",
   "execution_count": 70,
   "id": "2ab9848a",
   "metadata": {},
   "outputs": [],
   "source": [
    "#Inferentials"
   ]
  },
  {
   "cell_type": "code",
   "execution_count": 45,
   "id": "7857cafd",
   "metadata": {},
   "outputs": [],
   "source": [
    "resTime_new_part = responseTime(resTimeData).groupby(['participant','Type1','Type2'],as_index=False).agg({\"timeInterval\":\"mean\"})"
   ]
  },
  {
   "cell_type": "code",
   "execution_count": 46,
   "id": "fcdd350d",
   "metadata": {},
   "outputs": [
    {
     "name": "stdout",
     "output_type": "stream",
     "text": [
      "46 46\n",
      "46\n"
     ]
    },
    {
     "data": {
      "text/plain": [
       "WilcoxonResult(statistic=1071.0, pvalue=6.110667527536862e-13)"
      ]
     },
     "execution_count": 46,
     "metadata": {},
     "output_type": "execute_result"
    }
   ],
   "source": [
    "#Control-flow\n",
    "resTime_part_cflow_Global = resTime_new_part.loc[(resTime_new_part[\"Type1\"]=='Global')]\n",
    "resTime_part_cflow_Local = resTime_new_part.loc[(resTime_new_part[\"Type1\"]=='Local')]\n",
    "resTime_part_cflow_merge = resTime_part_cflow_Global.merge(resTime_part_cflow_Local, on=['participant','Type2'], suffixes=('_global', '_local'), how='inner')\n",
    "\n",
    "\n",
    "print(len(resTime_part_cflow_Global), len(resTime_part_cflow_Local))\n",
    "print(len(resTime_part_cflow_merge))\n",
    "\n",
    "stats.wilcoxon(resTime_part_cflow_merge['timeInterval_global'], resTime_part_cflow_merge['timeInterval_local'],alternative='greater')"
   ]
  },
  {
   "cell_type": "code",
   "execution_count": 54,
   "id": "f701711a",
   "metadata": {},
   "outputs": [],
   "source": [
    "########################\n",
    "#\n",
    "# Perceived difficulty\n",
    "#\n",
    "#######################"
   ]
  },
  {
   "cell_type": "code",
   "execution_count": 55,
   "id": "5dbe060c",
   "metadata": {},
   "outputs": [],
   "source": [
    "#measure specific pre-processing"
   ]
  },
  {
   "cell_type": "code",
   "execution_count": 47,
   "id": "7569d78b",
   "metadata": {},
   "outputs": [],
   "source": [
    "# select rows with questionEventType='questionOffset' and 'questionID' is in the questions considered for the analysis\n",
    "percDifficultyData =  allData.loc[(allData['questionEventType']=='questionOffset') & (allData['questionID'].isin([str(question[\"id\"]+2) for question in questions]))].copy(deep=True)\n",
    "# connect the perceived difficulty to the parent QuestionID (remember each task has three questions, main question, verbal justification, perceived diff question)\n",
    "percDifficultyData['questionID'] = percDifficultyData['questionID'].astype('int') - 2\n",
    "\n",
    "#add question info\n",
    "percDifficultyData = addQuestionInfo(percDifficultyData,questions)\n",
    "\n",
    "#Select control-flow question type\n",
    "percDifficultyData = percDifficultyData.loc[(percDifficultyData['Type2'] == 'Control-flow')] "
   ]
  },
  {
   "cell_type": "code",
   "execution_count": 48,
   "id": "6539a50d",
   "metadata": {},
   "outputs": [
    {
     "data": {
      "text/html": [
       "<div>\n",
       "<style scoped>\n",
       "    .dataframe tbody tr th:only-of-type {\n",
       "        vertical-align: middle;\n",
       "    }\n",
       "\n",
       "    .dataframe tbody tr th {\n",
       "        vertical-align: top;\n",
       "    }\n",
       "\n",
       "    .dataframe thead th {\n",
       "        text-align: right;\n",
       "    }\n",
       "</style>\n",
       "<table border=\"1\" class=\"dataframe\">\n",
       "  <thead>\n",
       "    <tr style=\"text-align: right;\">\n",
       "      <th></th>\n",
       "      <th>participant</th>\n",
       "      <th>Type1</th>\n",
       "      <th>difficultyScore</th>\n",
       "    </tr>\n",
       "  </thead>\n",
       "  <tbody>\n",
       "    <tr>\n",
       "      <th>0</th>\n",
       "      <td>KP1-no</td>\n",
       "      <td>Global</td>\n",
       "      <td>1.00</td>\n",
       "    </tr>\n",
       "    <tr>\n",
       "      <th>1</th>\n",
       "      <td>KP1-no</td>\n",
       "      <td>Local</td>\n",
       "      <td>1.00</td>\n",
       "    </tr>\n",
       "    <tr>\n",
       "      <th>2</th>\n",
       "      <td>KP10-no</td>\n",
       "      <td>Global</td>\n",
       "      <td>3.00</td>\n",
       "    </tr>\n",
       "    <tr>\n",
       "      <th>3</th>\n",
       "      <td>KP10-no</td>\n",
       "      <td>Local</td>\n",
       "      <td>0.75</td>\n",
       "    </tr>\n",
       "    <tr>\n",
       "      <th>4</th>\n",
       "      <td>KP11-no</td>\n",
       "      <td>Global</td>\n",
       "      <td>2.75</td>\n",
       "    </tr>\n",
       "    <tr>\n",
       "      <th>...</th>\n",
       "      <td>...</td>\n",
       "      <td>...</td>\n",
       "      <td>...</td>\n",
       "    </tr>\n",
       "    <tr>\n",
       "      <th>87</th>\n",
       "      <td>SP7-no</td>\n",
       "      <td>Local</td>\n",
       "      <td>0.00</td>\n",
       "    </tr>\n",
       "    <tr>\n",
       "      <th>88</th>\n",
       "      <td>SP8-no</td>\n",
       "      <td>Global</td>\n",
       "      <td>1.50</td>\n",
       "    </tr>\n",
       "    <tr>\n",
       "      <th>89</th>\n",
       "      <td>SP8-no</td>\n",
       "      <td>Local</td>\n",
       "      <td>0.50</td>\n",
       "    </tr>\n",
       "    <tr>\n",
       "      <th>90</th>\n",
       "      <td>SP9-no</td>\n",
       "      <td>Global</td>\n",
       "      <td>2.50</td>\n",
       "    </tr>\n",
       "    <tr>\n",
       "      <th>91</th>\n",
       "      <td>SP9-no</td>\n",
       "      <td>Local</td>\n",
       "      <td>1.50</td>\n",
       "    </tr>\n",
       "  </tbody>\n",
       "</table>\n",
       "<p>92 rows × 3 columns</p>\n",
       "</div>"
      ],
      "text/plain": [
       "   participant   Type1  difficultyScore\n",
       "0       KP1-no  Global             1.00\n",
       "1       KP1-no   Local             1.00\n",
       "2      KP10-no  Global             3.00\n",
       "3      KP10-no   Local             0.75\n",
       "4      KP11-no  Global             2.75\n",
       "..         ...     ...              ...\n",
       "87      SP7-no   Local             0.00\n",
       "88      SP8-no  Global             1.50\n",
       "89      SP8-no   Local             0.50\n",
       "90      SP9-no  Global             2.50\n",
       "91      SP9-no   Local             1.50\n",
       "\n",
       "[92 rows x 3 columns]"
      ]
     },
     "execution_count": 48,
     "metadata": {},
     "output_type": "execute_result"
    }
   ],
   "source": [
    "#Example of query: for each participant, we obtain one aggregated measure for local questions and one aggregate measure for global questions\n",
    "perceivedDifficulty(percDifficultyData,['participant','Type1'])"
   ]
  },
  {
   "cell_type": "code",
   "execution_count": 58,
   "id": "e5dbecc1",
   "metadata": {},
   "outputs": [],
   "source": [
    "#Descriptives"
   ]
  },
  {
   "cell_type": "code",
   "execution_count": 49,
   "id": "813786ec",
   "metadata": {},
   "outputs": [
    {
     "data": {
      "text/html": [
       "<div>\n",
       "<style scoped>\n",
       "    .dataframe tbody tr th:only-of-type {\n",
       "        vertical-align: middle;\n",
       "    }\n",
       "\n",
       "    .dataframe tbody tr th {\n",
       "        vertical-align: top;\n",
       "    }\n",
       "\n",
       "    .dataframe thead th {\n",
       "        text-align: right;\n",
       "    }\n",
       "</style>\n",
       "<table border=\"1\" class=\"dataframe\">\n",
       "  <thead>\n",
       "    <tr style=\"text-align: right;\">\n",
       "      <th></th>\n",
       "      <th>difficultyScore</th>\n",
       "    </tr>\n",
       "    <tr>\n",
       "      <th>Type1</th>\n",
       "      <th></th>\n",
       "    </tr>\n",
       "  </thead>\n",
       "  <tbody>\n",
       "    <tr>\n",
       "      <th>Global</th>\n",
       "      <td>1.891304</td>\n",
       "    </tr>\n",
       "    <tr>\n",
       "      <th>Local</th>\n",
       "      <td>0.619565</td>\n",
       "    </tr>\n",
       "  </tbody>\n",
       "</table>\n",
       "</div>"
      ],
      "text/plain": [
       "        difficultyScore\n",
       "Type1                  \n",
       "Global         1.891304\n",
       "Local          0.619565"
      ]
     },
     "execution_count": 49,
     "metadata": {},
     "output_type": "execute_result"
    }
   ],
   "source": [
    "#Calculate mean per participant\n",
    "percDiff_part = perceivedDifficulty(percDifficultyData,['participant','Type1','Type2'])\n",
    "#Calculate descriptives\n",
    "percDiff_part.groupby('Type1').agg({'difficultyScore':'mean'})"
   ]
  },
  {
   "cell_type": "code",
   "execution_count": 90,
   "id": "54159fab",
   "metadata": {},
   "outputs": [],
   "source": [
    "#Inferential"
   ]
  },
  {
   "cell_type": "code",
   "execution_count": 50,
   "id": "07b80b28",
   "metadata": {},
   "outputs": [],
   "source": [
    "percDiff_part = perceivedDifficulty(percDifficultyData,['participant','Type1','Type2'])"
   ]
  },
  {
   "cell_type": "code",
   "execution_count": 51,
   "id": "4c8163b3",
   "metadata": {},
   "outputs": [
    {
     "name": "stdout",
     "output_type": "stream",
     "text": [
      "46 46\n",
      "46\n"
     ]
    },
    {
     "name": "stderr",
     "output_type": "stream",
     "text": [
      "C:\\Users\\la1949\\Anaconda3\\lib\\site-packages\\scipy\\stats\\_morestats.py:3255: UserWarning: Exact p-value calculation does not work if there are zeros. Switching to normal approximation.\n",
      "  warnings.warn(\"Exact p-value calculation does not work if there are \"\n"
     ]
    },
    {
     "data": {
      "text/plain": [
       "WilcoxonResult(statistic=946.0, pvalue=4.983743900200151e-09)"
      ]
     },
     "execution_count": 51,
     "metadata": {},
     "output_type": "execute_result"
    }
   ],
   "source": [
    "percDiff_ControlFlow_Global = percDiff_part.loc[(percDiff_part[\"Type1\"]=='Global')]\n",
    "percDiff_ControlFlow_Local = percDiff_part.loc[(percDiff_part[\"Type1\"]=='Local')]\n",
    "percDiff_ControlFlow_merge = percDiff_ControlFlow_Global.merge(percDiff_ControlFlow_Local, on=['participant','Type2'], suffixes=('_global', '_local'), how='inner')\n",
    "\n",
    "print(len(percDiff_ControlFlow_Global), len(percDiff_ControlFlow_Local))\n",
    "print(len(percDiff_ControlFlow_merge))\n",
    "\n",
    "stats.wilcoxon(percDiff_ControlFlow_merge['difficultyScore_global'],percDiff_ControlFlow_merge['difficultyScore_local'],alternative='greater')\n",
    "\n"
   ]
  }
 ],
 "metadata": {
  "kernelspec": {
   "display_name": "Python 3 (ipykernel)",
   "language": "python",
   "name": "python3"
  },
  "language_info": {
   "codemirror_mode": {
    "name": "ipython",
    "version": 3
   },
   "file_extension": ".py",
   "mimetype": "text/x-python",
   "name": "python",
   "nbconvert_exporter": "python",
   "pygments_lexer": "ipython3",
   "version": "3.9.16"
  }
 },
 "nbformat": 4,
 "nbformat_minor": 5
}

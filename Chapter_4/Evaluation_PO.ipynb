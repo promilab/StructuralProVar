{
 "cells": [
  {
   "cell_type": "code",
   "execution_count": 1,
   "id": "57d097ae",
   "metadata": {},
   "outputs": [],
   "source": [
    "import pandas as pd\n",
    "from datetime import datetime\n",
    "import pm4py\n",
    "import numpy as np\n",
    "#from scipy.stats import mannwhitneyu\n",
    "#import collections\n",
    "#from statistics import mean\n",
    "#from statistics import median\n",
    "from collections import defaultdict\n",
    "from Levenshtein import distance\n",
    "\n",
    "from sklearn.preprocessing import LabelEncoder\n",
    "from sklearn.cluster import DBSCAN\n",
    "from sklearn.cluster import AgglomerativeClustering\n",
    "from matplotlib import pyplot as plt\n",
    "from scipy.cluster.hierarchy import dendrogram\n",
    "from sklearn import metrics\n",
    "#from sklearn.metrics.cluster import homogeneity_score, completeness_score, v_measure_score, adjusted_rand_score, adjusted_mutual_info_score, silhouette_score\n",
    "\n",
    "import copy"
   ]
  },
  {
   "cell_type": "code",
   "execution_count": 2,
   "id": "a17c3a3d",
   "metadata": {},
   "outputs": [
    {
     "name": "stderr",
     "output_type": "stream",
     "text": [
      "C:\\Users\\la1949\\Anaconda3\\envs\\pm4py\\lib\\site-packages\\tqdm\\auto.py:21: TqdmWarning: IProgress not found. Please update jupyter and ipywidgets. See https://ipywidgets.readthedocs.io/en/stable/user_install.html\n",
      "  from .autonotebook import tqdm as notebook_tqdm\n",
      "parsing log, completed traces :: 100%|██████████| 5292/5292 [00:24<00:00, 215.84it/s]\n"
     ]
    }
   ],
   "source": [
    "log1 = pm4py.read.read_xes(\"PO_BPI_2019\\BPI_Challenge_2019_DF1.xes\")"
   ]
  },
  {
   "cell_type": "code",
   "execution_count": 3,
   "id": "ef01ec51",
   "metadata": {
    "collapsed": true
   },
   "outputs": [
    {
     "name": "stderr",
     "output_type": "stream",
     "text": [
      "parsing log, completed traces ::  52%|█████▏    | 8351/16097 [00:10<00:09, 854.72it/s] "
     ]
    },
    {
     "ename": "KeyboardInterrupt",
     "evalue": "",
     "output_type": "error",
     "traceback": [
      "\u001b[1;31m---------------------------------------------------------------------------\u001b[0m",
      "\u001b[1;31mKeyboardInterrupt\u001b[0m                         Traceback (most recent call last)",
      "Cell \u001b[1;32mIn[3], line 1\u001b[0m\n\u001b[1;32m----> 1\u001b[0m log2 \u001b[38;5;241m=\u001b[39m \u001b[43mpm4py\u001b[49m\u001b[38;5;241;43m.\u001b[39;49m\u001b[43mread\u001b[49m\u001b[38;5;241;43m.\u001b[39;49m\u001b[43mread_xes\u001b[49m\u001b[43m(\u001b[49m\u001b[38;5;124;43m\"\u001b[39;49m\u001b[38;5;124;43mPO_BPI_2019\u001b[39;49m\u001b[38;5;124;43m\\\u001b[39;49m\u001b[38;5;124;43mBPI_Challenge_2019_DF2.xes\u001b[39;49m\u001b[38;5;124;43m\"\u001b[39;49m\u001b[43m)\u001b[49m\n",
      "File \u001b[1;32m~\\Anaconda3\\envs\\pm4py\\lib\\site-packages\\pm4py\\read.py:72\u001b[0m, in \u001b[0;36mread_xes\u001b[1;34m(file_path, variant, return_legacy_log_object, **kwargs)\u001b[0m\n\u001b[0;32m     70\u001b[0m \u001b[38;5;28;01melif\u001b[39;00m variant \u001b[38;5;241m==\u001b[39m \u001b[38;5;124m\"\u001b[39m\u001b[38;5;124mchunk_regex\u001b[39m\u001b[38;5;124m\"\u001b[39m:\n\u001b[0;32m     71\u001b[0m     v \u001b[38;5;241m=\u001b[39m xes_importer\u001b[38;5;241m.\u001b[39mVariants\u001b[38;5;241m.\u001b[39mCHUNK_REGEX\n\u001b[1;32m---> 72\u001b[0m log \u001b[38;5;241m=\u001b[39m \u001b[43mxes_importer\u001b[49m\u001b[38;5;241;43m.\u001b[39;49m\u001b[43mapply\u001b[49m\u001b[43m(\u001b[49m\u001b[43mfile_path\u001b[49m\u001b[43m,\u001b[49m\u001b[43m \u001b[49m\u001b[43mvariant\u001b[49m\u001b[38;5;241;43m=\u001b[39;49m\u001b[43mv\u001b[49m\u001b[43m,\u001b[49m\u001b[43m \u001b[49m\u001b[43mparameters\u001b[49m\u001b[38;5;241;43m=\u001b[39;49m\u001b[43mkwargs\u001b[49m\u001b[43m)\u001b[49m\n\u001b[0;32m     73\u001b[0m \u001b[38;5;28;01mif\u001b[39;00m return_legacy_log_object:\n\u001b[0;32m     74\u001b[0m     \u001b[38;5;28;01mreturn\u001b[39;00m log\n",
      "File \u001b[1;32m~\\Anaconda3\\envs\\pm4py\\lib\\site-packages\\pm4py\\objects\\log\\importer\\xes\\importer.py:69\u001b[0m, in \u001b[0;36mapply\u001b[1;34m(path, parameters, variant)\u001b[0m\n\u001b[0;32m     66\u001b[0m \u001b[38;5;28;01melif\u001b[39;00m variant \u001b[38;5;241m==\u001b[39m \u001b[38;5;124m'\u001b[39m\u001b[38;5;124mchunk_regex\u001b[39m\u001b[38;5;124m'\u001b[39m:\n\u001b[0;32m     67\u001b[0m     variant \u001b[38;5;241m=\u001b[39m Variants\u001b[38;5;241m.\u001b[39mCHUNK_REGEX\n\u001b[1;32m---> 69\u001b[0m log \u001b[38;5;241m=\u001b[39m \u001b[43mvariant\u001b[49m\u001b[38;5;241;43m.\u001b[39;49m\u001b[43mvalue\u001b[49m\u001b[38;5;241;43m.\u001b[39;49m\u001b[43mapply\u001b[49m\u001b[43m(\u001b[49m\u001b[43mpath\u001b[49m\u001b[43m,\u001b[49m\u001b[43m \u001b[49m\u001b[43mparameters\u001b[49m\u001b[38;5;241;43m=\u001b[39;49m\u001b[43mparameters\u001b[49m\u001b[43m)\u001b[49m\n\u001b[0;32m     71\u001b[0m \u001b[38;5;28;01mreturn\u001b[39;00m log\n",
      "File \u001b[1;32m~\\Anaconda3\\envs\\pm4py\\lib\\site-packages\\pm4py\\objects\\log\\importer\\xes\\variants\\iterparse.py:300\u001b[0m, in \u001b[0;36mapply\u001b[1;34m(filename, parameters)\u001b[0m\n\u001b[0;32m    278\u001b[0m \u001b[38;5;28;01mdef\u001b[39;00m \u001b[38;5;21mapply\u001b[39m(filename, parameters\u001b[38;5;241m=\u001b[39m\u001b[38;5;28;01mNone\u001b[39;00m):\n\u001b[0;32m    279\u001b[0m     \u001b[38;5;124;03m\"\"\"\u001b[39;00m\n\u001b[0;32m    280\u001b[0m \u001b[38;5;124;03m    Imports an XES file into a log object\u001b[39;00m\n\u001b[0;32m    281\u001b[0m \n\u001b[1;32m   (...)\u001b[0m\n\u001b[0;32m    298\u001b[0m \u001b[38;5;124;03m        A log\u001b[39;00m\n\u001b[0;32m    299\u001b[0m \u001b[38;5;124;03m    \"\"\"\u001b[39;00m\n\u001b[1;32m--> 300\u001b[0m     \u001b[38;5;28;01mreturn\u001b[39;00m \u001b[43mimport_log\u001b[49m\u001b[43m(\u001b[49m\u001b[43mfilename\u001b[49m\u001b[43m,\u001b[49m\u001b[43m \u001b[49m\u001b[43mparameters\u001b[49m\u001b[43m)\u001b[49m\n",
      "File \u001b[1;32m~\\Anaconda3\\envs\\pm4py\\lib\\site-packages\\pm4py\\objects\\log\\importer\\xes\\variants\\iterparse.py:351\u001b[0m, in \u001b[0;36mimport_log\u001b[1;34m(filename, parameters)\u001b[0m\n\u001b[0;32m    348\u001b[0m     f \u001b[38;5;241m=\u001b[39m \u001b[38;5;28mopen\u001b[39m(filename, \u001b[38;5;124m\"\u001b[39m\u001b[38;5;124mrb\u001b[39m\u001b[38;5;124m\"\u001b[39m)\n\u001b[0;32m    349\u001b[0m context \u001b[38;5;241m=\u001b[39m etree\u001b[38;5;241m.\u001b[39miterparse(f, events\u001b[38;5;241m=\u001b[39m[_EVENT_START, _EVENT_END], encoding\u001b[38;5;241m=\u001b[39mencoding)\n\u001b[1;32m--> 351\u001b[0m \u001b[38;5;28;01mreturn\u001b[39;00m \u001b[43mimport_from_context\u001b[49m\u001b[43m(\u001b[49m\u001b[43mcontext\u001b[49m\u001b[43m,\u001b[49m\u001b[43m \u001b[49m\u001b[43mnum_traces\u001b[49m\u001b[43m,\u001b[49m\u001b[43m \u001b[49m\u001b[43mparameters\u001b[49m\u001b[38;5;241;43m=\u001b[39;49m\u001b[43mparameters\u001b[49m\u001b[43m)\u001b[49m\n",
      "File \u001b[1;32m~\\Anaconda3\\envs\\pm4py\\lib\\site-packages\\pm4py\\objects\\log\\importer\\xes\\variants\\iterparse.py:112\u001b[0m, in \u001b[0;36mimport_from_context\u001b[1;34m(context, num_traces, parameters)\u001b[0m\n\u001b[0;32m    108\u001b[0m event \u001b[38;5;241m=\u001b[39m \u001b[38;5;28;01mNone\u001b[39;00m\n\u001b[0;32m    110\u001b[0m tree \u001b[38;5;241m=\u001b[39m {}\n\u001b[1;32m--> 112\u001b[0m \u001b[38;5;28;01mfor\u001b[39;00m tree_event, elem \u001b[38;5;129;01min\u001b[39;00m context:\n\u001b[0;32m    113\u001b[0m     \u001b[38;5;28;01mif\u001b[39;00m tree_event \u001b[38;5;241m==\u001b[39m _EVENT_START:  \u001b[38;5;66;03m# starting to read\u001b[39;00m\n\u001b[0;32m    114\u001b[0m         parent \u001b[38;5;241m=\u001b[39m tree[elem\u001b[38;5;241m.\u001b[39mgetparent()] \u001b[38;5;28;01mif\u001b[39;00m elem\u001b[38;5;241m.\u001b[39mgetparent() \u001b[38;5;129;01min\u001b[39;00m tree \u001b[38;5;28;01melse\u001b[39;00m \u001b[38;5;28;01mNone\u001b[39;00m\n",
      "\u001b[1;31mKeyboardInterrupt\u001b[0m: "
     ]
    }
   ],
   "source": [
    "log2 = pm4py.read.read_xes(\"PO_BPI_2019\\BPI_Challenge_2019_DF2.xes\")"
   ]
  },
  {
   "cell_type": "code",
   "execution_count": null,
   "id": "5c4d79be",
   "metadata": {},
   "outputs": [],
   "source": [
    "log3 = pm4py.read.read_xes(\"PO_BPI_2019\\BPI_Challenge_2019_DF3.xes\")"
   ]
  },
  {
   "cell_type": "code",
   "execution_count": null,
   "id": "5fecde58",
   "metadata": {},
   "outputs": [],
   "source": [
    "log4 = pm4py.read.read_xes(\"PO_BPI_2019\\BPI_Challenge_2019_DF4.xes\")"
   ]
  },
  {
   "cell_type": "code",
   "execution_count": null,
   "id": "6012c2cd",
   "metadata": {},
   "outputs": [],
   "source": [
    "# Initialize LabelEncoder\n",
    "le = LabelEncoder()"
   ]
  },
  {
   "cell_type": "code",
   "execution_count": null,
   "id": "572dd328",
   "metadata": {},
   "outputs": [],
   "source": [
    "log1['type'] = 'DF1'\n",
    "log1['case:concept:name'] = 'DF1' + log1['case:concept:name']\n",
    "\n",
    "log2['type'] = 'DF2' \n",
    "log2['case:concept:name'] = 'DF2' + log2['case:concept:name']\n",
    "\n",
    "log3['type'] = 'DF3' \n",
    "log3['case:concept:name'] = 'DF3' + log3['case:concept:name']\n",
    "\n",
    "log4['type'] = 'DF4' \n",
    "log4['case:concept:name'] = 'DF4' + log4['case:concept:name']"
   ]
  },
  {
   "cell_type": "code",
   "execution_count": null,
   "id": "5aaf5841",
   "metadata": {},
   "outputs": [],
   "source": [
    "log = pd.concat([log1, log2, log3, log4]).reset_index()"
   ]
  },
  {
   "cell_type": "code",
   "execution_count": null,
   "id": "34d897f2",
   "metadata": {},
   "outputs": [],
   "source": [
    "# Fit and transform the 'tabName_element' column\n",
    "log['activity'] = le.fit_transform(log['concept:name'])"
   ]
  },
  {
   "cell_type": "code",
   "execution_count": null,
   "id": "a33bcf74",
   "metadata": {},
   "outputs": [],
   "source": [
    "#Create trace log\n",
    "logVar0 = log.groupby(['case:concept:name'])['activity'].apply(list).reset_index()"
   ]
  },
  {
   "cell_type": "code",
   "execution_count": null,
   "id": "680c189e",
   "metadata": {},
   "outputs": [],
   "source": [
    "logType = log.groupby(['case:concept:name'])['type'].apply(list).reset_index()\n",
    "logType['type'] = logType['type'].apply(lambda x: set(x))\n",
    "logType['type'] = logType['type'].apply(lambda x: ''.join(x))"
   ]
  },
  {
   "cell_type": "code",
   "execution_count": null,
   "id": "82c010f9",
   "metadata": {},
   "outputs": [],
   "source": [
    "logVar0 = pd.merge(logVar0, logType, on='case:concept:name')"
   ]
  },
  {
   "cell_type": "code",
   "execution_count": null,
   "id": "0658e8d2",
   "metadata": {},
   "outputs": [],
   "source": [
    "logVar0"
   ]
  },
  {
   "cell_type": "code",
   "execution_count": null,
   "id": "e14e5c08",
   "metadata": {},
   "outputs": [],
   "source": [
    "logVar0.loc[logVar0['type'] == 'DF4']"
   ]
  },
  {
   "cell_type": "code",
   "execution_count": 55,
   "id": "6e8801ac",
   "metadata": {},
   "outputs": [
    {
     "data": {
      "text/html": [
       "<div>\n",
       "<style scoped>\n",
       "    .dataframe tbody tr th:only-of-type {\n",
       "        vertical-align: middle;\n",
       "    }\n",
       "\n",
       "    .dataframe tbody tr th {\n",
       "        vertical-align: top;\n",
       "    }\n",
       "\n",
       "    .dataframe thead th {\n",
       "        text-align: right;\n",
       "    }\n",
       "</style>\n",
       "<table border=\"1\" class=\"dataframe\">\n",
       "  <thead>\n",
       "    <tr style=\"text-align: right;\">\n",
       "      <th></th>\n",
       "      <th>case:concept:name</th>\n",
       "      <th>activity</th>\n",
       "      <th>type</th>\n",
       "      <th>c:n_chr</th>\n",
       "      <th>strings</th>\n",
       "      <th>act_str</th>\n",
       "      <th>Count</th>\n",
       "    </tr>\n",
       "  </thead>\n",
       "  <tbody>\n",
       "    <tr>\n",
       "      <th>0</th>\n",
       "      <td>DF1DF1DF12000000001_00001</td>\n",
       "      <td>[29, 28, 26, 31, 35, 33, 27, 14, 41, 19, 21, 2...</td>\n",
       "      <td>DF1</td>\n",
       "      <td>[\u001d",
       ", \u001c",
       ", \u001a, \u001f, #, !, \u001b, \u000e, ), \u0013, \u0015, \u0014, \\r, !, %]</td>\n",
       "      <td>\u001a\u001f#!\u001b\u000e)\u0013\u0015\u0014\\r!%</td>\n",
       "      <td>[29, 28, 26, 31, 35, 33, 27, 14, 41, 19, 21, 2...</td>\n",
       "      <td>2</td>\n",
       "    </tr>\n",
       "    <tr>\n",
       "      <th>1</th>\n",
       "      <td>DF1DF1DF12000000002_00001</td>\n",
       "      <td>[29, 28, 26, 31, 35, 33, 27, 14, 19, 21, 41, 1...</td>\n",
       "      <td>DF1</td>\n",
       "      <td>[\u001d",
       ", \u001c",
       ", \u001a, \u001f, #, !, \u001b, \u000e, \u0013, \u0015, ), \u0001, \u0013, \u0015, \u0014, ...</td>\n",
       "      <td>\u001a\u001f#!\u001b\u000e\u0013\u0015)\u0001\u0013\u0015\u0014\\r!%</td>\n",
       "      <td>[29, 28, 26, 31, 35, 33, 27, 14, 19, 21, 41, 1...</td>\n",
       "      <td>1</td>\n",
       "    </tr>\n",
       "    <tr>\n",
       "      <th>2</th>\n",
       "      <td>DF1DF1DF12000000005_00002</td>\n",
       "      <td>[29, 28, 26, 31, 33, 35, 14, 27]</td>\n",
       "      <td>DF1</td>\n",
       "      <td>[\u001d",
       ", \u001c",
       ", \u001a, \u001f, !, #, \u000e, \u001b]</td>\n",
       "      <td>\u001a\u001f!#\u000e\u001b</td>\n",
       "      <td>[29, 28, 26, 31, 33, 35, 14, 27]</td>\n",
       "      <td>36</td>\n",
       "    </tr>\n",
       "    <tr>\n",
       "      <th>3</th>\n",
       "      <td>DF1DF1DF12000000006_00001</td>\n",
       "      <td>[29, 28, 26, 31, 33, 35, 27, 14, 41, 19, 21, 2...</td>\n",
       "      <td>DF1</td>\n",
       "      <td>[\u001d",
       ", \u001c",
       ", \u001a, \u001f, !, #, \u001b, \u000e, ), \u0013, \u0015, \u0014, \\r, !, \u0006]</td>\n",
       "      <td>\u001a\u001f!#\u001b\u000e)\u0013\u0015\u0014\\r!\u0006</td>\n",
       "      <td>[29, 28, 26, 31, 33, 35, 27, 14, 41, 19, 21, 2...</td>\n",
       "      <td>2</td>\n",
       "    </tr>\n",
       "    <tr>\n",
       "      <th>4</th>\n",
       "      <td>DF1DF1DF12000000008_00001</td>\n",
       "      <td>[29, 28, 26, 31, 33, 35, 27, 14, 41, 19, 21, 2...</td>\n",
       "      <td>DF1</td>\n",
       "      <td>[\u001d",
       ", \u001c",
       ", \u001a, \u001f, !, #, \u001b, \u000e, ), \u0013, \u0015, \u0014, \\r]</td>\n",
       "      <td>\u001a\u001f!#\u001b\u000e)\u0013\u0015\u0014\\r</td>\n",
       "      <td>[29, 28, 26, 31, 33, 35, 27, 14, 41, 19, 21, 2...</td>\n",
       "      <td>36</td>\n",
       "    </tr>\n",
       "    <tr>\n",
       "      <th>...</th>\n",
       "      <td>...</td>\n",
       "      <td>...</td>\n",
       "      <td>...</td>\n",
       "      <td>...</td>\n",
       "      <td>...</td>\n",
       "      <td>...</td>\n",
       "      <td>...</td>\n",
       "    </tr>\n",
       "    <tr>\n",
       "      <th>10202</th>\n",
       "      <td>DF3DF3DF34508076162_00010</td>\n",
       "      <td>[41, 40, 14, 4, 4, 8, 4, 20, 2, 13, 20, 13]</td>\n",
       "      <td>DF3</td>\n",
       "      <td>[), (, \u000e, \u0004, \u0004, \b, \u0004, \u0014, \u0002, \\r, \u0014, \\r]</td>\n",
       "      <td>)(\u000e\u0004\u0004\b\u0004\u0014\u0002\\r\u0014\\r</td>\n",
       "      <td>[41, 40, 14, 4, 4, 8, 4, 20, 2, 13, 20, 13]</td>\n",
       "      <td>1</td>\n",
       "    </tr>\n",
       "    <tr>\n",
       "      <th>10203</th>\n",
       "      <td>DF3DF3DF34508076169_00020</td>\n",
       "      <td>[41, 4, 4, 14, 4, 20, 13, 4, 4]</td>\n",
       "      <td>DF3</td>\n",
       "      <td>[), \u0004, \u0004, \u000e, \u0004, \u0014, \\r, \u0004, \u0004]</td>\n",
       "      <td>)\u0004\u0004\u000e\u0004\u0014\\r\u0004\u0004</td>\n",
       "      <td>[41, 4, 4, 14, 4, 20, 13, 4, 4]</td>\n",
       "      <td>1</td>\n",
       "    </tr>\n",
       "    <tr>\n",
       "      <th>10204</th>\n",
       "      <td>DF3DF3DF34508076206_00050</td>\n",
       "      <td>[41, 4, 4, 4, 4, 14, 4, 20]</td>\n",
       "      <td>DF3</td>\n",
       "      <td>[), \u0004, \u0004, \u0004, \u0004, \u000e, \u0004, \u0014]</td>\n",
       "      <td>)\u0004\u0004\u0004\u0004\u000e\u0004\u0014</td>\n",
       "      <td>[41, 4, 4, 4, 4, 14, 4, 20]</td>\n",
       "      <td>4</td>\n",
       "    </tr>\n",
       "    <tr>\n",
       "      <th>10205</th>\n",
       "      <td>DF3DF3DF34508076207_00020</td>\n",
       "      <td>[4, 4, 14, 4, 20, 41, 4, 4]</td>\n",
       "      <td>DF3</td>\n",
       "      <td>[\u0004, \u0004, \u000e, \u0004, \u0014, ), \u0004, \u0004]</td>\n",
       "      <td>\u0004\u0004\u000e\u0004\u0014)\u0004\u0004</td>\n",
       "      <td>[4, 4, 14, 4, 20, 41, 4, 4]</td>\n",
       "      <td>1</td>\n",
       "    </tr>\n",
       "    <tr>\n",
       "      <th>10206</th>\n",
       "      <td>DF3DF3DF34508076302_00010</td>\n",
       "      <td>[41, 14, 8, 4, 8, 4, 4, 20]</td>\n",
       "      <td>DF3</td>\n",
       "      <td>[), \u000e, \b, \u0004, \b, \u0004, \u0004, \u0014]</td>\n",
       "      <td>)\u000e\b\u0004\b\u0004\u0004\u0014</td>\n",
       "      <td>[41, 14, 8, 4, 8, 4, 4, 20]</td>\n",
       "      <td>1</td>\n",
       "    </tr>\n",
       "  </tbody>\n",
       "</table>\n",
       "<p>10207 rows × 7 columns</p>\n",
       "</div>"
      ],
      "text/plain": [
       "               case:concept:name  \\\n",
       "0      DF1DF1DF12000000001_00001   \n",
       "1      DF1DF1DF12000000002_00001   \n",
       "2      DF1DF1DF12000000005_00002   \n",
       "3      DF1DF1DF12000000006_00001   \n",
       "4      DF1DF1DF12000000008_00001   \n",
       "...                          ...   \n",
       "10202  DF3DF3DF34508076162_00010   \n",
       "10203  DF3DF3DF34508076169_00020   \n",
       "10204  DF3DF3DF34508076206_00050   \n",
       "10205  DF3DF3DF34508076207_00020   \n",
       "10206  DF3DF3DF34508076302_00010   \n",
       "\n",
       "                                                activity type  \\\n",
       "0      [29, 28, 26, 31, 35, 33, 27, 14, 41, 19, 21, 2...  DF1   \n",
       "1      [29, 28, 26, 31, 35, 33, 27, 14, 19, 21, 41, 1...  DF1   \n",
       "2                       [29, 28, 26, 31, 33, 35, 14, 27]  DF1   \n",
       "3      [29, 28, 26, 31, 33, 35, 27, 14, 41, 19, 21, 2...  DF1   \n",
       "4      [29, 28, 26, 31, 33, 35, 27, 14, 41, 19, 21, 2...  DF1   \n",
       "...                                                  ...  ...   \n",
       "10202        [41, 40, 14, 4, 4, 8, 4, 20, 2, 13, 20, 13]  DF3   \n",
       "10203                    [41, 4, 4, 14, 4, 20, 13, 4, 4]  DF3   \n",
       "10204                        [41, 4, 4, 4, 4, 14, 4, 20]  DF3   \n",
       "10205                        [4, 4, 14, 4, 20, 41, 4, 4]  DF3   \n",
       "10206                        [41, 14, 8, 4, 8, 4, 4, 20]  DF3   \n",
       "\n",
       "                                                 c:n_chr              strings  \\\n",
       "0         [\n",
       ", \n",
       ", \u001a, \u001f, #, !, \u001b, \u000e, ), \u0013, \u0015, \u0014, \\r, !, %]     \n",
       "\n",
       "\u001a\u001f#!\u001b\u000e)\u0013\u0015\u0014\\r!%   \n",
       "1      [\n",
       ", \n",
       ", \u001a, \u001f, #, !, \u001b, \u000e, \u0013, \u0015, ), \u0001, \u0013, \u0015, \u0014, ...  \n",
       "\n",
       "\u001a\u001f#!\u001b\u000e\u0013\u0015)\u0001\u0013\u0015\u0014\\r!%   \n",
       "2                               [\n",
       ", \n",
       ", \u001a, \u001f, !, #, \u000e, \u001b]             \n",
       "\n",
       "\u001a\u001f!#\u000e\u001b   \n",
       "3         [\n",
       ", \n",
       ", \u001a, \u001f, !, #, \u001b, \u000e, ), \u0013, \u0015, \u0014, \\r, !, \u0006]     \n",
       "\n",
       "\u001a\u001f!#\u001b\u000e)\u0013\u0015\u0014\\r!\u0006   \n",
       "4               [\n",
       ", \n",
       ", \u001a, \u001f, !, #, \u001b, \u000e, ), \u0013, \u0015, \u0014, \\r]       \n",
       "\n",
       "\u001a\u001f!#\u001b\u000e)\u0013\u0015\u0014\\r   \n",
       "...                                                  ...                  ...   \n",
       "10202             [), (, \u000e, \u0004, \u0004, \b, \u0004, \u0014, \u0002, \\r, \u0014, \\r]       )(\u000e\u0004\u0004\b\u0004\u0014\u0002\\r\u0014\\r   \n",
       "10203                       [), \u0004, \u0004, \u000e, \u0004, \u0014, \\r, \u0004, \u0004]           )\u0004\u0004\u000e\u0004\u0014\\r\u0004\u0004   \n",
       "10204                           [), \u0004, \u0004, \u0004, \u0004, \u000e, \u0004, \u0014]             )\u0004\u0004\u0004\u0004\u000e\u0004\u0014   \n",
       "10205                           [\u0004, \u0004, \u000e, \u0004, \u0014, ), \u0004, \u0004]             \u0004\u0004\u000e\u0004\u0014)\u0004\u0004   \n",
       "10206                           [), \u000e, \b, \u0004, \b, \u0004, \u0004, \u0014]             )\u000e\b\u0004\b\u0004\u0004\u0014   \n",
       "\n",
       "                                                 act_str  Count  \n",
       "0      [29, 28, 26, 31, 35, 33, 27, 14, 41, 19, 21, 2...      2  \n",
       "1      [29, 28, 26, 31, 35, 33, 27, 14, 19, 21, 41, 1...      1  \n",
       "2                       [29, 28, 26, 31, 33, 35, 14, 27]     36  \n",
       "3      [29, 28, 26, 31, 33, 35, 27, 14, 41, 19, 21, 2...      2  \n",
       "4      [29, 28, 26, 31, 33, 35, 27, 14, 41, 19, 21, 2...     36  \n",
       "...                                                  ...    ...  \n",
       "10202        [41, 40, 14, 4, 4, 8, 4, 20, 2, 13, 20, 13]      1  \n",
       "10203                    [41, 4, 4, 14, 4, 20, 13, 4, 4]      1  \n",
       "10204                        [41, 4, 4, 4, 4, 14, 4, 20]      4  \n",
       "10205                        [4, 4, 14, 4, 20, 41, 4, 4]      1  \n",
       "10206                        [41, 14, 8, 4, 8, 4, 4, 20]      1  \n",
       "\n",
       "[10207 rows x 7 columns]"
      ]
     },
     "execution_count": 55,
     "metadata": {},
     "output_type": "execute_result"
    }
   ],
   "source": [
    "#Derive set of unique trace variants + count\n",
    "logVar0[\"c:n_chr\"] = logVar0[\"activity\"].apply(lambda x: [chr(int(i)) for i in x])\n",
    "logVar0[\"strings\"] = logVar0[\"c:n_chr\"].apply(lambda x: ''.join(x))\n",
    "\n",
    "logVar0[\"act_str\"] = logVar0[\"activity\"].apply(lambda x: str(x))\n",
    "logVar0['Count'] = logVar0.groupby(['act_str'])['activity'].transform('count')\n",
    "logVar0 = logVar0.drop_duplicates(subset=['act_str'], keep='first')\n",
    "logVar0 = logVar0.reset_index(drop=True)\n",
    "logVar0"
   ]
  },
  {
   "cell_type": "code",
   "execution_count": 56,
   "id": "057a94b5",
   "metadata": {},
   "outputs": [
    {
     "data": {
      "text/plain": [
       "DF2    6191\n",
       "DF1    3913\n",
       "DF3     103\n",
       "Name: type, dtype: int64"
      ]
     },
     "execution_count": 56,
     "metadata": {},
     "output_type": "execute_result"
    }
   ],
   "source": [
    "logVar0['type'].value_counts()"
   ]
  },
  {
   "cell_type": "code",
   "execution_count": 58,
   "id": "deacd4c1",
   "metadata": {},
   "outputs": [],
   "source": [
    "n=100\n",
    "\n",
    "logVar1 = logVar0.loc[logVar0['type'] == 'DF1']\n",
    "logVar1 = logVar1.sample(n)\n",
    "\n",
    "logVar2 = logVar0.loc[logVar0['type'] == 'DF2']\n",
    "logVar2 = logVar2.sample(n)\n",
    "\n",
    "logVar3 = logVar0.loc[logVar0['type'] == 'DF3']\n",
    "logVar3 = logVar3.sample(n)"
   ]
  },
  {
   "cell_type": "code",
   "execution_count": 59,
   "id": "3ffe0162",
   "metadata": {},
   "outputs": [],
   "source": [
    "logVar = pd.concat([logVar1, logVar2, logVar3]).reset_index()"
   ]
  },
  {
   "cell_type": "code",
   "execution_count": 60,
   "id": "7b9885fa",
   "metadata": {
    "scrolled": true
   },
   "outputs": [
    {
     "data": {
      "text/html": [
       "<div>\n",
       "<style scoped>\n",
       "    .dataframe tbody tr th:only-of-type {\n",
       "        vertical-align: middle;\n",
       "    }\n",
       "\n",
       "    .dataframe tbody tr th {\n",
       "        vertical-align: top;\n",
       "    }\n",
       "\n",
       "    .dataframe thead th {\n",
       "        text-align: right;\n",
       "    }\n",
       "</style>\n",
       "<table border=\"1\" class=\"dataframe\">\n",
       "  <thead>\n",
       "    <tr style=\"text-align: right;\">\n",
       "      <th></th>\n",
       "      <th>index</th>\n",
       "      <th>case:concept:name</th>\n",
       "      <th>activity</th>\n",
       "      <th>type</th>\n",
       "      <th>c:n_chr</th>\n",
       "      <th>strings</th>\n",
       "      <th>act_str</th>\n",
       "      <th>Count</th>\n",
       "    </tr>\n",
       "  </thead>\n",
       "  <tbody>\n",
       "    <tr>\n",
       "      <th>0</th>\n",
       "      <td>2648</td>\n",
       "      <td>DF1DF1DF14508046320_00001</td>\n",
       "      <td>[14, 21, 21, 21, 21, 21, 21, 21, 21, 21, 21, 1...</td>\n",
       "      <td>DF1</td>\n",
       "      <td>[\u000e, \u0015, \u0015, \u0015, \u0015, \u0015, \u0015, \u0015, \u0015, \u0015, \u0015, \u0013, \u0015, \u0015, \u0015, ...</td>\n",
       "      <td>\u000e\u0015\u0015\u0015\u0015\u0015\u0015\u0015\u0015\u0015\u0015\u0013\u0015\u0015\u0015\u0015\u0015\u0015\u0015\u0015\u0013\u0015\u0015\u0015\u0015\u0015\u0015\u0015\u0015\u0015\u0015\u0015\u0015\u0015\u0015\u0013\u0013</td>\n",
       "      <td>[14, 21, 21, 21, 21, 21, 21, 21, 21, 21, 21, 1...</td>\n",
       "      <td>1</td>\n",
       "    </tr>\n",
       "    <tr>\n",
       "      <th>1</th>\n",
       "      <td>2462</td>\n",
       "      <td>DF1DF1DF14507042050_00001</td>\n",
       "      <td>[14, 21, 21, 21, 21, 21, 21, 21, 21, 21, 21, 2...</td>\n",
       "      <td>DF1</td>\n",
       "      <td>[\u000e, \u0015, \u0015, \u0015, \u0015, \u0015, \u0015, \u0015, \u0015, \u0015, \u0015, \u0015, \u0015, \u0015, \u0013, ...</td>\n",
       "      <td>\u000e\u0015\u0015\u0015\u0015\u0015\u0015\u0015\u0015\u0015\u0015\u0015\u0015\u0015\u0013\u0013\u0015\u0015\u0015\u0015\u0015\u0015\u0015\u0015\u0015\u0015\u0015\u0015\u0015\u0013\u0013\u0013\u0013\u0013\u0015\u0015\u0015\u0015\u0015\u0015\u0013\u0013</td>\n",
       "      <td>[14, 21, 21, 21, 21, 21, 21, 21, 21, 21, 21, 2...</td>\n",
       "      <td>1</td>\n",
       "    </tr>\n",
       "    <tr>\n",
       "      <th>2</th>\n",
       "      <td>2292</td>\n",
       "      <td>DF1DF1DF14507038748_00030</td>\n",
       "      <td>[14, 19, 21, 40, 41, 20, 2, 20, 13]</td>\n",
       "      <td>DF1</td>\n",
       "      <td>[\u000e, \u0013, \u0015, (, ), \u0014, \u0002, \u0014, \\r]</td>\n",
       "      <td>\u000e\u0013\u0015()\u0014\u0002\u0014\\r</td>\n",
       "      <td>[14, 19, 21, 40, 41, 20, 2, 20, 13]</td>\n",
       "      <td>1</td>\n",
       "    </tr>\n",
       "    <tr>\n",
       "      <th>3</th>\n",
       "      <td>1690</td>\n",
       "      <td>DF1DF1DF14507025269_00001</td>\n",
       "      <td>[14, 19, 19, 19, 19, 19, 19, 19, 19, 19, 19, 2...</td>\n",
       "      <td>DF1</td>\n",
       "      <td>[\u000e, \u0013, \u0013, \u0013, \u0013, \u0013, \u0013, \u0013, \u0013, \u0013, \u0013, \u0015, \u0015, \u0015, \u0015, ...</td>\n",
       "      <td>\u000e\u0013\u0013\u0013\u0013\u0013\u0013\u0013\u0013\u0013\u0013\u0015\u0015\u0015\u0015\u0015\u0015\u0015\u0015\u0015\u0015\u0013\u0013\u0013\u0013\u0013\u0015\u0015\u0015\u0015\u0015\u0015\u0013\u0013\u0013\u0013\u0013\u0013\u0013\u0013\u0013\u0015\u0015\u0015\u0015\u0015...</td>\n",
       "      <td>[14, 19, 19, 19, 19, 19, 19, 19, 19, 19, 19, 2...</td>\n",
       "      <td>1</td>\n",
       "    </tr>\n",
       "    <tr>\n",
       "      <th>4</th>\n",
       "      <td>2670</td>\n",
       "      <td>DF1DF1DF14508046610_00001</td>\n",
       "      <td>[14, 19, 19, 21, 21, 21, 21, 19, 19, 21, 21, 2...</td>\n",
       "      <td>DF1</td>\n",
       "      <td>[\u000e, \u0013, \u0013, \u0015, \u0015, \u0015, \u0015, \u0013, \u0013, \u0015, \u0015, \u0015, \u0015, \u0015, \u0013, ...</td>\n",
       "      <td>\u000e\u0013\u0013\u0015\u0015\u0015\u0015\u0013\u0013\u0015\u0015\u0015\u0015\u0015\u0013\u0013\u0013\u0015\u0015\u0015\u0013\u0013\u0013\u0013\u0015\u0015\u0015\u0015</td>\n",
       "      <td>[14, 19, 19, 21, 21, 21, 21, 19, 19, 21, 21, 2...</td>\n",
       "      <td>1</td>\n",
       "    </tr>\n",
       "    <tr>\n",
       "      <th>...</th>\n",
       "      <td>...</td>\n",
       "      <td>...</td>\n",
       "      <td>...</td>\n",
       "      <td>...</td>\n",
       "      <td>...</td>\n",
       "      <td>...</td>\n",
       "      <td>...</td>\n",
       "      <td>...</td>\n",
       "    </tr>\n",
       "    <tr>\n",
       "      <th>295</th>\n",
       "      <td>10187</td>\n",
       "      <td>DF3DF3DF34507076145_00080</td>\n",
       "      <td>[4, 4, 4, 4, 4, 4, 4, 4, 4, 4, 4, 4, 4, 41, 4,...</td>\n",
       "      <td>DF3</td>\n",
       "      <td>[\u0004, \u0004, \u0004, \u0004, \u0004, \u0004, \u0004, \u0004, \u0004, \u0004, \u0004, \u0004, \u0004, ), \u0004, ...</td>\n",
       "      <td>\u0004\u0004\u0004\u0004\u0004\u0004\u0004\u0004\u0004\u0004\u0004\u0004\u0004)\u0004\u000e\u0004\u0014\u0004\u0004</td>\n",
       "      <td>[4, 4, 4, 4, 4, 4, 4, 4, 4, 4, 4, 4, 4, 41, 4,...</td>\n",
       "      <td>1</td>\n",
       "    </tr>\n",
       "    <tr>\n",
       "      <th>296</th>\n",
       "      <td>10169</td>\n",
       "      <td>DF3DF3DF34507076139_00090</td>\n",
       "      <td>[4, 4, 4, 4, 4, 4, 4, 4, 4, 4, 4, 41, 4, 14, 4...</td>\n",
       "      <td>DF3</td>\n",
       "      <td>[\u0004, \u0004, \u0004, \u0004, \u0004, \u0004, \u0004, \u0004, \u0004, \u0004, \u0004, ), \u0004, \u000e, \u0004, ...</td>\n",
       "      <td>\u0004\u0004\u0004\u0004\u0004\u0004\u0004\u0004\u0004\u0004\u0004)\u0004\u000e\u0004\u0014\u0004\u0004</td>\n",
       "      <td>[4, 4, 4, 4, 4, 4, 4, 4, 4, 4, 4, 41, 4, 14, 4...</td>\n",
       "      <td>1</td>\n",
       "    </tr>\n",
       "    <tr>\n",
       "      <th>297</th>\n",
       "      <td>10193</td>\n",
       "      <td>DF3DF3DF34507076150_00140</td>\n",
       "      <td>[4, 4, 4, 4, 4, 4, 4, 4, 14, 4, 20, 41, 38, 4,...</td>\n",
       "      <td>DF3</td>\n",
       "      <td>[\u0004, \u0004, \u0004, \u0004, \u0004, \u0004, \u0004, \u0004, \u000e, \u0004, \u0014, ), &amp;, \u0004, \u0004, ...</td>\n",
       "      <td>\u0004\u0004\u0004\u0004\u0004\u0004\u0004\u0004\u000e\u0004\u0014)&amp;\u0004\u0004\u0004\u0004</td>\n",
       "      <td>[4, 4, 4, 4, 4, 4, 4, 4, 14, 4, 20, 41, 38, 4,...</td>\n",
       "      <td>4</td>\n",
       "    </tr>\n",
       "    <tr>\n",
       "      <th>298</th>\n",
       "      <td>10201</td>\n",
       "      <td>DF3DF3DF34508076157_00030</td>\n",
       "      <td>[4, 4, 4, 41, 4, 4, 14, 20, 4, 4]</td>\n",
       "      <td>DF3</td>\n",
       "      <td>[\u0004, \u0004, \u0004, ), \u0004, \u0004, \u000e, \u0014, \u0004, \u0004]</td>\n",
       "      <td>\u0004\u0004\u0004)\u0004\u0004\u000e\u0014\u0004\u0004</td>\n",
       "      <td>[4, 4, 4, 41, 4, 4, 14, 20, 4, 4]</td>\n",
       "      <td>1</td>\n",
       "    </tr>\n",
       "    <tr>\n",
       "      <th>299</th>\n",
       "      <td>10196</td>\n",
       "      <td>DF3DF3DF34508076155_00050</td>\n",
       "      <td>[41, 14, 4, 20, 4, 4, 13, 4, 4]</td>\n",
       "      <td>DF3</td>\n",
       "      <td>[), \u000e, \u0004, \u0014, \u0004, \u0004, \\r, \u0004, \u0004]</td>\n",
       "      <td>)\u000e\u0004\u0014\u0004\u0004\\r\u0004\u0004</td>\n",
       "      <td>[41, 14, 4, 20, 4, 4, 13, 4, 4]</td>\n",
       "      <td>3</td>\n",
       "    </tr>\n",
       "  </tbody>\n",
       "</table>\n",
       "<p>300 rows × 8 columns</p>\n",
       "</div>"
      ],
      "text/plain": [
       "     index          case:concept:name  \\\n",
       "0     2648  DF1DF1DF14508046320_00001   \n",
       "1     2462  DF1DF1DF14507042050_00001   \n",
       "2     2292  DF1DF1DF14507038748_00030   \n",
       "3     1690  DF1DF1DF14507025269_00001   \n",
       "4     2670  DF1DF1DF14508046610_00001   \n",
       "..     ...                        ...   \n",
       "295  10187  DF3DF3DF34507076145_00080   \n",
       "296  10169  DF3DF3DF34507076139_00090   \n",
       "297  10193  DF3DF3DF34507076150_00140   \n",
       "298  10201  DF3DF3DF34508076157_00030   \n",
       "299  10196  DF3DF3DF34508076155_00050   \n",
       "\n",
       "                                              activity type  \\\n",
       "0    [14, 21, 21, 21, 21, 21, 21, 21, 21, 21, 21, 1...  DF1   \n",
       "1    [14, 21, 21, 21, 21, 21, 21, 21, 21, 21, 21, 2...  DF1   \n",
       "2                  [14, 19, 21, 40, 41, 20, 2, 20, 13]  DF1   \n",
       "3    [14, 19, 19, 19, 19, 19, 19, 19, 19, 19, 19, 2...  DF1   \n",
       "4    [14, 19, 19, 21, 21, 21, 21, 19, 19, 21, 21, 2...  DF1   \n",
       "..                                                 ...  ...   \n",
       "295  [4, 4, 4, 4, 4, 4, 4, 4, 4, 4, 4, 4, 4, 41, 4,...  DF3   \n",
       "296  [4, 4, 4, 4, 4, 4, 4, 4, 4, 4, 4, 41, 4, 14, 4...  DF3   \n",
       "297  [4, 4, 4, 4, 4, 4, 4, 4, 14, 4, 20, 41, 38, 4,...  DF3   \n",
       "298                  [4, 4, 4, 41, 4, 4, 14, 20, 4, 4]  DF3   \n",
       "299                    [41, 14, 4, 20, 4, 4, 13, 4, 4]  DF3   \n",
       "\n",
       "                                               c:n_chr  \\\n",
       "0    [\u000e, \u0015, \u0015, \u0015, \u0015, \u0015, \u0015, \u0015, \u0015, \u0015, \u0015, \u0013, \u0015, \u0015, \u0015, ...   \n",
       "1    [\u000e, \u0015, \u0015, \u0015, \u0015, \u0015, \u0015, \u0015, \u0015, \u0015, \u0015, \u0015, \u0015, \u0015, \u0013, ...   \n",
       "2                         [\u000e, \u0013, \u0015, (, ), \u0014, \u0002, \u0014, \\r]   \n",
       "3    [\u000e, \u0013, \u0013, \u0013, \u0013, \u0013, \u0013, \u0013, \u0013, \u0013, \u0013, \u0015, \u0015, \u0015, \u0015, ...   \n",
       "4    [\u000e, \u0013, \u0013, \u0015, \u0015, \u0015, \u0015, \u0013, \u0013, \u0015, \u0015, \u0015, \u0015, \u0015, \u0013, ...   \n",
       "..                                                 ...   \n",
       "295  [\u0004, \u0004, \u0004, \u0004, \u0004, \u0004, \u0004, \u0004, \u0004, \u0004, \u0004, \u0004, \u0004, ), \u0004, ...   \n",
       "296  [\u0004, \u0004, \u0004, \u0004, \u0004, \u0004, \u0004, \u0004, \u0004, \u0004, \u0004, ), \u0004, \u000e, \u0004, ...   \n",
       "297  [\u0004, \u0004, \u0004, \u0004, \u0004, \u0004, \u0004, \u0004, \u000e, \u0004, \u0014, ), &, \u0004, \u0004, ...   \n",
       "298                     [\u0004, \u0004, \u0004, ), \u0004, \u0004, \u000e, \u0014, \u0004, \u0004]   \n",
       "299                       [), \u000e, \u0004, \u0014, \u0004, \u0004, \\r, \u0004, \u0004]   \n",
       "\n",
       "                                               strings  \\\n",
       "0                \u000e\u0015\u0015\u0015\u0015\u0015\u0015\u0015\u0015\u0015\u0015\u0013\u0015\u0015\u0015\u0015\u0015\u0015\u0015\u0015\u0013\u0015\u0015\u0015\u0015\u0015\u0015\u0015\u0015\u0015\u0015\u0015\u0015\u0015\u0015\u0013\u0013   \n",
       "1           \u000e\u0015\u0015\u0015\u0015\u0015\u0015\u0015\u0015\u0015\u0015\u0015\u0015\u0015\u0013\u0013\u0015\u0015\u0015\u0015\u0015\u0015\u0015\u0015\u0015\u0015\u0015\u0015\u0015\u0013\u0013\u0013\u0013\u0013\u0015\u0015\u0015\u0015\u0015\u0015\u0013\u0013   \n",
       "2                                           \u000e\u0013\u0015()\u0014\u0002\u0014\\r   \n",
       "3    \u000e\u0013\u0013\u0013\u0013\u0013\u0013\u0013\u0013\u0013\u0013\u0015\u0015\u0015\u0015\u0015\u0015\u0015\u0015\u0015\u0015\u0013\u0013\u0013\u0013\u0013\u0015\u0015\u0015\u0015\u0015\u0015\u0013\u0013\u0013\u0013\u0013\u0013\u0013\u0013\u0013\u0015\u0015\u0015\u0015\u0015...   \n",
       "4                         \u000e\u0013\u0013\u0015\u0015\u0015\u0015\u0013\u0013\u0015\u0015\u0015\u0015\u0015\u0013\u0013\u0013\u0015\u0015\u0015\u0013\u0013\u0013\u0013\u0015\u0015\u0015\u0015   \n",
       "..                                                 ...   \n",
       "295                               \u0004\u0004\u0004\u0004\u0004\u0004\u0004\u0004\u0004\u0004\u0004\u0004\u0004)\u0004\u000e\u0004\u0014\u0004\u0004   \n",
       "296                                 \u0004\u0004\u0004\u0004\u0004\u0004\u0004\u0004\u0004\u0004\u0004)\u0004\u000e\u0004\u0014\u0004\u0004   \n",
       "297                                  \u0004\u0004\u0004\u0004\u0004\u0004\u0004\u0004\u000e\u0004\u0014)&\u0004\u0004\u0004\u0004   \n",
       "298                                         \u0004\u0004\u0004)\u0004\u0004\u000e\u0014\u0004\u0004   \n",
       "299                                         )\u000e\u0004\u0014\u0004\u0004\\r\u0004\u0004   \n",
       "\n",
       "                                               act_str  Count  \n",
       "0    [14, 21, 21, 21, 21, 21, 21, 21, 21, 21, 21, 1...      1  \n",
       "1    [14, 21, 21, 21, 21, 21, 21, 21, 21, 21, 21, 2...      1  \n",
       "2                  [14, 19, 21, 40, 41, 20, 2, 20, 13]      1  \n",
       "3    [14, 19, 19, 19, 19, 19, 19, 19, 19, 19, 19, 2...      1  \n",
       "4    [14, 19, 19, 21, 21, 21, 21, 19, 19, 21, 21, 2...      1  \n",
       "..                                                 ...    ...  \n",
       "295  [4, 4, 4, 4, 4, 4, 4, 4, 4, 4, 4, 4, 4, 41, 4,...      1  \n",
       "296  [4, 4, 4, 4, 4, 4, 4, 4, 4, 4, 4, 41, 4, 14, 4...      1  \n",
       "297  [4, 4, 4, 4, 4, 4, 4, 4, 14, 4, 20, 41, 38, 4,...      4  \n",
       "298                  [4, 4, 4, 41, 4, 4, 14, 20, 4, 4]      1  \n",
       "299                    [41, 14, 4, 20, 4, 4, 13, 4, 4]      3  \n",
       "\n",
       "[300 rows x 8 columns]"
      ]
     },
     "execution_count": 60,
     "metadata": {},
     "output_type": "execute_result"
    }
   ],
   "source": [
    "logVar"
   ]
  },
  {
   "cell_type": "code",
   "execution_count": 61,
   "id": "fa9d4df8",
   "metadata": {
    "scrolled": false
   },
   "outputs": [
    {
     "data": {
      "text/plain": [
       "DF1    100\n",
       "DF2    100\n",
       "DF3    100\n",
       "Name: type, dtype: int64"
      ]
     },
     "execution_count": 61,
     "metadata": {},
     "output_type": "execute_result"
    }
   ],
   "source": [
    "logVar['type'].value_counts()"
   ]
  },
  {
   "cell_type": "code",
   "execution_count": 80,
   "id": "fbeef15d",
   "metadata": {},
   "outputs": [],
   "source": [
    "#logVar.to_csv('logVar_PO_BPI2019_Sample.csv', index = False)"
   ]
  },
  {
   "cell_type": "code",
   "execution_count": 2,
   "id": "8984e247",
   "metadata": {},
   "outputs": [
    {
     "data": {
      "text/html": [
       "<div>\n",
       "<style scoped>\n",
       "    .dataframe tbody tr th:only-of-type {\n",
       "        vertical-align: middle;\n",
       "    }\n",
       "\n",
       "    .dataframe tbody tr th {\n",
       "        vertical-align: top;\n",
       "    }\n",
       "\n",
       "    .dataframe thead th {\n",
       "        text-align: right;\n",
       "    }\n",
       "</style>\n",
       "<table border=\"1\" class=\"dataframe\">\n",
       "  <thead>\n",
       "    <tr style=\"text-align: right;\">\n",
       "      <th></th>\n",
       "      <th>index</th>\n",
       "      <th>case:concept:name</th>\n",
       "      <th>activity</th>\n",
       "      <th>type</th>\n",
       "      <th>c:n_chr</th>\n",
       "      <th>strings</th>\n",
       "      <th>act_str</th>\n",
       "      <th>Count</th>\n",
       "      <th>class</th>\n",
       "    </tr>\n",
       "  </thead>\n",
       "  <tbody>\n",
       "    <tr>\n",
       "      <th>0</th>\n",
       "      <td>2648</td>\n",
       "      <td>DF1DF1DF14508046320_00001</td>\n",
       "      <td>[14, 21, 21, 21, 21, 21, 21, 21, 21, 21, 21, 1...</td>\n",
       "      <td>DF1</td>\n",
       "      <td>['\\x0e', '\\x15', '\\x15', '\\x15', '\\x15', '\\x15...</td>\n",
       "      <td>\u000e\u0015\u0015\u0015\u0015\u0015\u0015\u0015\u0015\u0015\u0015\u0013\u0015\u0015\u0015\u0015\u0015\u0015\u0015\u0015\u0013\u0015\u0015\u0015\u0015\u0015\u0015\u0015\u0015\u0015\u0015\u0015\u0015\u0015\u0015\u0013\u0013</td>\n",
       "      <td>[14, 21, 21, 21, 21, 21, 21, 21, 21, 21, 21, 1...</td>\n",
       "      <td>1</td>\n",
       "      <td>0</td>\n",
       "    </tr>\n",
       "    <tr>\n",
       "      <th>1</th>\n",
       "      <td>2462</td>\n",
       "      <td>DF1DF1DF14507042050_00001</td>\n",
       "      <td>[14, 21, 21, 21, 21, 21, 21, 21, 21, 21, 21, 2...</td>\n",
       "      <td>DF1</td>\n",
       "      <td>['\\x0e', '\\x15', '\\x15', '\\x15', '\\x15', '\\x15...</td>\n",
       "      <td>\u000e\u0015\u0015\u0015\u0015\u0015\u0015\u0015\u0015\u0015\u0015\u0015\u0015\u0015\u0013\u0013\u0015\u0015\u0015\u0015\u0015\u0015\u0015\u0015\u0015\u0015\u0015\u0015\u0015\u0013\u0013\u0013\u0013\u0013\u0015\u0015\u0015\u0015\u0015\u0015\u0013\u0013</td>\n",
       "      <td>[14, 21, 21, 21, 21, 21, 21, 21, 21, 21, 21, 2...</td>\n",
       "      <td>1</td>\n",
       "      <td>0</td>\n",
       "    </tr>\n",
       "    <tr>\n",
       "      <th>2</th>\n",
       "      <td>2292</td>\n",
       "      <td>DF1DF1DF14507038748_00030</td>\n",
       "      <td>[14, 19, 21, 40, 41, 20, 2, 20, 13]</td>\n",
       "      <td>DF1</td>\n",
       "      <td>['\\x0e', '\\x13', '\\x15', '(', ')', '\\x14', '\\x...</td>\n",
       "      <td>\u000e\u0013\u0015()\u0014\u0002\u0014\\r</td>\n",
       "      <td>[14, 19, 21, 40, 41, 20, 2, 20, 13]</td>\n",
       "      <td>1</td>\n",
       "      <td>0</td>\n",
       "    </tr>\n",
       "    <tr>\n",
       "      <th>3</th>\n",
       "      <td>1690</td>\n",
       "      <td>DF1DF1DF14507025269_00001</td>\n",
       "      <td>[14, 19, 19, 19, 19, 19, 19, 19, 19, 19, 19, 2...</td>\n",
       "      <td>DF1</td>\n",
       "      <td>['\\x0e', '\\x13', '\\x13', '\\x13', '\\x13', '\\x13...</td>\n",
       "      <td>\u000e\u0013\u0013\u0013\u0013\u0013\u0013\u0013\u0013\u0013\u0013\u0015\u0015\u0015\u0015\u0015\u0015\u0015\u0015\u0015\u0015\u0013\u0013\u0013\u0013\u0013\u0015\u0015\u0015\u0015\u0015\u0015\u0013\u0013\u0013\u0013\u0013\u0013\u0013\u0013\u0013\u0015\u0015\u0015\u0015\u0015...</td>\n",
       "      <td>[14, 19, 19, 19, 19, 19, 19, 19, 19, 19, 19, 2...</td>\n",
       "      <td>1</td>\n",
       "      <td>0</td>\n",
       "    </tr>\n",
       "    <tr>\n",
       "      <th>4</th>\n",
       "      <td>2670</td>\n",
       "      <td>DF1DF1DF14508046610_00001</td>\n",
       "      <td>[14, 19, 19, 21, 21, 21, 21, 19, 19, 21, 21, 2...</td>\n",
       "      <td>DF1</td>\n",
       "      <td>['\\x0e', '\\x13', '\\x13', '\\x15', '\\x15', '\\x15...</td>\n",
       "      <td>\u000e\u0013\u0013\u0015\u0015\u0015\u0015\u0013\u0013\u0015\u0015\u0015\u0015\u0015\u0013\u0013\u0013\u0015\u0015\u0015\u0013\u0013\u0013\u0013\u0015\u0015\u0015\u0015</td>\n",
       "      <td>[14, 19, 19, 21, 21, 21, 21, 19, 19, 21, 21, 2...</td>\n",
       "      <td>1</td>\n",
       "      <td>0</td>\n",
       "    </tr>\n",
       "    <tr>\n",
       "      <th>...</th>\n",
       "      <td>...</td>\n",
       "      <td>...</td>\n",
       "      <td>...</td>\n",
       "      <td>...</td>\n",
       "      <td>...</td>\n",
       "      <td>...</td>\n",
       "      <td>...</td>\n",
       "      <td>...</td>\n",
       "      <td>...</td>\n",
       "    </tr>\n",
       "    <tr>\n",
       "      <th>295</th>\n",
       "      <td>10187</td>\n",
       "      <td>DF3DF3DF34507076145_00080</td>\n",
       "      <td>[4, 4, 4, 4, 4, 4, 4, 4, 4, 4, 4, 4, 4, 41, 4,...</td>\n",
       "      <td>DF3</td>\n",
       "      <td>['\\x04', '\\x04', '\\x04', '\\x04', '\\x04', '\\x04...</td>\n",
       "      <td>\u0004\u0004\u0004\u0004\u0004\u0004\u0004\u0004\u0004\u0004\u0004\u0004\u0004)\u0004\u000e\u0004\u0014\u0004\u0004</td>\n",
       "      <td>[4, 4, 4, 4, 4, 4, 4, 4, 4, 4, 4, 4, 4, 41, 4,...</td>\n",
       "      <td>1</td>\n",
       "      <td>2</td>\n",
       "    </tr>\n",
       "    <tr>\n",
       "      <th>296</th>\n",
       "      <td>10169</td>\n",
       "      <td>DF3DF3DF34507076139_00090</td>\n",
       "      <td>[4, 4, 4, 4, 4, 4, 4, 4, 4, 4, 4, 41, 4, 14, 4...</td>\n",
       "      <td>DF3</td>\n",
       "      <td>['\\x04', '\\x04', '\\x04', '\\x04', '\\x04', '\\x04...</td>\n",
       "      <td>\u0004\u0004\u0004\u0004\u0004\u0004\u0004\u0004\u0004\u0004\u0004)\u0004\u000e\u0004\u0014\u0004\u0004</td>\n",
       "      <td>[4, 4, 4, 4, 4, 4, 4, 4, 4, 4, 4, 41, 4, 14, 4...</td>\n",
       "      <td>1</td>\n",
       "      <td>2</td>\n",
       "    </tr>\n",
       "    <tr>\n",
       "      <th>297</th>\n",
       "      <td>10193</td>\n",
       "      <td>DF3DF3DF34507076150_00140</td>\n",
       "      <td>[4, 4, 4, 4, 4, 4, 4, 4, 14, 4, 20, 41, 38, 4,...</td>\n",
       "      <td>DF3</td>\n",
       "      <td>['\\x04', '\\x04', '\\x04', '\\x04', '\\x04', '\\x04...</td>\n",
       "      <td>\u0004\u0004\u0004\u0004\u0004\u0004\u0004\u0004\u000e\u0004\u0014)&amp;\u0004\u0004\u0004\u0004</td>\n",
       "      <td>[4, 4, 4, 4, 4, 4, 4, 4, 14, 4, 20, 41, 38, 4,...</td>\n",
       "      <td>4</td>\n",
       "      <td>2</td>\n",
       "    </tr>\n",
       "    <tr>\n",
       "      <th>298</th>\n",
       "      <td>10201</td>\n",
       "      <td>DF3DF3DF34508076157_00030</td>\n",
       "      <td>[4, 4, 4, 41, 4, 4, 14, 20, 4, 4]</td>\n",
       "      <td>DF3</td>\n",
       "      <td>['\\x04', '\\x04', '\\x04', ')', '\\x04', '\\x04', ...</td>\n",
       "      <td>\u0004\u0004\u0004)\u0004\u0004\u000e\u0014\u0004\u0004</td>\n",
       "      <td>[4, 4, 4, 41, 4, 4, 14, 20, 4, 4]</td>\n",
       "      <td>1</td>\n",
       "      <td>2</td>\n",
       "    </tr>\n",
       "    <tr>\n",
       "      <th>299</th>\n",
       "      <td>10196</td>\n",
       "      <td>DF3DF3DF34508076155_00050</td>\n",
       "      <td>[41, 14, 4, 20, 4, 4, 13, 4, 4]</td>\n",
       "      <td>DF3</td>\n",
       "      <td>[')', '\\x0e', '\\x04', '\\x14', '\\x04', '\\x04', ...</td>\n",
       "      <td>)\u000e\u0004\u0014\u0004\u0004\\r\u0004\u0004</td>\n",
       "      <td>[41, 14, 4, 20, 4, 4, 13, 4, 4]</td>\n",
       "      <td>3</td>\n",
       "      <td>2</td>\n",
       "    </tr>\n",
       "  </tbody>\n",
       "</table>\n",
       "<p>300 rows × 9 columns</p>\n",
       "</div>"
      ],
      "text/plain": [
       "     index          case:concept:name  \\\n",
       "0     2648  DF1DF1DF14508046320_00001   \n",
       "1     2462  DF1DF1DF14507042050_00001   \n",
       "2     2292  DF1DF1DF14507038748_00030   \n",
       "3     1690  DF1DF1DF14507025269_00001   \n",
       "4     2670  DF1DF1DF14508046610_00001   \n",
       "..     ...                        ...   \n",
       "295  10187  DF3DF3DF34507076145_00080   \n",
       "296  10169  DF3DF3DF34507076139_00090   \n",
       "297  10193  DF3DF3DF34507076150_00140   \n",
       "298  10201  DF3DF3DF34508076157_00030   \n",
       "299  10196  DF3DF3DF34508076155_00050   \n",
       "\n",
       "                                              activity type  \\\n",
       "0    [14, 21, 21, 21, 21, 21, 21, 21, 21, 21, 21, 1...  DF1   \n",
       "1    [14, 21, 21, 21, 21, 21, 21, 21, 21, 21, 21, 2...  DF1   \n",
       "2                  [14, 19, 21, 40, 41, 20, 2, 20, 13]  DF1   \n",
       "3    [14, 19, 19, 19, 19, 19, 19, 19, 19, 19, 19, 2...  DF1   \n",
       "4    [14, 19, 19, 21, 21, 21, 21, 19, 19, 21, 21, 2...  DF1   \n",
       "..                                                 ...  ...   \n",
       "295  [4, 4, 4, 4, 4, 4, 4, 4, 4, 4, 4, 4, 4, 41, 4,...  DF3   \n",
       "296  [4, 4, 4, 4, 4, 4, 4, 4, 4, 4, 4, 41, 4, 14, 4...  DF3   \n",
       "297  [4, 4, 4, 4, 4, 4, 4, 4, 14, 4, 20, 41, 38, 4,...  DF3   \n",
       "298                  [4, 4, 4, 41, 4, 4, 14, 20, 4, 4]  DF3   \n",
       "299                    [41, 14, 4, 20, 4, 4, 13, 4, 4]  DF3   \n",
       "\n",
       "                                               c:n_chr  \\\n",
       "0    ['\\x0e', '\\x15', '\\x15', '\\x15', '\\x15', '\\x15...   \n",
       "1    ['\\x0e', '\\x15', '\\x15', '\\x15', '\\x15', '\\x15...   \n",
       "2    ['\\x0e', '\\x13', '\\x15', '(', ')', '\\x14', '\\x...   \n",
       "3    ['\\x0e', '\\x13', '\\x13', '\\x13', '\\x13', '\\x13...   \n",
       "4    ['\\x0e', '\\x13', '\\x13', '\\x15', '\\x15', '\\x15...   \n",
       "..                                                 ...   \n",
       "295  ['\\x04', '\\x04', '\\x04', '\\x04', '\\x04', '\\x04...   \n",
       "296  ['\\x04', '\\x04', '\\x04', '\\x04', '\\x04', '\\x04...   \n",
       "297  ['\\x04', '\\x04', '\\x04', '\\x04', '\\x04', '\\x04...   \n",
       "298  ['\\x04', '\\x04', '\\x04', ')', '\\x04', '\\x04', ...   \n",
       "299  [')', '\\x0e', '\\x04', '\\x14', '\\x04', '\\x04', ...   \n",
       "\n",
       "                                               strings  \\\n",
       "0                \u000e\u0015\u0015\u0015\u0015\u0015\u0015\u0015\u0015\u0015\u0015\u0013\u0015\u0015\u0015\u0015\u0015\u0015\u0015\u0015\u0013\u0015\u0015\u0015\u0015\u0015\u0015\u0015\u0015\u0015\u0015\u0015\u0015\u0015\u0015\u0013\u0013   \n",
       "1           \u000e\u0015\u0015\u0015\u0015\u0015\u0015\u0015\u0015\u0015\u0015\u0015\u0015\u0015\u0013\u0013\u0015\u0015\u0015\u0015\u0015\u0015\u0015\u0015\u0015\u0015\u0015\u0015\u0015\u0013\u0013\u0013\u0013\u0013\u0015\u0015\u0015\u0015\u0015\u0015\u0013\u0013   \n",
       "2                                           \u000e\u0013\u0015()\u0014\u0002\u0014\\r   \n",
       "3    \u000e\u0013\u0013\u0013\u0013\u0013\u0013\u0013\u0013\u0013\u0013\u0015\u0015\u0015\u0015\u0015\u0015\u0015\u0015\u0015\u0015\u0013\u0013\u0013\u0013\u0013\u0015\u0015\u0015\u0015\u0015\u0015\u0013\u0013\u0013\u0013\u0013\u0013\u0013\u0013\u0013\u0015\u0015\u0015\u0015\u0015...   \n",
       "4                         \u000e\u0013\u0013\u0015\u0015\u0015\u0015\u0013\u0013\u0015\u0015\u0015\u0015\u0015\u0013\u0013\u0013\u0015\u0015\u0015\u0013\u0013\u0013\u0013\u0015\u0015\u0015\u0015   \n",
       "..                                                 ...   \n",
       "295                               \u0004\u0004\u0004\u0004\u0004\u0004\u0004\u0004\u0004\u0004\u0004\u0004\u0004)\u0004\u000e\u0004\u0014\u0004\u0004   \n",
       "296                                 \u0004\u0004\u0004\u0004\u0004\u0004\u0004\u0004\u0004\u0004\u0004)\u0004\u000e\u0004\u0014\u0004\u0004   \n",
       "297                                  \u0004\u0004\u0004\u0004\u0004\u0004\u0004\u0004\u000e\u0004\u0014)&\u0004\u0004\u0004\u0004   \n",
       "298                                         \u0004\u0004\u0004)\u0004\u0004\u000e\u0014\u0004\u0004   \n",
       "299                                         )\u000e\u0004\u0014\u0004\u0004\\r\u0004\u0004   \n",
       "\n",
       "                                               act_str  Count  class  \n",
       "0    [14, 21, 21, 21, 21, 21, 21, 21, 21, 21, 21, 1...      1      0  \n",
       "1    [14, 21, 21, 21, 21, 21, 21, 21, 21, 21, 21, 2...      1      0  \n",
       "2                  [14, 19, 21, 40, 41, 20, 2, 20, 13]      1      0  \n",
       "3    [14, 19, 19, 19, 19, 19, 19, 19, 19, 19, 19, 2...      1      0  \n",
       "4    [14, 19, 19, 21, 21, 21, 21, 19, 19, 21, 21, 2...      1      0  \n",
       "..                                                 ...    ...    ...  \n",
       "295  [4, 4, 4, 4, 4, 4, 4, 4, 4, 4, 4, 4, 4, 41, 4,...      1      2  \n",
       "296  [4, 4, 4, 4, 4, 4, 4, 4, 4, 4, 4, 41, 4, 14, 4...      1      2  \n",
       "297  [4, 4, 4, 4, 4, 4, 4, 4, 14, 4, 20, 41, 38, 4,...      4      2  \n",
       "298                  [4, 4, 4, 41, 4, 4, 14, 20, 4, 4]      1      2  \n",
       "299                    [41, 14, 4, 20, 4, 4, 13, 4, 4]      3      2  \n",
       "\n",
       "[300 rows x 9 columns]"
      ]
     },
     "execution_count": 2,
     "metadata": {},
     "output_type": "execute_result"
    }
   ],
   "source": [
    "#To be able to replicate our results we proivde the randomized sample use for the calculations\n",
    "logVar = pd.read_csv('logVar_PO_BPI2019_Sample.csv')\n",
    "logVar"
   ]
  },
  {
   "cell_type": "code",
   "execution_count": 3,
   "id": "14829d3a",
   "metadata": {},
   "outputs": [],
   "source": [
    "import ast\n",
    "\n",
    "logVar[\"activity\"] = logVar[\"activity\"].apply(lambda x: ast.literal_eval(x))\n",
    "logVar[\"c:n_chr\"] = logVar[\"activity\"].apply(lambda x: [chr(int(i)) for i in x])\n",
    "logVar[\"strings\"] = logVar[\"c:n_chr\"].apply(lambda x: ''.join(x))"
   ]
  },
  {
   "cell_type": "code",
   "execution_count": 4,
   "id": "49aee715",
   "metadata": {},
   "outputs": [],
   "source": [
    "logVar[\"length\"] = logVar[\"activity\"].apply(lambda x: len(x))"
   ]
  },
  {
   "cell_type": "code",
   "execution_count": 5,
   "id": "c05a28d6",
   "metadata": {},
   "outputs": [
    {
     "data": {
      "text/plain": [
       "324"
      ]
     },
     "execution_count": 5,
     "metadata": {},
     "output_type": "execute_result"
    }
   ],
   "source": [
    "logVar['length'].max()"
   ]
  },
  {
   "cell_type": "code",
   "execution_count": 6,
   "id": "e3a846e5",
   "metadata": {},
   "outputs": [
    {
     "data": {
      "text/plain": [
       "8"
      ]
     },
     "execution_count": 6,
     "metadata": {},
     "output_type": "execute_result"
    }
   ],
   "source": [
    "logVar['length'].min()"
   ]
  },
  {
   "cell_type": "markdown",
   "id": "e07bf24c",
   "metadata": {},
   "source": [
    "## Ground truth "
   ]
  },
  {
   "cell_type": "code",
   "execution_count": 7,
   "id": "52b2134a",
   "metadata": {},
   "outputs": [],
   "source": [
    "#Create dictionary with true labels\n",
    "\n",
    "labelDict1 = logVar['class'].to_dict()\n",
    "#labelDict1"
   ]
  },
  {
   "cell_type": "code",
   "execution_count": 8,
   "id": "954dd58b",
   "metadata": {},
   "outputs": [],
   "source": [
    "logVar[\"c:n_chr\"] = logVar[\"activity\"].apply(lambda x: [chr(i) for i in x])\n",
    "logVar[\"strings\"] = logVar[\"c:n_chr\"].apply(lambda x: ''.join(x))"
   ]
  },
  {
   "cell_type": "code",
   "execution_count": 9,
   "id": "93bb9e3e",
   "metadata": {},
   "outputs": [],
   "source": [
    "def matrix_calc(features, distance):\n",
    "    n = len(features)\n",
    "    dist_matrix = np.zeros((n,n))\n",
    "    \n",
    "    for i in range(n):\n",
    "        for j in range(i, n):\n",
    "            dist_matrix[i,j] = distance(features[i], features[j])\n",
    "            dist_matrix[j,i] = dist_matrix[i,j]\n",
    "    \n",
    "    return dist_matrix"
   ]
  },
  {
   "cell_type": "code",
   "execution_count": 10,
   "id": "b2455a1a",
   "metadata": {},
   "outputs": [],
   "source": [
    "def results(DistMatrix):\n",
    "    print('NN:   ' + str(NearestNeighbor(DistMatrix, labelDict1)))\n",
    "    print('P@10: ' + str(PrecisionAtK(DistMatrix, labelDict1, 10)))\n",
    "\n",
    "    triplet = BatchAllTtripletLoss()\n",
    "    print('Tri:  ' + str(triplet.forward(DistMatrix,labelDict1)))\n",
    "    print('Sil:  ' + str(Silhouette(DistMatrix, labelDict1)))"
   ]
  },
  {
   "cell_type": "markdown",
   "id": "3a0863e5",
   "metadata": {},
   "source": [
    "## Evaluation based on Nearest Neighbor"
   ]
  },
  {
   "cell_type": "code",
   "execution_count": 11,
   "id": "8407d2ab",
   "metadata": {},
   "outputs": [
    {
     "data": {
      "text/plain": [
       "'\\nx = np.array([[ 0, 12,  8, 10, 12],\\n       [5,  0,  9, 14, 17],\\n       [ 8,  9,  0, 12, 10],\\n       [ 8,  9,  1, 0, 10],\\n       [ 8,  9,  5, 4, 0]])\\n\\nlabelDict2 = {0:1,1:2,2:1,3:3,4:3}\\nNearestNeighbor(x, labelDict2)\\n'"
      ]
     },
     "execution_count": 11,
     "metadata": {},
     "output_type": "execute_result"
    }
   ],
   "source": [
    "def NearestNeighbor(matrix, labelDict):\n",
    "    \n",
    "    clusterLabel = set(labelDict.values())\n",
    "    clusterMeasuredCount = dict.fromkeys(list(clusterLabel), 0)\n",
    "    \n",
    "    for i in range(len(matrix)):\n",
    "        #delete 0 in array matrix[i] for distance between (i,i)\n",
    "        x = np.delete(matrix[i], i) \n",
    "        #identify min distance/value in array\n",
    "        y = min(x)\n",
    "        \n",
    "        #identify position of y AND select first position/pair appearing in the array in case there are muliple pairs with identical min distance\n",
    "        nearestNeighbor = np.where(x == y)[0] #problem if multiple positions??\n",
    "        nearestNeighbor = int(nearestNeighbor[0])\n",
    "        \n",
    "        #true Label for i\n",
    "        trueLabel = labelDict[i]\n",
    "        \n",
    "        #for label comparison add +1 to dict position if position occurs after i (because of the deletion of 0 at the beginning)\n",
    "        if nearestNeighbor >= i:\n",
    "            if trueLabel == labelDict[nearestNeighbor + 1]:\n",
    "                clusterMeasuredCount[trueLabel] += 1         \n",
    "        else:\n",
    "            if trueLabel == labelDict[nearestNeighbor]:\n",
    "                clusterMeasuredCount[trueLabel] += 1\n",
    "    \n",
    "    #Count the (true) number of traces per label/attribute\n",
    "    clusterTrueCount = {}\n",
    "    for i in clusterLabel:\n",
    "        clusterTrueCount[i] = list(labelDict.values()).count(i)\n",
    "    \n",
    "    #Divide number of nearest neighbours with identical label by the respective (true number) of traces with this label\n",
    "    metric = 0\n",
    "    for i in clusterLabel:\n",
    "        metric += clusterMeasuredCount[i] / clusterTrueCount[i]\n",
    "        \n",
    "    #print(clusterMeasuredCount, clusterTrueCount, metric)\n",
    "    \n",
    "    #print(clusterMeasuredCount)\n",
    "    #print(clusterTrueCount)\n",
    "    #print(clusterLabel)\n",
    "    #print(metric)\n",
    "    return metric / len(clusterLabel)\n",
    "\n",
    "\n",
    "'''\n",
    "x = np.array([[ 0, 12,  8, 10, 12],\n",
    "       [5,  0,  9, 14, 17],\n",
    "       [ 8,  9,  0, 12, 10],\n",
    "       [ 8,  9,  1, 0, 10],\n",
    "       [ 8,  9,  5, 4, 0]])\n",
    "\n",
    "labelDict2 = {0:1,1:2,2:1,3:3,4:3}\n",
    "NearestNeighbor(x, labelDict2)\n",
    "'''"
   ]
  },
  {
   "cell_type": "markdown",
   "id": "3c0aae66",
   "metadata": {},
   "source": [
    "## Evaluation based on Precision@k"
   ]
  },
  {
   "cell_type": "code",
   "execution_count": 12,
   "id": "24a0d082",
   "metadata": {},
   "outputs": [
    {
     "data": {
      "text/plain": [
       "'\\nx3 = np.array([[ 0, 12,  8, 10, 12],\\n       [5,  0,  9, 14, 17],\\n       [ 8,  9,  0, 12, 10],\\n       [ 8,  9,  1, 0, 10],\\n       [ 4,  8,  4, 4, 0]]) # --> Issue: How to select NN when identical distance values !!!\\n\\nlabelDict3 = {0:1,1:2,2:1,3:3,4:3}\\nPrecisionAtK(x3, labelDict3, 2)\\n'"
      ]
     },
     "execution_count": 12,
     "metadata": {},
     "output_type": "execute_result"
    }
   ],
   "source": [
    "def get_key_by_value(dictionary, value):\n",
    "    for key, val in dictionary.items():\n",
    "        if val == value:\n",
    "            return key\n",
    "    #return None  # Return None if the value is not found in the dictionary\n",
    "\n",
    "\n",
    "\n",
    "\n",
    "def PrecisionAtK(matrix, labelDict, k):\n",
    "    \n",
    "    clusterLabel = set(labelDict.values())\n",
    "    clusterMeasuredCount = dict.fromkeys(list(clusterLabel), 0)\n",
    "    \n",
    "    \n",
    "    for i in range(len(matrix)):\n",
    "        \n",
    "        #true Label for i\n",
    "        trueLabel = labelDict[i]\n",
    "\n",
    "        \n",
    "        #delete 0 in array matrix[i] for distance between (i,i)   \n",
    "        x = np.delete(matrix[i], i)\n",
    "        \n",
    "        #get all k minimum values\n",
    "        nnValues = []\n",
    "        for l in range(k):\n",
    "            y = min(x)\n",
    "            nnValues.append(y)\n",
    "            x = np.delete(x, np.where(x == y)[0][0])\n",
    "        \n",
    "        \n",
    "        #get location of minimum values\n",
    "        z = np.delete(matrix[i], i)\n",
    "        \n",
    "        #create dict from array with {position:value}\n",
    "        my_dict = {}\n",
    "        for m in range(len(z)):\n",
    "            my_dict[m] = z[m]\n",
    "        \n",
    "        key_list = []\n",
    "        for n in nnValues:\n",
    "            key = get_key_by_value(my_dict, n)\n",
    "            key_list.append(key)\n",
    "            del my_dict[key]\n",
    "        \n",
    "        for o in range(k):\n",
    "            position = list(key_list)[o]\n",
    "\n",
    "            if position >= i:\n",
    "                if trueLabel == labelDict[position + 1]:\n",
    "                    clusterMeasuredCount[trueLabel] += 1\n",
    "\n",
    "            else:\n",
    "                if trueLabel == labelDict[position]:\n",
    "                    clusterMeasuredCount[trueLabel] += 1\n",
    "\n",
    "            #transform array to dict\n",
    "            #get key value from dict\n",
    "            #compare label\n",
    "            #remove key+value from dict\n",
    "\n",
    "            #Need exception in case y == 0 ??\n",
    "            \n",
    "    \n",
    "    #Count the (true) number of traces per label/attribute\n",
    "    clusterTrueCount = {}\n",
    "    for i in clusterLabel:\n",
    "        clusterTrueCount[i] = list(labelDict.values()).count(i)\n",
    "    \n",
    "    #Divide number of nearest neighbours with identical label by the respective (true number) of traces with this label\n",
    "    metric = 0\n",
    "    for i in clusterLabel:\n",
    "        metric += clusterMeasuredCount[i] / k / clusterTrueCount[i]\n",
    "        \n",
    "    #print(clusterMeasuredCount, clusterTrueCount, metric)\n",
    "    \n",
    "    #print(clusterLabel)\n",
    "    #print(metric)\n",
    "    return metric / len(clusterLabel)\n",
    "\n",
    "\n",
    "'''\n",
    "x3 = np.array([[ 0, 12,  8, 10, 12],\n",
    "       [5,  0,  9, 14, 17],\n",
    "       [ 8,  9,  0, 12, 10],\n",
    "       [ 8,  9,  1, 0, 10],\n",
    "       [ 4,  8,  4, 4, 0]]) # --> Issue: How to select NN when identical distance values !!!\n",
    "\n",
    "labelDict3 = {0:1,1:2,2:1,3:3,4:3}\n",
    "PrecisionAtK(x3, labelDict3, 2)\n",
    "'''"
   ]
  },
  {
   "cell_type": "markdown",
   "id": "f18183bf",
   "metadata": {},
   "source": [
    "## Triplet\n",
    "\n",
    "see: https://towardsdatascience.com/triplet-loss-advanced-intro-49a07b7d8905"
   ]
  },
  {
   "cell_type": "code",
   "execution_count": 13,
   "id": "2b8138ad",
   "metadata": {},
   "outputs": [],
   "source": [
    "import torch\n",
    "import torch.nn as nn\n",
    "import torch.nn.functional as F"
   ]
  },
  {
   "cell_type": "code",
   "execution_count": 14,
   "id": "836bd93b",
   "metadata": {},
   "outputs": [],
   "source": [
    "def get_triplet_mask(labels):\n",
    "    \n",
    "    # step 1 - get a mask for distinct indices\n",
    "    ###print('labels', labels)\n",
    "    # shape: (batch_size, batch_size)\n",
    "    indices_equal = torch.eye(labels.size()[0], dtype=torch.bool, device=labels.device)\n",
    "    ###print('equal', indices_equal)\n",
    "    indices_not_equal = torch.logical_not(indices_equal)\n",
    "    ###print('not_equal', indices_not_equal)\n",
    "\n",
    "    # shape: (batch_size, batch_size, 1)\n",
    "    i_not_equal_j = indices_not_equal.unsqueeze(2)\n",
    "    ###print('i_not_j - unsqueeze2', i_not_equal_j)\n",
    "    # shape: (batch_size, 1, batch_size)\n",
    "    i_not_equal_k = indices_not_equal.unsqueeze(1)\n",
    "    ###print('i_not_k - unsqueeze1', i_not_equal_k)\n",
    "    # shape: (1, batch_size, batch_size)\n",
    "    j_not_equal_k = indices_not_equal.unsqueeze(0)\n",
    "    ###print('j_not_k - unsqueeze0', i_not_equal_k)\n",
    "    # Shape: (batch_size, batch_size, batch_size)\n",
    "    distinct_indices = torch.logical_and(torch.logical_and(i_not_equal_j, i_not_equal_k), j_not_equal_k)\n",
    "    ###print('distinct!!!!', distinct_indices)\n",
    "\n",
    "    # step 2 - get a mask for valid anchor-positive-negative triplets\n",
    "    # shape: (batch_size, batch_size)\n",
    "    labels_equal = labels.unsqueeze(0) == labels.unsqueeze(1)\n",
    "    ###print('labels_equal', labels_equal)\n",
    "    # shape: (batch_size, batch_size, 1)\n",
    "    i_equal_j = labels_equal.unsqueeze(2)\n",
    "    ###print('i_equal_j', i_equal_j)\n",
    "    # shape: (batch_size, 1, batch_size)\n",
    "    i_equal_k = labels_equal.unsqueeze(1)\n",
    "    ###print('i_equal_k', i_equal_k)\n",
    "    # shape: (batch_size, batch_size, batch_size)\n",
    "    valid_indices = torch.logical_and(i_equal_j, torch.logical_not(i_equal_k))\n",
    "    ###print('valid_indices!!!', valid_indices)\n",
    "    \n",
    "\n",
    "    # step 3 - combine two masks\n",
    "    mask = torch.logical_and(distinct_indices, valid_indices)\n",
    "    ###print('mask!!', mask)\n",
    "    return mask\n",
    "\n",
    "    \"\"\"compute a mask for valid triplets\n",
    "    Args:\n",
    "        labels: Batch of integer labels. shape: (batch_size,)\n",
    "    Returns:\n",
    "        Mask tensor to indicate which triplets are actually valid. Shape: (batch_size, batch_size, batch_size)\n",
    "        A triplet is valid if:\n",
    "        `labels[i] == labels[j] and labels[i] != labels[k]`\n",
    "        and `i`, `j`, `k` are different.\n",
    "    \"\"\"\n",
    "    \n",
    "class custom_activation(nn.Module):\n",
    "    def __init__(self):\n",
    "        super(custom_activation, self).__init__()\n",
    "    \n",
    "    def forward(self, x):\n",
    "        x[x>0] = 1\n",
    "        x[x<=0] = 0\n",
    "        return x\n",
    "\n",
    "\n",
    "class BatchAllTtripletLoss(nn.Module):\n",
    "  \"\"\"Uses all valid triplets to compute Triplet loss\n",
    "\n",
    "  Args:\n",
    "    margin: Margin value in the Triplet Loss equation\n",
    "  \"\"\"\n",
    "  def __init__(self, margin=0): #default margin = 0\n",
    "    super().__init__()\n",
    "    self.margin = margin\n",
    "    self.relu = nn.ReLU() #new\n",
    "    self.custom = custom_activation()\n",
    "    \n",
    "  def forward(self, distance_matrix, labels):\n",
    "    \"\"\"computes loss value.\n",
    "\n",
    "    Args:\n",
    "      embeddings: Batch of embeddings, e.g., output of the encoder. shape: (batch_size, embedding_dim)\n",
    "      labels: Batch of integer labels associated with embeddings. shape: (batch_size,)\n",
    "\n",
    "    Returns:\n",
    "      Scalar loss value.\n",
    "    \"\"\"\n",
    "    # step 1 - convert to tensor format\n",
    "    distance_matrix = torch.tensor(distance_matrix)\n",
    "    labels = torch.tensor(list(labels.values()))\n",
    "\n",
    "\n",
    "    # step 2 - compute loss values for all triplets by applying broadcasting to distance matrix\n",
    "\n",
    "    # shape: (batch_size, batch_size, 1)\n",
    "    anchor_positive_dists = distance_matrix.unsqueeze(2)\n",
    "    # shape: (batch_size, 1, batch_size)\n",
    "    anchor_negative_dists = distance_matrix.unsqueeze(1)\n",
    "    # get loss values for all possible n^3 triplets\n",
    "    # shape: (batch_size, batch_size, batch_size)\n",
    "    triplet_loss = anchor_negative_dists - anchor_positive_dists + self.margin\n",
    "    ###print('tl0',triplet_loss)\n",
    "\n",
    "    # step 3 - filter out invalid or easy triplets by setting their loss values to 0\n",
    "\n",
    "    # shape: (batch_size, batch_size, batch_size)\n",
    "    mask = get_triplet_mask(labels)\n",
    "    ###print('mask', mask)\n",
    "    triplet_loss *= mask\n",
    "    ###print(triplet_loss)\n",
    "    ###print('tl1:', triplet_loss)\n",
    "    # easy triplets have negative loss values\n",
    "    \n",
    "    triplet_loss = self.custom(triplet_loss)\n",
    "    ###print(triplet_loss)\n",
    "    #triplet_loss = F.relu(triplet_loss)\n",
    "\n",
    "    # step 4 - compute scalar loss value by averaging positive losses\n",
    "    \n",
    "    triLossNonZero = (triplet_loss != 0).nonzero(as_tuple=True)\n",
    "    labelTorchUnique = torch.unique(labels, return_counts=True)\n",
    "    \n",
    "    nonZero = len(triLossNonZero[0])\n",
    "    triLossSum = []\n",
    "    for i in range(nonZero):\n",
    "        #Identify L_a --> In Class\n",
    "        t1 = triLossNonZero[0][i]\n",
    "        labelIn = labels[t1]\n",
    "        positionIn = int((labelTorchUnique[0] == labelIn).nonzero(as_tuple=False))\n",
    "        countIn = labelTorchUnique[1][positionIn]\n",
    "\n",
    "        #Identify L_b --> Out Class\n",
    "        t3 = triLossNonZero[2][i]\n",
    "        labelOut = labels[t3]\n",
    "        positionOut = int((labelTorchUnique[0] == labelOut).nonzero(as_tuple=False))\n",
    "        countOut = labelTorchUnique[1][positionOut]\n",
    "\n",
    "        #Calculate loss\n",
    "        value = (1/countIn)*(1/countIn)*(1/countOut)  \n",
    "        ###print(countIn)\n",
    "        ###print(countOut)\n",
    "        triLossSum.append(value)\n",
    "    \n",
    "    #finally divide by |A|^2-|A|\n",
    "    A = len(labelTorchUnique[0])  \n",
    "    lossValue = sum(triLossSum) / (A*A-A)\n",
    "        \n",
    "    #OLD\n",
    "    #E_triplet = (1 / (A^2 - A)) *\n",
    "    #num_positive_losses = (triplet_loss > eps).float().sum()\n",
    "    #print(num_positive_losses)\n",
    "    #print(triplet_loss.sum())\n",
    "    #triplet_loss = triplet_loss.sum() / (num_positive_losses + eps)\n",
    "    \n",
    "\n",
    "    return lossValue"
   ]
  },
  {
   "cell_type": "markdown",
   "id": "0f12a92e",
   "metadata": {},
   "source": [
    "## Silhouette"
   ]
  },
  {
   "cell_type": "code",
   "execution_count": 15,
   "id": "26715870",
   "metadata": {},
   "outputs": [],
   "source": [
    "from sklearn import metrics\n",
    "\n",
    "def Silhouette(distMatrix, labelDict):\n",
    "    labelDictList = list(labelDict.values())\n",
    "    return metrics.silhouette_score(distMatrix, labelDictList)"
   ]
  },
  {
   "cell_type": "code",
   "execution_count": 16,
   "id": "84913e61",
   "metadata": {},
   "outputs": [
    {
     "data": {
      "text/html": [
       "<div>\n",
       "<style scoped>\n",
       "    .dataframe tbody tr th:only-of-type {\n",
       "        vertical-align: middle;\n",
       "    }\n",
       "\n",
       "    .dataframe tbody tr th {\n",
       "        vertical-align: top;\n",
       "    }\n",
       "\n",
       "    .dataframe thead th {\n",
       "        text-align: right;\n",
       "    }\n",
       "</style>\n",
       "<table border=\"1\" class=\"dataframe\">\n",
       "  <thead>\n",
       "    <tr style=\"text-align: right;\">\n",
       "      <th></th>\n",
       "      <th>index</th>\n",
       "      <th>case:concept:name</th>\n",
       "      <th>activity</th>\n",
       "      <th>type</th>\n",
       "      <th>c:n_chr</th>\n",
       "      <th>strings</th>\n",
       "      <th>act_str</th>\n",
       "      <th>Count</th>\n",
       "      <th>class</th>\n",
       "      <th>length</th>\n",
       "    </tr>\n",
       "  </thead>\n",
       "  <tbody>\n",
       "    <tr>\n",
       "      <th>0</th>\n",
       "      <td>2648</td>\n",
       "      <td>DF1DF1DF14508046320_00001</td>\n",
       "      <td>[14, 21, 21, 21, 21, 21, 21, 21, 21, 21, 21, 1...</td>\n",
       "      <td>DF1</td>\n",
       "      <td>[\u000e, \u0015, \u0015, \u0015, \u0015, \u0015, \u0015, \u0015, \u0015, \u0015, \u0015, \u0013, \u0015, \u0015, \u0015, ...</td>\n",
       "      <td>\u000e\u0015\u0015\u0015\u0015\u0015\u0015\u0015\u0015\u0015\u0015\u0013\u0015\u0015\u0015\u0015\u0015\u0015\u0015\u0015\u0013\u0015\u0015\u0015\u0015\u0015\u0015\u0015\u0015\u0015\u0015\u0015\u0015\u0015\u0015\u0013\u0013</td>\n",
       "      <td>[14, 21, 21, 21, 21, 21, 21, 21, 21, 21, 21, 1...</td>\n",
       "      <td>1</td>\n",
       "      <td>0</td>\n",
       "      <td>37</td>\n",
       "    </tr>\n",
       "    <tr>\n",
       "      <th>1</th>\n",
       "      <td>2462</td>\n",
       "      <td>DF1DF1DF14507042050_00001</td>\n",
       "      <td>[14, 21, 21, 21, 21, 21, 21, 21, 21, 21, 21, 2...</td>\n",
       "      <td>DF1</td>\n",
       "      <td>[\u000e, \u0015, \u0015, \u0015, \u0015, \u0015, \u0015, \u0015, \u0015, \u0015, \u0015, \u0015, \u0015, \u0015, \u0013, ...</td>\n",
       "      <td>\u000e\u0015\u0015\u0015\u0015\u0015\u0015\u0015\u0015\u0015\u0015\u0015\u0015\u0015\u0013\u0013\u0015\u0015\u0015\u0015\u0015\u0015\u0015\u0015\u0015\u0015\u0015\u0015\u0015\u0013\u0013\u0013\u0013\u0013\u0015\u0015\u0015\u0015\u0015\u0015\u0013\u0013</td>\n",
       "      <td>[14, 21, 21, 21, 21, 21, 21, 21, 21, 21, 21, 2...</td>\n",
       "      <td>1</td>\n",
       "      <td>0</td>\n",
       "      <td>42</td>\n",
       "    </tr>\n",
       "    <tr>\n",
       "      <th>2</th>\n",
       "      <td>2292</td>\n",
       "      <td>DF1DF1DF14507038748_00030</td>\n",
       "      <td>[14, 19, 21, 40, 41, 20, 2, 20, 13]</td>\n",
       "      <td>DF1</td>\n",
       "      <td>[\u000e, \u0013, \u0015, (, ), \u0014, \u0002, \u0014, \\r]</td>\n",
       "      <td>\u000e\u0013\u0015()\u0014\u0002\u0014\\r</td>\n",
       "      <td>[14, 19, 21, 40, 41, 20, 2, 20, 13]</td>\n",
       "      <td>1</td>\n",
       "      <td>0</td>\n",
       "      <td>9</td>\n",
       "    </tr>\n",
       "    <tr>\n",
       "      <th>3</th>\n",
       "      <td>1690</td>\n",
       "      <td>DF1DF1DF14507025269_00001</td>\n",
       "      <td>[14, 19, 19, 19, 19, 19, 19, 19, 19, 19, 19, 2...</td>\n",
       "      <td>DF1</td>\n",
       "      <td>[\u000e, \u0013, \u0013, \u0013, \u0013, \u0013, \u0013, \u0013, \u0013, \u0013, \u0013, \u0015, \u0015, \u0015, \u0015, ...</td>\n",
       "      <td>\u000e\u0013\u0013\u0013\u0013\u0013\u0013\u0013\u0013\u0013\u0013\u0015\u0015\u0015\u0015\u0015\u0015\u0015\u0015\u0015\u0015\u0013\u0013\u0013\u0013\u0013\u0015\u0015\u0015\u0015\u0015\u0015\u0013\u0013\u0013\u0013\u0013\u0013\u0013\u0013\u0013\u0015\u0015\u0015\u0015\u0015...</td>\n",
       "      <td>[14, 19, 19, 19, 19, 19, 19, 19, 19, 19, 19, 2...</td>\n",
       "      <td>1</td>\n",
       "      <td>0</td>\n",
       "      <td>311</td>\n",
       "    </tr>\n",
       "    <tr>\n",
       "      <th>4</th>\n",
       "      <td>2670</td>\n",
       "      <td>DF1DF1DF14508046610_00001</td>\n",
       "      <td>[14, 19, 19, 21, 21, 21, 21, 19, 19, 21, 21, 2...</td>\n",
       "      <td>DF1</td>\n",
       "      <td>[\u000e, \u0013, \u0013, \u0015, \u0015, \u0015, \u0015, \u0013, \u0013, \u0015, \u0015, \u0015, \u0015, \u0015, \u0013, ...</td>\n",
       "      <td>\u000e\u0013\u0013\u0015\u0015\u0015\u0015\u0013\u0013\u0015\u0015\u0015\u0015\u0015\u0013\u0013\u0013\u0015\u0015\u0015\u0013\u0013\u0013\u0013\u0015\u0015\u0015\u0015</td>\n",
       "      <td>[14, 19, 19, 21, 21, 21, 21, 19, 19, 21, 21, 2...</td>\n",
       "      <td>1</td>\n",
       "      <td>0</td>\n",
       "      <td>28</td>\n",
       "    </tr>\n",
       "    <tr>\n",
       "      <th>...</th>\n",
       "      <td>...</td>\n",
       "      <td>...</td>\n",
       "      <td>...</td>\n",
       "      <td>...</td>\n",
       "      <td>...</td>\n",
       "      <td>...</td>\n",
       "      <td>...</td>\n",
       "      <td>...</td>\n",
       "      <td>...</td>\n",
       "      <td>...</td>\n",
       "    </tr>\n",
       "    <tr>\n",
       "      <th>295</th>\n",
       "      <td>10187</td>\n",
       "      <td>DF3DF3DF34507076145_00080</td>\n",
       "      <td>[4, 4, 4, 4, 4, 4, 4, 4, 4, 4, 4, 4, 4, 41, 4,...</td>\n",
       "      <td>DF3</td>\n",
       "      <td>[\u0004, \u0004, \u0004, \u0004, \u0004, \u0004, \u0004, \u0004, \u0004, \u0004, \u0004, \u0004, \u0004, ), \u0004, ...</td>\n",
       "      <td>\u0004\u0004\u0004\u0004\u0004\u0004\u0004\u0004\u0004\u0004\u0004\u0004\u0004)\u0004\u000e\u0004\u0014\u0004\u0004</td>\n",
       "      <td>[4, 4, 4, 4, 4, 4, 4, 4, 4, 4, 4, 4, 4, 41, 4,...</td>\n",
       "      <td>1</td>\n",
       "      <td>2</td>\n",
       "      <td>20</td>\n",
       "    </tr>\n",
       "    <tr>\n",
       "      <th>296</th>\n",
       "      <td>10169</td>\n",
       "      <td>DF3DF3DF34507076139_00090</td>\n",
       "      <td>[4, 4, 4, 4, 4, 4, 4, 4, 4, 4, 4, 41, 4, 14, 4...</td>\n",
       "      <td>DF3</td>\n",
       "      <td>[\u0004, \u0004, \u0004, \u0004, \u0004, \u0004, \u0004, \u0004, \u0004, \u0004, \u0004, ), \u0004, \u000e, \u0004, ...</td>\n",
       "      <td>\u0004\u0004\u0004\u0004\u0004\u0004\u0004\u0004\u0004\u0004\u0004)\u0004\u000e\u0004\u0014\u0004\u0004</td>\n",
       "      <td>[4, 4, 4, 4, 4, 4, 4, 4, 4, 4, 4, 41, 4, 14, 4...</td>\n",
       "      <td>1</td>\n",
       "      <td>2</td>\n",
       "      <td>18</td>\n",
       "    </tr>\n",
       "    <tr>\n",
       "      <th>297</th>\n",
       "      <td>10193</td>\n",
       "      <td>DF3DF3DF34507076150_00140</td>\n",
       "      <td>[4, 4, 4, 4, 4, 4, 4, 4, 14, 4, 20, 41, 38, 4,...</td>\n",
       "      <td>DF3</td>\n",
       "      <td>[\u0004, \u0004, \u0004, \u0004, \u0004, \u0004, \u0004, \u0004, \u000e, \u0004, \u0014, ), &amp;, \u0004, \u0004, ...</td>\n",
       "      <td>\u0004\u0004\u0004\u0004\u0004\u0004\u0004\u0004\u000e\u0004\u0014)&amp;\u0004\u0004\u0004\u0004</td>\n",
       "      <td>[4, 4, 4, 4, 4, 4, 4, 4, 14, 4, 20, 41, 38, 4,...</td>\n",
       "      <td>4</td>\n",
       "      <td>2</td>\n",
       "      <td>17</td>\n",
       "    </tr>\n",
       "    <tr>\n",
       "      <th>298</th>\n",
       "      <td>10201</td>\n",
       "      <td>DF3DF3DF34508076157_00030</td>\n",
       "      <td>[4, 4, 4, 41, 4, 4, 14, 20, 4, 4]</td>\n",
       "      <td>DF3</td>\n",
       "      <td>[\u0004, \u0004, \u0004, ), \u0004, \u0004, \u000e, \u0014, \u0004, \u0004]</td>\n",
       "      <td>\u0004\u0004\u0004)\u0004\u0004\u000e\u0014\u0004\u0004</td>\n",
       "      <td>[4, 4, 4, 41, 4, 4, 14, 20, 4, 4]</td>\n",
       "      <td>1</td>\n",
       "      <td>2</td>\n",
       "      <td>10</td>\n",
       "    </tr>\n",
       "    <tr>\n",
       "      <th>299</th>\n",
       "      <td>10196</td>\n",
       "      <td>DF3DF3DF34508076155_00050</td>\n",
       "      <td>[41, 14, 4, 20, 4, 4, 13, 4, 4]</td>\n",
       "      <td>DF3</td>\n",
       "      <td>[), \u000e, \u0004, \u0014, \u0004, \u0004, \\r, \u0004, \u0004]</td>\n",
       "      <td>)\u000e\u0004\u0014\u0004\u0004\\r\u0004\u0004</td>\n",
       "      <td>[41, 14, 4, 20, 4, 4, 13, 4, 4]</td>\n",
       "      <td>3</td>\n",
       "      <td>2</td>\n",
       "      <td>9</td>\n",
       "    </tr>\n",
       "  </tbody>\n",
       "</table>\n",
       "<p>300 rows × 10 columns</p>\n",
       "</div>"
      ],
      "text/plain": [
       "     index          case:concept:name  \\\n",
       "0     2648  DF1DF1DF14508046320_00001   \n",
       "1     2462  DF1DF1DF14507042050_00001   \n",
       "2     2292  DF1DF1DF14507038748_00030   \n",
       "3     1690  DF1DF1DF14507025269_00001   \n",
       "4     2670  DF1DF1DF14508046610_00001   \n",
       "..     ...                        ...   \n",
       "295  10187  DF3DF3DF34507076145_00080   \n",
       "296  10169  DF3DF3DF34507076139_00090   \n",
       "297  10193  DF3DF3DF34507076150_00140   \n",
       "298  10201  DF3DF3DF34508076157_00030   \n",
       "299  10196  DF3DF3DF34508076155_00050   \n",
       "\n",
       "                                              activity type  \\\n",
       "0    [14, 21, 21, 21, 21, 21, 21, 21, 21, 21, 21, 1...  DF1   \n",
       "1    [14, 21, 21, 21, 21, 21, 21, 21, 21, 21, 21, 2...  DF1   \n",
       "2                  [14, 19, 21, 40, 41, 20, 2, 20, 13]  DF1   \n",
       "3    [14, 19, 19, 19, 19, 19, 19, 19, 19, 19, 19, 2...  DF1   \n",
       "4    [14, 19, 19, 21, 21, 21, 21, 19, 19, 21, 21, 2...  DF1   \n",
       "..                                                 ...  ...   \n",
       "295  [4, 4, 4, 4, 4, 4, 4, 4, 4, 4, 4, 4, 4, 41, 4,...  DF3   \n",
       "296  [4, 4, 4, 4, 4, 4, 4, 4, 4, 4, 4, 41, 4, 14, 4...  DF3   \n",
       "297  [4, 4, 4, 4, 4, 4, 4, 4, 14, 4, 20, 41, 38, 4,...  DF3   \n",
       "298                  [4, 4, 4, 41, 4, 4, 14, 20, 4, 4]  DF3   \n",
       "299                    [41, 14, 4, 20, 4, 4, 13, 4, 4]  DF3   \n",
       "\n",
       "                                               c:n_chr  \\\n",
       "0    [\u000e, \u0015, \u0015, \u0015, \u0015, \u0015, \u0015, \u0015, \u0015, \u0015, \u0015, \u0013, \u0015, \u0015, \u0015, ...   \n",
       "1    [\u000e, \u0015, \u0015, \u0015, \u0015, \u0015, \u0015, \u0015, \u0015, \u0015, \u0015, \u0015, \u0015, \u0015, \u0013, ...   \n",
       "2                         [\u000e, \u0013, \u0015, (, ), \u0014, \u0002, \u0014, \\r]   \n",
       "3    [\u000e, \u0013, \u0013, \u0013, \u0013, \u0013, \u0013, \u0013, \u0013, \u0013, \u0013, \u0015, \u0015, \u0015, \u0015, ...   \n",
       "4    [\u000e, \u0013, \u0013, \u0015, \u0015, \u0015, \u0015, \u0013, \u0013, \u0015, \u0015, \u0015, \u0015, \u0015, \u0013, ...   \n",
       "..                                                 ...   \n",
       "295  [\u0004, \u0004, \u0004, \u0004, \u0004, \u0004, \u0004, \u0004, \u0004, \u0004, \u0004, \u0004, \u0004, ), \u0004, ...   \n",
       "296  [\u0004, \u0004, \u0004, \u0004, \u0004, \u0004, \u0004, \u0004, \u0004, \u0004, \u0004, ), \u0004, \u000e, \u0004, ...   \n",
       "297  [\u0004, \u0004, \u0004, \u0004, \u0004, \u0004, \u0004, \u0004, \u000e, \u0004, \u0014, ), &, \u0004, \u0004, ...   \n",
       "298                     [\u0004, \u0004, \u0004, ), \u0004, \u0004, \u000e, \u0014, \u0004, \u0004]   \n",
       "299                       [), \u000e, \u0004, \u0014, \u0004, \u0004, \\r, \u0004, \u0004]   \n",
       "\n",
       "                                               strings  \\\n",
       "0                \u000e\u0015\u0015\u0015\u0015\u0015\u0015\u0015\u0015\u0015\u0015\u0013\u0015\u0015\u0015\u0015\u0015\u0015\u0015\u0015\u0013\u0015\u0015\u0015\u0015\u0015\u0015\u0015\u0015\u0015\u0015\u0015\u0015\u0015\u0015\u0013\u0013   \n",
       "1           \u000e\u0015\u0015\u0015\u0015\u0015\u0015\u0015\u0015\u0015\u0015\u0015\u0015\u0015\u0013\u0013\u0015\u0015\u0015\u0015\u0015\u0015\u0015\u0015\u0015\u0015\u0015\u0015\u0015\u0013\u0013\u0013\u0013\u0013\u0015\u0015\u0015\u0015\u0015\u0015\u0013\u0013   \n",
       "2                                           \u000e\u0013\u0015()\u0014\u0002\u0014\\r   \n",
       "3    \u000e\u0013\u0013\u0013\u0013\u0013\u0013\u0013\u0013\u0013\u0013\u0015\u0015\u0015\u0015\u0015\u0015\u0015\u0015\u0015\u0015\u0013\u0013\u0013\u0013\u0013\u0015\u0015\u0015\u0015\u0015\u0015\u0013\u0013\u0013\u0013\u0013\u0013\u0013\u0013\u0013\u0015\u0015\u0015\u0015\u0015...   \n",
       "4                         \u000e\u0013\u0013\u0015\u0015\u0015\u0015\u0013\u0013\u0015\u0015\u0015\u0015\u0015\u0013\u0013\u0013\u0015\u0015\u0015\u0013\u0013\u0013\u0013\u0015\u0015\u0015\u0015   \n",
       "..                                                 ...   \n",
       "295                               \u0004\u0004\u0004\u0004\u0004\u0004\u0004\u0004\u0004\u0004\u0004\u0004\u0004)\u0004\u000e\u0004\u0014\u0004\u0004   \n",
       "296                                 \u0004\u0004\u0004\u0004\u0004\u0004\u0004\u0004\u0004\u0004\u0004)\u0004\u000e\u0004\u0014\u0004\u0004   \n",
       "297                                  \u0004\u0004\u0004\u0004\u0004\u0004\u0004\u0004\u000e\u0004\u0014)&\u0004\u0004\u0004\u0004   \n",
       "298                                         \u0004\u0004\u0004)\u0004\u0004\u000e\u0014\u0004\u0004   \n",
       "299                                         )\u000e\u0004\u0014\u0004\u0004\\r\u0004\u0004   \n",
       "\n",
       "                                               act_str  Count  class  length  \n",
       "0    [14, 21, 21, 21, 21, 21, 21, 21, 21, 21, 21, 1...      1      0      37  \n",
       "1    [14, 21, 21, 21, 21, 21, 21, 21, 21, 21, 21, 2...      1      0      42  \n",
       "2                  [14, 19, 21, 40, 41, 20, 2, 20, 13]      1      0       9  \n",
       "3    [14, 19, 19, 19, 19, 19, 19, 19, 19, 19, 19, 2...      1      0     311  \n",
       "4    [14, 19, 19, 21, 21, 21, 21, 19, 19, 21, 21, 2...      1      0      28  \n",
       "..                                                 ...    ...    ...     ...  \n",
       "295  [4, 4, 4, 4, 4, 4, 4, 4, 4, 4, 4, 4, 4, 41, 4,...      1      2      20  \n",
       "296  [4, 4, 4, 4, 4, 4, 4, 4, 4, 4, 4, 41, 4, 14, 4...      1      2      18  \n",
       "297  [4, 4, 4, 4, 4, 4, 4, 4, 14, 4, 20, 41, 38, 4,...      4      2      17  \n",
       "298                  [4, 4, 4, 41, 4, 4, 14, 20, 4, 4]      1      2      10  \n",
       "299                    [41, 14, 4, 20, 4, 4, 13, 4, 4]      3      2       9  \n",
       "\n",
       "[300 rows x 10 columns]"
      ]
     },
     "execution_count": 16,
     "metadata": {},
     "output_type": "execute_result"
    }
   ],
   "source": [
    "logVar"
   ]
  },
  {
   "cell_type": "markdown",
   "id": "48f908a1",
   "metadata": {},
   "source": [
    "### Levenshtein Distance"
   ]
  },
  {
   "cell_type": "code",
   "execution_count": 12,
   "id": "9b448163",
   "metadata": {},
   "outputs": [],
   "source": [
    "#import ast\n",
    "\n",
    "#Calculate Levenshtein Distances\n",
    "#logVar[\"activity\"] = logVar[\"activity\"].apply(lambda x: ast.literal_eval(x))\n",
    "#logVar[\"c:n_chr\"] = logVar[\"activity\"].apply(lambda x: [chr(int(i)) for i in x])\n",
    "#logVar[\"strings\"] = logVar[\"c:n_chr\"].apply(lambda x: ''.join(x))"
   ]
  },
  {
   "cell_type": "code",
   "execution_count": 89,
   "id": "babbef01",
   "metadata": {},
   "outputs": [
    {
     "data": {
      "text/plain": [
       "array([[ 0,  9, 34, ..., 37, 37, 37],\n",
       "       [ 9,  0, 39, ..., 42, 42, 42],\n",
       "       [34, 39,  0, ..., 16,  9,  9],\n",
       "       ...,\n",
       "       [37, 42, 16, ...,  0,  8, 11],\n",
       "       [37, 42,  9, ...,  8,  0,  5],\n",
       "       [37, 42,  9, ..., 11,  5,  0]])"
      ]
     },
     "execution_count": 89,
     "metadata": {},
     "output_type": "execute_result"
    }
   ],
   "source": [
    "#Levenshtein Distance\n",
    "from Levenshtein import distance\n",
    "\n",
    "List = list(logVar[\"strings\"])\n",
    "\n",
    "dist_matrix = np.zeros((len(List),len(List)),dtype=int)\n",
    "\n",
    "for i in range(0,len(List)):\n",
    "    for j in range(0,len(List)):\n",
    "        dist_matrix[i,j] = distance(List[i],List[j])\n",
    "\n",
    "lev_dis = dist_matrix\n",
    "lev_dis"
   ]
  },
  {
   "cell_type": "code",
   "execution_count": 90,
   "id": "b5d8a65b",
   "metadata": {},
   "outputs": [
    {
     "name": "stdout",
     "output_type": "stream",
     "text": [
      "NN:   0.8733333333333334\n",
      "P@10: 0.832\n",
      "Tri:  tensor(0.7276)\n",
      "Sil:  0.12470177849800047\n"
     ]
    }
   ],
   "source": [
    "Matrix = lev_dis\n",
    "\n",
    "print('NN:   ' + str(NearestNeighbor(Matrix, labelDict1)))\n",
    "print('P@10: ' + str(PrecisionAtK(Matrix, labelDict1, 10)))\n",
    "\n",
    "triplet = BatchAllTtripletLoss()\n",
    "print('Tri:  ' + str(triplet.forward(Matrix,labelDict1)))\n",
    "print('Sil:  ' + str(Silhouette(Matrix, labelDict1)))"
   ]
  },
  {
   "cell_type": "markdown",
   "id": "d8d769e7",
   "metadata": {},
   "source": [
    "### Normalized Levenshtein Distance"
   ]
  },
  {
   "cell_type": "code",
   "execution_count": 91,
   "id": "ecb15751",
   "metadata": {},
   "outputs": [
    {
     "data": {
      "text/plain": [
       "array([[0.        , 0.21428571, 0.91891892, ..., 1.        , 1.        ,\n",
       "        1.        ],\n",
       "       [0.21428571, 0.        , 0.92857143, ..., 1.        , 1.        ,\n",
       "        1.        ],\n",
       "       [0.91891892, 0.92857143, 0.        , ..., 0.94117647, 0.9       ,\n",
       "        1.        ],\n",
       "       ...,\n",
       "       [1.        , 1.        , 0.94117647, ..., 0.        , 0.47058824,\n",
       "        0.64705882],\n",
       "       [1.        , 1.        , 0.9       , ..., 0.47058824, 0.        ,\n",
       "        0.5       ],\n",
       "       [1.        , 1.        , 1.        , ..., 0.64705882, 0.5       ,\n",
       "        0.        ]])"
      ]
     },
     "execution_count": 91,
     "metadata": {},
     "output_type": "execute_result"
    }
   ],
   "source": [
    "List = logVar[\"strings\"]\n",
    "\n",
    "n = len(List)\n",
    "dist_matrix = np.zeros((n,n))    # initialize distance matrix to a square of zeros\n",
    "\n",
    "for i in range(n):\n",
    "    for j in range(i, n):\n",
    "        dist_matrix[i,j] = distance(List[i], List[j]) / max(len(List[i]),len(List[j]))\n",
    "        dist_matrix[j,i] = dist_matrix[i,j]       # for the symmetric part, no computation\n",
    "\n",
    "lev_dis_norm = dist_matrix\n",
    "lev_dis_norm"
   ]
  },
  {
   "cell_type": "code",
   "execution_count": 92,
   "id": "e767dec7",
   "metadata": {},
   "outputs": [
    {
     "name": "stdout",
     "output_type": "stream",
     "text": [
      "NN:   0.91\n",
      "P@10: 0.8496666666666667\n",
      "Tri:  tensor(0.8249)\n",
      "Sil:  0.3633665937907341\n"
     ]
    }
   ],
   "source": [
    "Matrix = lev_dis_norm\n",
    "\n",
    "print('NN:   ' + str(NearestNeighbor(Matrix, labelDict1)))\n",
    "print('P@10: ' + str(PrecisionAtK(Matrix, labelDict1, 10)))\n",
    "\n",
    "triplet = BatchAllTtripletLoss()\n",
    "print('Tri:  ' + str(triplet.forward(Matrix,labelDict1)))\n",
    "print('Sil:  ' + str(Silhouette(Matrix, labelDict1)))"
   ]
  },
  {
   "cell_type": "markdown",
   "id": "8c7dd7ae",
   "metadata": {},
   "source": [
    "### Cosine based on 1-gram"
   ]
  },
  {
   "cell_type": "code",
   "execution_count": 38,
   "id": "bbe30ac1",
   "metadata": {},
   "outputs": [],
   "source": [
    "#Create 1-gram\n",
    "\n",
    "def createVector(charList):\n",
    "    #dtype = [('structure', 'S10'), ('relfrequ', float)]\n",
    "    arrayList = np.array(charList)\n",
    "    unique, counts = np.unique(arrayList, return_counts=True)\n",
    "    #calculate relative frequency\n",
    "    relFrequList = np.array((unique, counts)).T\n",
    "    uniqueList = list(unique)\n",
    "    return relFrequList[relFrequList[:, 0].argsort()]\n",
    "    #check completeness\n",
    "    #if 'tree' not in uniqueList:\n",
    "        #relFrequList = np.append(relFrequList, np.array([['tree', 0]]), axis=0)\n",
    "        #print(relFrequList)\n",
    "\n",
    "        \n",
    "#Change data format from string to list of unique characters\n",
    "logVar[\"1-gram\"] = logVar[\"c:n_chr\"].apply(lambda x: createVector(tuple(x)))\n",
    "#logVar\n"
   ]
  },
  {
   "cell_type": "code",
   "execution_count": 39,
   "id": "d2556cd8",
   "metadata": {},
   "outputs": [],
   "source": [
    "# Euclidean distance Normalized 1-gram\n",
    "# see https://stackoverflow.com/questions/1401712/how-can-the-euclidean-distance-be-calculated-with-numpy\n",
    "\n",
    "def alignArrays(array1, array2):\n",
    "    commonSet = set(array1[:,0]).union(array2[:,0])\n",
    "    \n",
    "    for i in commonSet:\n",
    "        if i not in array1[:,0]:\n",
    "            array1 = np.append(array1, np.array([[i, '0']]), axis=0)\n",
    "        if i not in array2[:,0]:\n",
    "            array2 = np.append(array2, np.array([[i, '0']]), axis=0)\n",
    "    return array1[array1[:, 0].argsort()], array2[array2[:, 0].argsort()]"
   ]
  },
  {
   "cell_type": "code",
   "execution_count": 40,
   "id": "51bc8b8d",
   "metadata": {},
   "outputs": [],
   "source": [
    "#One-hot embedding\n",
    "'''\n",
    "def alignArrays_OneHotEmbedding(array1, array2):\n",
    "    \n",
    "    for i in range(len(array1)):\n",
    "        if int(array1[:,1][i]) > 1:\n",
    "            array1[:,1][i] = 1\n",
    "    \n",
    "    for i in range(len(array2)):\n",
    "        if int(array2[:,1][i]) > 1:\n",
    "            array2[:,1][i] = 1\n",
    "               \n",
    "    commonSet = set(array1[:,0]).union(array2[:,0])\n",
    "    #print(commonSet)\n",
    "        \n",
    "    for i in commonSet:\n",
    "        if i not in array1[:,0]:\n",
    "            array1 = np.append(array1, np.array([[i, '0']]), axis=0)\n",
    "        if i not in array2[:,0]:\n",
    "            array2 = np.append(array2, np.array([[i, '0']]), axis=0)\n",
    "    return array1[array1[:, 0].argsort()], array2[array2[:, 0].argsort()]\n"
   ]
  },
  {
   "cell_type": "code",
   "execution_count": 41,
   "id": "c2a7a886",
   "metadata": {},
   "outputs": [],
   "source": [
    "from scipy.spatial import distance\n",
    "\n",
    "def cosineDist(frequVector1, frequVector2):\n",
    "    Vector1, Vector2 = alignArrays(frequVector1, frequVector2)\n",
    "    a = Vector1[:,1].astype(int)\n",
    "    b = Vector2[:,1].astype(int)\n",
    "    dist_matrix = distance.cosine(a, b)\n",
    "    return dist_matrix"
   ]
  },
  {
   "cell_type": "code",
   "execution_count": null,
   "id": "2ec3e35b",
   "metadata": {},
   "outputs": [],
   "source": [
    "#Cosine distance based on 1-gram\n",
    "\n",
    "cos1_dis = matrix_calc(logVar[\"1-gram\"],cosineDist)\n",
    "results(cos1_dis)"
   ]
  },
  {
   "cell_type": "code",
   "execution_count": 42,
   "id": "63a2bff8",
   "metadata": {},
   "outputs": [
    {
     "data": {
      "text/plain": [
       "array([[0.        , 0.        , 0.38762756, ..., 0.74180111, 0.71132487,\n",
       "        0.74180111],\n",
       "       [0.        , 0.        , 0.38762756, ..., 0.74180111, 0.71132487,\n",
       "        0.74180111],\n",
       "       [0.38762756, 0.38762756, 0.        , ..., 0.52565835, 0.46966991,\n",
       "        0.36754447],\n",
       "       ...,\n",
       "       [0.74180111, 0.74180111, 0.52565835, ..., 0.        , 0.10557281,\n",
       "        0.2       ],\n",
       "       [0.71132487, 0.71132487, 0.46966991, ..., 0.10557281, 0.        ,\n",
       "        0.10557281],\n",
       "       [0.74180111, 0.74180111, 0.36754447, ..., 0.2       , 0.10557281,\n",
       "        0.        ]])"
      ]
     },
     "execution_count": 42,
     "metadata": {},
     "output_type": "execute_result"
    }
   ],
   "source": [
    "#Cosine distance based on 1-gram\n",
    "'''\n",
    "listVec = logVar[\"1-gram\"]\n",
    "\n",
    "n = len(listVec)\n",
    "dist_matrix = np.zeros((n,n))\n",
    "\n",
    "for i in range(n):\n",
    "    for j in range(i, n):\n",
    "        dist_matrix[i,j] = cosineDist(listVec[i], listVec[j])\n",
    "        dist_matrix[j,i] = dist_matrix[i,j]  \n",
    "        \n",
    "cos1_dis = dist_matrix\n",
    "cos1_dis"
   ]
  },
  {
   "cell_type": "code",
   "execution_count": 104,
   "id": "bef9d6ab",
   "metadata": {},
   "outputs": [
    {
     "name": "stdout",
     "output_type": "stream",
     "text": [
      "NN:   0.8633333333333333\n",
      "P@10: 0.8643333333333333\n",
      "Tri:  tensor(0.8067)\n",
      "Sil:  0.4157324306131801\n"
     ]
    }
   ],
   "source": [
    "'''\n",
    "Matrix = cos1_dis\n",
    "\n",
    "print('NN:   ' + str(NearestNeighbor(Matrix, labelDict1)))\n",
    "print('P@10: ' + str(PrecisionAtK(Matrix, labelDict1, 10)))\n",
    "\n",
    "triplet = BatchAllTtripletLoss()\n",
    "print('Tri:  ' + str(triplet.forward(Matrix,labelDict1)))\n",
    "print('Sil:  ' + str(Silhouette(Matrix, labelDict1)))"
   ]
  },
  {
   "cell_type": "markdown",
   "id": "13361d6f",
   "metadata": {},
   "source": [
    "### Cosine based on 2-gram and 3-gram"
   ]
  },
  {
   "cell_type": "code",
   "execution_count": 97,
   "id": "58972a6d",
   "metadata": {},
   "outputs": [],
   "source": [
    "#Change data format from string to list of unique characters\n",
    "#logVar[\"charList\"] = logVar[\"trace_variant\"].apply(lambda x: list(x))\n",
    "#logVar\n",
    "\n",
    "def df_list(list_of_char):\n",
    "    extList = list_of_char.copy()\n",
    "    extList.insert(0, '*') \n",
    "    extList.append('$')\n",
    "    list_new = []\n",
    "    for i in range(len(extList)):\n",
    "        new = ''.join(extList[i:i+2])\n",
    "        list_new.append(new)\n",
    "    del list_new[-1]\n",
    "    return list_new\n",
    "\n",
    "#Change data format from string to list of unique characters\n",
    "logVar[\"dfList\"] = logVar[\"c:n_chr\"].apply(lambda x: df_list(x))\n",
    "#logVar\n",
    "\n",
    "logVar[\"2-gram\"] = logVar[\"dfList\"].apply(lambda x: createVector(x))\n",
    "#logVar"
   ]
  },
  {
   "cell_type": "code",
   "execution_count": null,
   "id": "c1a536d2",
   "metadata": {},
   "outputs": [],
   "source": [
    "#Cosine distance based on 2-gram\n",
    "\n",
    "cos2_dis = matrix_calc(logVar[\"2-gram\"],cosineDist)\n",
    "results(cos2_dis)"
   ]
  },
  {
   "cell_type": "code",
   "execution_count": null,
   "id": "59977336",
   "metadata": {},
   "outputs": [],
   "source": [
    "#Create 3-gram\n",
    "\n",
    "#Change data format from string to list of unique characters\n",
    "logVar[\"charList\"] = logVar[\"c:n_chr\"].apply(lambda x: list(x))\n",
    "\n",
    "def df_list2(list_of_char):\n",
    "    extList = list_of_char.copy()\n",
    "    extList.insert(0, '*') \n",
    "    extList.append('$')\n",
    "    list_new = []\n",
    "    for i in range(len(extList) - 1):\n",
    "        new = ''.join(extList[i:i+3])\n",
    "        list_new.append(new)\n",
    "    del list_new[-1]\n",
    "    return list_new"
   ]
  },
  {
   "cell_type": "code",
   "execution_count": null,
   "id": "f210590a",
   "metadata": {},
   "outputs": [],
   "source": [
    "logVar[\"dfList2\"] = logVar[\"charList\"].apply(lambda x: df_list2(x))\n",
    "logVar[\"3-gram\"] = logVar[\"dfList2\"].apply(lambda x: createVector(x))"
   ]
  },
  {
   "cell_type": "code",
   "execution_count": null,
   "id": "d263686d",
   "metadata": {},
   "outputs": [],
   "source": [
    "#Cosine distance based on 3-gram\n",
    "\n",
    "cos3_dis = matrix_calc(logVar[\"3-gram\"],cosineDist)\n",
    "results(cos3_dis)"
   ]
  },
  {
   "cell_type": "code",
   "execution_count": 105,
   "id": "08af481e",
   "metadata": {},
   "outputs": [
    {
     "data": {
      "text/plain": [
       "array([[0.        , 0.        , 0.76095428, ..., 1.        , 1.        ,\n",
       "        1.        ],\n",
       "       [0.        , 0.        , 0.76095428, ..., 1.        , 1.        ,\n",
       "        1.        ],\n",
       "       [0.76095428, 0.76095428, 0.        , ..., 1.        , 1.        ,\n",
       "        1.        ],\n",
       "       ...,\n",
       "       [1.        , 1.        , 1.        , ..., 0.        , 0.52859548,\n",
       "        0.55555556],\n",
       "       [1.        , 1.        , 1.        , ..., 0.52859548, 0.        ,\n",
       "        0.64644661],\n",
       "       [1.        , 1.        , 1.        , ..., 0.55555556, 0.64644661,\n",
       "        0.        ]])"
      ]
     },
     "execution_count": 105,
     "metadata": {},
     "output_type": "execute_result"
    }
   ],
   "source": [
    "'''\n",
    "#Cosine distance based on 2-gram\n",
    "\n",
    "listVec = logVar[\"2-gram\"]\n",
    "\n",
    "n = len(listVec)\n",
    "dist_matrix = np.zeros((n,n))\n",
    "\n",
    "for i in range(n):\n",
    "    for j in range(i, n):\n",
    "        dist_matrix[i,j] = cosineDist(listVec[i], listVec[j])\n",
    "        dist_matrix[j,i] = dist_matrix[i,j]  \n",
    "        \n",
    "cos2_dis = dist_matrix\n",
    "cos2_dis"
   ]
  },
  {
   "cell_type": "code",
   "execution_count": 106,
   "id": "2adf27e8",
   "metadata": {},
   "outputs": [
    {
     "name": "stdout",
     "output_type": "stream",
     "text": [
      "NN:   0.9066666666666666\n",
      "P@10: 0.876\n",
      "Tri:  tensor(0.8270)\n",
      "Sil:  0.36740143672246217\n"
     ]
    }
   ],
   "source": [
    "'''\n",
    "Matrix = cos2_dis\n",
    "\n",
    "print('NN:   ' + str(NearestNeighbor(Matrix, labelDict1)))\n",
    "print('P@10: ' + str(PrecisionAtK(Matrix, labelDict1, 10)))\n",
    "\n",
    "triplet = BatchAllTtripletLoss()\n",
    "print('Tri:  ' + str(triplet.forward(Matrix,labelDict1)))\n",
    "print('Sil:  ' + str(Silhouette(Matrix, labelDict1)))"
   ]
  },
  {
   "cell_type": "code",
   "execution_count": 107,
   "id": "de7e0904",
   "metadata": {},
   "outputs": [
    {
     "name": "stdout",
     "output_type": "stream",
     "text": [
      "NN:   0.93\n",
      "P@10: 0.8776666666666667\n",
      "Tri:  tensor(0.8484)\n",
      "Sil:  0.4142579246763296\n"
     ]
    }
   ],
   "source": [
    "'''\n",
    "aggregate = cos1_dis + cos2_dis\n",
    "\n",
    "Matrix = aggregate\n",
    "\n",
    "print('NN:   ' + str(NearestNeighbor(Matrix, labelDict1)))\n",
    "print('P@10: ' + str(PrecisionAtK(Matrix, labelDict1, 10)))\n",
    "\n",
    "triplet = BatchAllTtripletLoss()\n",
    "print('Tri:  ' + str(triplet.forward(Matrix,labelDict1)))\n",
    "print('Sil:  ' + str(Silhouette(Matrix, labelDict1)))"
   ]
  },
  {
   "cell_type": "markdown",
   "id": "4cfeb66d",
   "metadata": {},
   "source": [
    "## Euclidean Distance"
   ]
  },
  {
   "cell_type": "code",
   "execution_count": null,
   "id": "4fdd0786",
   "metadata": {},
   "outputs": [],
   "source": [
    "# Euclidean distance\n",
    "# see https://stackoverflow.com/questions/1401712/how-can-the-euclidean-distance-be-calculated-with-numpy\n",
    "\n",
    "def euclidDist(frequVector1, frequVector2):\n",
    "    Vector1, Vector2 = alignArrays(frequVector1, frequVector2)\n",
    "    a = Vector1[:,1].astype(float)\n",
    "    b = Vector2[:,1].astype(float)\n",
    "    euclidean_dist = np.linalg.norm(a-b)\n",
    "    return euclidean_dist"
   ]
  },
  {
   "cell_type": "code",
   "execution_count": null,
   "id": "351e16c6",
   "metadata": {},
   "outputs": [],
   "source": [
    "#Euclidean distance based on 1-gram\n",
    "\n",
    "euc1_dis = matrix_calc(logVar[\"1-gram\"],euclidDist)\n",
    "results(euc1_dis)"
   ]
  },
  {
   "cell_type": "code",
   "execution_count": null,
   "id": "11e9054f",
   "metadata": {},
   "outputs": [],
   "source": [
    "#Euclidean distance based on 2-gram\n",
    "\n",
    "euc2_dis = matrix_calc(logVar[\"2-gram\"],euclidDist)\n",
    "results(euc2_dis)"
   ]
  },
  {
   "cell_type": "code",
   "execution_count": null,
   "id": "21ef236f",
   "metadata": {},
   "outputs": [],
   "source": [
    "#Euclidean distance based on 3-gram\n",
    "\n",
    "euc3_dis = matrix_calc(logVar[\"3-gram\"],euclidDist)\n",
    "results(euc3_dis)"
   ]
  },
  {
   "cell_type": "code",
   "execution_count": null,
   "id": "45a35a0d",
   "metadata": {},
   "outputs": [],
   "source": [
    "#Aggregation\n",
    "\n",
    "agg_euc = euc1_dis + euc2_dis\n",
    "results(agg_euc)"
   ]
  },
  {
   "cell_type": "markdown",
   "id": "efaef19c",
   "metadata": {},
   "source": [
    "### Jaccard based on 1-gram"
   ]
  },
  {
   "cell_type": "code",
   "execution_count": 17,
   "id": "feb39b93",
   "metadata": {},
   "outputs": [],
   "source": [
    "#Distance based on activity type\n",
    "\n",
    "def jaccard_similarity(list1, list2):\n",
    "    s1, s2 = set(list1), set(list2)\n",
    "    return 1 - len(s1 & s2) / len(s1 | s2)"
   ]
  },
  {
   "cell_type": "code",
   "execution_count": null,
   "id": "88be85d1",
   "metadata": {},
   "outputs": [],
   "source": [
    "#Jaccard based on 1-gram\n",
    "Jacc1_dis = matrix_calc(logVar[\"charList\"],jaccard_similarity)\n",
    "results(Jacc1_dis)"
   ]
  },
  {
   "cell_type": "code",
   "execution_count": null,
   "id": "22e5e416",
   "metadata": {},
   "outputs": [],
   "source": [
    "#Jaccard based on 2-gram\n",
    "Jacc2_dis = matrix_calc(logVar[\"dfList\"],jaccard_similarity)\n",
    "results(Jacc2_dis)"
   ]
  },
  {
   "cell_type": "code",
   "execution_count": null,
   "id": "2905ad73",
   "metadata": {},
   "outputs": [],
   "source": [
    "#Jaccard based on 3-gram\n",
    "Jacc3_dis = matrix_calc(logVar[\"dfList2\"],jaccard_similarity)\n",
    "results(Jacc3_dis)"
   ]
  },
  {
   "cell_type": "code",
   "execution_count": null,
   "id": "312c685a",
   "metadata": {},
   "outputs": [],
   "source": [
    "#Aggregation\n",
    "\n",
    "agg_jacc1 = Jacc1_dis + Jacc2_dis\n",
    "results(agg_jacc1)"
   ]
  },
  {
   "cell_type": "code",
   "execution_count": null,
   "id": "3789c212",
   "metadata": {},
   "outputs": [],
   "source": [
    "agg_jacc2 = Jacc1_dis + Jacc2_dis + Jacc3_dis\n",
    "results(agg_jacc2)"
   ]
  },
  {
   "cell_type": "code",
   "execution_count": 26,
   "id": "17049e40",
   "metadata": {},
   "outputs": [
    {
     "data": {
      "text/plain": [
       "array([[0.        , 0.        , 0.625     , ..., 0.85714286, 0.83333333,\n",
       "        0.85714286],\n",
       "       [0.        , 0.        , 0.625     , ..., 0.85714286, 0.83333333,\n",
       "        0.85714286],\n",
       "       [0.625     , 0.625     , 0.        , ..., 0.7       , 0.66666667,\n",
       "        0.55555556],\n",
       "       ...,\n",
       "       [0.85714286, 0.85714286, 0.7       , ..., 0.        , 0.2       ,\n",
       "        0.33333333],\n",
       "       [0.83333333, 0.83333333, 0.66666667, ..., 0.2       , 0.        ,\n",
       "        0.2       ],\n",
       "       [0.85714286, 0.85714286, 0.55555556, ..., 0.33333333, 0.2       ,\n",
       "        0.        ]])"
      ]
     },
     "execution_count": 26,
     "metadata": {},
     "output_type": "execute_result"
    }
   ],
   "source": [
    "'''\n",
    "ListChar = list(logVar[\"activity\"])\n",
    "\n",
    "n = len(ListChar)\n",
    "dist_matrix = np.zeros((n,n))    # initialize distance matrix to a square of zeros\n",
    "\n",
    "for i in range(n):\n",
    "    for j in range(i, n):\n",
    "        dist_matrix[i,j] = jaccard_similarity(ListChar[i], ListChar[j])\n",
    "        dist_matrix[j,i] = dist_matrix[i,j]       # for the symmetric part, no computation\n",
    "        \n",
    "jacc1_dis = dist_matrix\n",
    "jacc1_dis"
   ]
  },
  {
   "cell_type": "code",
   "execution_count": 110,
   "id": "8606da9b",
   "metadata": {},
   "outputs": [
    {
     "name": "stdout",
     "output_type": "stream",
     "text": [
      "NN:   0.8633333333333333\n",
      "P@10: 0.8643333333333333\n",
      "Tri:  tensor(0.7985)\n",
      "Sil:  0.3978683039294384\n"
     ]
    }
   ],
   "source": [
    "'''\n",
    "Matrix = jacc1_dis\n",
    "\n",
    "print('NN:   ' + str(NearestNeighbor(Matrix, labelDict1)))\n",
    "print('P@10: ' + str(PrecisionAtK(Matrix, labelDict1, 10)))\n",
    "\n",
    "triplet = BatchAllTtripletLoss()\n",
    "print('Tri:  ' + str(triplet.forward(Matrix,labelDict1)))\n",
    "print('Sil:  ' + str(Silhouette(Matrix, labelDict1)))"
   ]
  },
  {
   "cell_type": "markdown",
   "id": "baad37ec",
   "metadata": {},
   "source": [
    "### Jaccard based on 2-gram"
   ]
  },
  {
   "cell_type": "code",
   "execution_count": 27,
   "id": "664a9dd7",
   "metadata": {},
   "outputs": [],
   "source": [
    "#Distance based on adjacency relations\n",
    "\n",
    "#Create list of directly follow relations\n",
    "'''\n",
    "def df_list(list_of_char):\n",
    "    extList = list_of_char.copy()\n",
    "    extList.insert(0, '*') \n",
    "    extList.append('$')\n",
    "    list_new = []\n",
    "    for i in range(len(extList)):\n",
    "        new = ''.join(extList[i:i+2])\n",
    "        list_new.append(new)\n",
    "    del list_new[-1]\n",
    "    return list_new"
   ]
  },
  {
   "cell_type": "code",
   "execution_count": 28,
   "id": "7c8c2746",
   "metadata": {},
   "outputs": [],
   "source": [
    "#Change data format from string to list of unique characters\n",
    "#logVar[\"dfList\"] = logVar[\"c:n_chr\"].apply(lambda x: df_list(x))\n",
    "#logVar"
   ]
  },
  {
   "cell_type": "code",
   "execution_count": 29,
   "id": "da1ba214",
   "metadata": {},
   "outputs": [
    {
     "data": {
      "text/plain": [
       "array([[0.        , 0.        , 0.86666667, ..., 1.        , 1.        ,\n",
       "        1.        ],\n",
       "       [0.        , 0.        , 0.86666667, ..., 1.        , 1.        ,\n",
       "        1.        ],\n",
       "       [0.86666667, 0.86666667, 0.        , ..., 1.        , 1.        ,\n",
       "        1.        ],\n",
       "       ...,\n",
       "       [1.        , 1.        , 1.        , ..., 0.        , 0.69230769,\n",
       "        0.71428571],\n",
       "       [1.        , 1.        , 1.        , ..., 0.69230769, 0.        ,\n",
       "        0.78571429],\n",
       "       [1.        , 1.        , 1.        , ..., 0.71428571, 0.78571429,\n",
       "        0.        ]])"
      ]
     },
     "execution_count": 29,
     "metadata": {},
     "output_type": "execute_result"
    }
   ],
   "source": [
    "'''\n",
    "ListChar = list(logVar[\"dfList\"])\n",
    "\n",
    "n = len(ListChar)\n",
    "dist_matrix = np.zeros((n,n))    # initialize distance matrix to a square of zeros\n",
    "\n",
    "for i in range(n):\n",
    "    for j in range(i, n):\n",
    "        dist_matrix[i,j] = jaccard_similarity(ListChar[i], ListChar[j])\n",
    "        dist_matrix[j,i] = dist_matrix[i,j]       # for the symmetric part, no computation\n",
    "        \n",
    "jacc2_dis = dist_matrix\n",
    "jacc2_dis"
   ]
  },
  {
   "cell_type": "code",
   "execution_count": 114,
   "id": "b14857d2",
   "metadata": {},
   "outputs": [
    {
     "name": "stdout",
     "output_type": "stream",
     "text": [
      "NN:   0.91\n",
      "P@10: 0.8753333333333333\n",
      "Tri:  tensor(0.8265)\n",
      "Sil:  0.31021626233754385\n"
     ]
    }
   ],
   "source": [
    "'''\n",
    "Matrix = jacc2_dis\n",
    "\n",
    "print('NN:   ' + str(NearestNeighbor(Matrix, labelDict1)))\n",
    "print('P@10: ' + str(PrecisionAtK(Matrix, labelDict1, 10)))\n",
    "\n",
    "triplet = BatchAllTtripletLoss()\n",
    "print('Tri:  ' + str(triplet.forward(Matrix,labelDict1)))\n",
    "print('Sil:  ' + str(Silhouette(Matrix, labelDict1)))"
   ]
  },
  {
   "cell_type": "code",
   "execution_count": 115,
   "id": "fd877c68",
   "metadata": {},
   "outputs": [
    {
     "name": "stdout",
     "output_type": "stream",
     "text": [
      "NN:   0.9333333333333332\n",
      "P@10: 0.8803333333333333\n",
      "Tri:  tensor(0.8391)\n",
      "Sil:  0.3801094252916189\n"
     ]
    }
   ],
   "source": [
    "#Aggregation\n",
    "'''\n",
    "aggregate = jacc1_dis + jacc2_dis\n",
    "\n",
    "Matrix = aggregate\n",
    "\n",
    "print('NN:   ' + str(NearestNeighbor(Matrix, labelDict1)))\n",
    "print('P@10: ' + str(PrecisionAtK(Matrix, labelDict1, 10)))\n",
    "\n",
    "triplet = BatchAllTtripletLoss()\n",
    "print('Tri:  ' + str(triplet.forward(Matrix,labelDict1)))\n",
    "print('Sil:  ' + str(Silhouette(Matrix, labelDict1)))"
   ]
  },
  {
   "cell_type": "markdown",
   "id": "ca8982bc",
   "metadata": {},
   "source": [
    "## Graph based measures"
   ]
  },
  {
   "cell_type": "code",
   "execution_count": 18,
   "id": "26f94a66",
   "metadata": {},
   "outputs": [],
   "source": [
    "# 1. transfer strings (string numbers) to integers --> HERE we need a new encoding!\n",
    "\n",
    "#logVar = logVar.astype({\"trace_variant\": str}) #--> only needed if list values were transformed to int at one point\n",
    "\n",
    "def intEncoder(character_List):\n",
    "    return [np.where(np.array(list(dict.fromkeys(character_List)))==e)[0][0]for e in character_List]\n",
    "\n",
    "logVar[\"intList\"] = logVar[\"activity\"].apply(lambda x: intEncoder(x))\n",
    "\n",
    "\n",
    "# 2. transfer intList to int_tupleList\n",
    "\n",
    "#Create tuple lists\n",
    "def tuple_list(list_of_encodedActivities):\n",
    "    #list.insert(0, '*')\n",
    "    #list.append('*')\n",
    "    list_new = []\n",
    "    last_element = list_of_encodedActivities[-1]\n",
    "    for i in range(len(list_of_encodedActivities)):\n",
    "        new = tuple(list_of_encodedActivities[i:i+2])\n",
    "        list_new.append(new)\n",
    "    del list_new[-1]\n",
    "    if list_of_encodedActivities.count(last_element) == 1: #check wether last activity in trace has some adjancency relation\n",
    "        list_new.append((last_element,)) ### NOT Correct\n",
    "    return list_new\n",
    "\n",
    "#q = [0,0,0,0,1,1,2,3,4,5,3,2,4,0,5,6]\n",
    "#tuple_list(q)\n",
    "\n",
    "logVar[\"int_tupleList\"] = logVar[\"intList\"].apply(lambda x: tuple_list(x))\n",
    "#logVar[\"int_tupleList\"]\n",
    "\n",
    "# 3. generate Adjacency List\n",
    "\n",
    "def adj_list(list_of_tuples):\n",
    "    adj_list_new = {}\n",
    "    try:\n",
    "        for node1, node2 in list_of_tuples:\n",
    "            #print(node1, node2)\n",
    "            if node1 not in adj_list_new:\n",
    "                newlist = []\n",
    "                newlist.append(node2)\n",
    "                adj_list_new[node1] = newlist\n",
    "                #print(adj_list3)\n",
    "        \n",
    "            else:\n",
    "                if node2 not in adj_list_new[node1]:\n",
    "                    #mylist.extend(adj_list3[node1])\n",
    "                    adj_list_new[node1].append(node2)\n",
    "                    #print(adj_list3)\n",
    "                    #adj_list3[node1] = mylist\n",
    "    \n",
    "    #in case activity has no adjacent activity - only possible for last activity --> tuple: (lastAct,)\n",
    "    except ValueError as ve:\n",
    "        lastValue = list_of_tuples[-1][0] \n",
    "        adj_list_new[lastValue] = list()\n",
    "    return list(adj_list_new.values())\n",
    "\n",
    "\n",
    "\n",
    "logVar[\"int_adjList\"] = logVar[\"int_tupleList\"].apply(lambda x: adj_list(x))\n",
    "#logVar[\"int_adjList\"]\n",
    "\n",
    "\n"
   ]
  },
  {
   "cell_type": "code",
   "execution_count": 19,
   "id": "dd393dcd",
   "metadata": {},
   "outputs": [],
   "source": [
    "from collections import deque\n",
    "\n",
    "def bfs_4(graph, start, end):\n",
    "    \n",
    "    graph = {v: k for v, k in enumerate(graph)}\n",
    "    #print(start, end)\n",
    "    queue = deque([(start, 0)])\n",
    "    seen = set()\n",
    "    while queue:\n",
    "        #print(queue)\n",
    "        node, distance = queue.popleft()\n",
    "        #if not node:\n",
    "            #print(start, end, queue)\n",
    "            #print(\"GRAPH LIST\", graph)\n",
    "        if node in seen:\n",
    "            continue\n",
    "        seen.add(node)\n",
    "        if node == end:\n",
    "            return distance \n",
    "        for adjacent in graph.get(node, []):\n",
    "            queue.append((adjacent, distance + 1))\n",
    "        \n",
    "#x = {0: [0, 1], 1: [2, 1, 0, int], 2:[2], [3: [1, 5, 3, 7], 4: [3], 5: [6, 5], 6: [1, 7], 7: [8, 9, 7], 8: [5, 8, 10], 9: [3]}\n",
    "#y = [[0, 1, 5], [1, 2], [3, 4], [4, 2], [5, 0], [3, 6], []]\n",
    "#bfs_4(y, 1, 6)"
   ]
  },
  {
   "cell_type": "code",
   "execution_count": 20,
   "id": "ef5cb7fc",
   "metadata": {},
   "outputs": [],
   "source": [
    "from collections import defaultdict, deque\n",
    "\n",
    "def reverse_graph(graph):\n",
    "    reversed_graph = defaultdict(list)\n",
    "    for node in graph:\n",
    "        for neighbor in graph[node]:\n",
    "            reversed_graph[neighbor].append(node)\n",
    "    return reversed_graph\n",
    "\n",
    "\n",
    "def bfs_5(graph, start, end):\n",
    "    queue = deque([(start, 0)])\n",
    "    seen = set()\n",
    "    visited = {}\n",
    "    while queue:\n",
    "        node, distance = queue.popleft()\n",
    "        if node in seen:\n",
    "            continue\n",
    "        seen.add(node)\n",
    "        if node == end: # maybe quicker if adjacent directly checked\n",
    "            return visited\n",
    "        for adjacent in graph.get(node, []):\n",
    "            queue.append((adjacent, distance + 1))\n",
    "            if adjacent not in visited:\n",
    "                visited.update({adjacent:distance})\n",
    "\n",
    "            \n",
    "def common_ancestors(graph, node1, node2): \n",
    "    #remove cross type edge between node1 and node2\n",
    "    graph[node1].remove(node2) #maybe issue, if graph is changed and not copy of graph?\n",
    "    graph = {v: k for v, k in enumerate(graph)}\n",
    "    graphReverse = reverse_graph(graph)\n",
    "    setNode1 = bfs_5(graphReverse, node1, 0)\n",
    "    setNode2 = bfs_5(graphReverse, node2, 0)\n",
    "    if next((a for a in list(setNode1) if a in list(setNode2)), None) == None:\n",
    "        firstCommonAnces = next((a for a in list(setNode2) if a in list(setNode1)), None)\n",
    "    else:\n",
    "        firstCommonAnces = next((a for a in list(setNode1) if a in list(setNode2)), 0)\n",
    "    \n",
    "    #uses a hash map to identify the first common ancestor in both lists\n",
    "    #looks for the first common ancestor in setNode1, which can also be found in setNode2 \n",
    "    #--> this might not be the closest distance between setNode1 and setNode2\n",
    "    #--> e.g., for x= [0,1,3,7,5,6] and y= [4,5,7,8,3] 7 might be closest ancestor, although algo detects 3 !\n",
    "    #distance = setNode1[firstCommonAnces] + setNode2[firstCommonAnces]\n",
    "    \n",
    "    \n",
    "    if firstCommonAnces != None:   # ISSUE: in some cases the firstCommonAnces cannot be detected!\n",
    "        ancesDistNode1 =  setNode1[firstCommonAnces] + 1 #the edge from node1 to first parent is counted as 0 by algorithm, therefore +1\n",
    "        ancesDistNode2 =  setNode2[firstCommonAnces] + 1\n",
    "        numberSkips = abs(ancesDistNode1 - ancesDistNode2)\n",
    "        numberCross = min(ancesDistNode1, ancesDistNode2)\n",
    "    else:\n",
    "        numberSkips, numberCross = (0,1)\n",
    "    return numberSkips, numberCross\n",
    "    #if all(x in crossType for x in i):\n",
    "    \n",
    "\n",
    "    \n",
    "\n",
    "#graphList = [[1], [2, 4, 1], [3, 2, 1], [], [5, 4], [5, 4, 6], [7], []]\n",
    "#c = [[1, 4], [2], [3], [0, 5], [3, 5], []]\n",
    "#c2 = {v: k for v, k in enumerate(c)}\n",
    "#common_ancestors(c, 4, 5)\n",
    "#reverse_graph(c2)"
   ]
  },
  {
   "cell_type": "code",
   "execution_count": 21,
   "id": "22830b82",
   "metadata": {},
   "outputs": [],
   "source": [
    "#Create List for decoding traces\n",
    "from collections import OrderedDict\n",
    "logVar[\"indexList\"] = logVar[\"activity\"].apply(lambda x: list(OrderedDict.fromkeys(x)))"
   ]
  },
  {
   "cell_type": "markdown",
   "id": "0a1eda18",
   "metadata": {},
   "source": [
    "### Cosine Edge Type + length (no df relations)"
   ]
  },
  {
   "cell_type": "code",
   "execution_count": 125,
   "id": "e77ae104",
   "metadata": {},
   "outputs": [],
   "source": [
    "class Graph1:\n",
    "    # instance variables\n",
    "    def __init__(self, graph_list2, indexList):\n",
    "        # v is the number of nodes/vertices\n",
    "        self.time = 0\n",
    "        self.traversal_array = []\n",
    "        self.structural_array = [['sequ', 1]]\n",
    "        #self.structural_array = []\n",
    "        self.graph_list = graph_list2\n",
    "        self.v = len(graph_list2)\n",
    "        self.indexList = indexList\n",
    "\n",
    "    # function for dfs\n",
    "    def dfs(self):\n",
    "        self.start_time = [-1]*self.v\n",
    "        self.end_time = [-1]*self.v\n",
    " \n",
    "        for node in range(self.v):\n",
    "            if self.start_time[node] == -1:\n",
    "                self.traverse_dfs(node)\n",
    "                \n",
    "        return np.array(self.structural_array)\n",
    "        #print()\n",
    "        #print(\"DFS Traversal: \", self.traversal_array)\n",
    "        #print()\n",
    " \n",
    "    def traverse_dfs(self, node):\n",
    "        self.traversal_array.append(node)\n",
    "        # get the starting time\n",
    "        self.start_time[node] = self.time\n",
    "        self.time += 1\n",
    "        # traverse through the neighbours\n",
    "        for neighbour in self.graph_list[node]:\n",
    "\n",
    "            # when the neighbor was not yet visited\n",
    "            if self.start_time[neighbour] == -1:                \n",
    "                self.structural_array[0][1] += 0\n",
    "                self.traverse_dfs(neighbour)\n",
    "                \n",
    "            # otherwise when the neighbour's visit is still ongoing:\n",
    "            elif self.end_time[neighbour] == -1:\n",
    "                if node == neighbour:\n",
    "                    self.structural_array.append(['1back ',1])\n",
    "                    #self.structural_array.append(['back ',1])\n",
    "                    #self.structural_array.append([str(1)+'b'])\n",
    "                \n",
    "                elif node in self.graph_list[neighbour]:\n",
    "                    self.structural_array.append(['2back ',2])\n",
    "                    #self.structural_array.append(['back ',2])\n",
    "                    #self.structural_array.append(str(2)+'b')\n",
    "                    \n",
    "                else:\n",
    "                    x = bfs_4(self.graph_list, neighbour, node)\n",
    "                    self.structural_array.append([str(x+1)+'back ',x+1])\n",
    "                    #self.structural_array.append(['back ',x+1])\n",
    "                    #self.structural_array.append(str(x+1)+'b')\n",
    "                \n",
    "            # otherwise when the neighbour's visit started before the current node's visit:\n",
    "            elif self.start_time[node] < self.start_time[neighbour]:\n",
    "                graph_list_copy = copy.deepcopy(self.graph_list)\n",
    "                graph_list_copy[node].remove(neighbour)\n",
    "                y = bfs_4(graph_list_copy, node, neighbour)\n",
    "                self.structural_array.append([str(y-1)+'forward ',y-1])\n",
    "                #self.structural_array.append(['forward ' ,y-1])\n",
    "                #self.structural_array.extend((y-1)*['forward']) # -1 to exclude one edge: (A:B,C;B:C;C:[]) ...the dist A --> C is 2 without forward edge, but we are skipping only one activity\n",
    "                #self.structural_array.append(str(y-1)+'f')\n",
    "                \n",
    "            else:\n",
    "                #Possibly first check, whether two nodes connected by cross-type have identical parent\n",
    "                numberSkips, numberCross = common_ancestors(self.graph_list, node, neighbour)\n",
    "                #self.structural_array.append(['forward ' + str(self.indexList[node]) + ' ' + str(self.indexList[neighbour]),numberSkips])\n",
    "                self.structural_array.append([str(numberCross)+'cross ',numberCross])\n",
    "                #self.structural_array.append(['cross ' ,numberCross])\n",
    "                #self.structural_array.append(str(numberSkips)+'f')\n",
    "                #self.structural_array.append(str(numberCross)+'c')\n",
    "    \n",
    "        # Indentation corrected:\n",
    "        self.end_time[node] = self.time\n",
    "        self.time += 1\n"
   ]
  },
  {
   "cell_type": "code",
   "execution_count": null,
   "id": "ce8ae07a",
   "metadata": {},
   "outputs": [],
   "source": [
    "from collections import Counter\n",
    "\n",
    "def transform_list_of_pairs(pairs):\n",
    "    return [pair[0] for pair in pairs]\n",
    "\n",
    "\n",
    "\n",
    "def count_entries(input_list):\n",
    "    # Count the occurrences of each unique entry in the list\n",
    "    counter = Counter(input_list)\n",
    "    \n",
    "    # Create a NumPy array from the counter dictionary\n",
    "    result = np.array([[key, count] for key, count in counter.items()], dtype=object)\n",
    "    \n",
    "    return result\n",
    "\n",
    "# Example usage\n",
    "#input_list = ['sequ', '2back', '2back']\n",
    "#result = count_entries(input_list)\n",
    "#print(result)\n",
    "\n",
    "logVar[\"int_strucLengthList2\"] = logVar.apply(lambda x: Graph1(x.int_adjList, x.indexList).dfs(), axis =1)\n",
    "logVar[\"relFrequVec1\"] = logVar[\"int_strucLengthList2\"].apply(lambda x: transform_list_of_pairs(x))\n",
    "logVar[\"relFrequVec1\"] = logVar[\"relFrequVec1\"].apply(lambda x: count_entries(x))"
   ]
  },
  {
   "cell_type": "code",
   "execution_count": null,
   "id": "8d1644ed",
   "metadata": {},
   "outputs": [],
   "source": [
    "#Cosine distance based on edge types\n",
    "cos_graph_dis = matrix_calc(logVar[\"relFrequVec1\"],cosineDist)\n",
    "results(cos_graph_dis)"
   ]
  },
  {
   "cell_type": "code",
   "execution_count": null,
   "id": "61ea7cde",
   "metadata": {},
   "outputs": [],
   "source": [
    "#Cosine distance based on edge types\n",
    "agg_cos = cos1_dis + cos2_dis + cos_graph_dis\n",
    "results(agg_cos)"
   ]
  },
  {
   "cell_type": "code",
   "execution_count": 126,
   "id": "0139008a",
   "metadata": {},
   "outputs": [],
   "source": [
    "'''\n",
    "logVar[\"int_strucLengthList2\"] = logVar.apply(lambda x: Graph1(x.int_adjList, x.indexList).dfs(), axis =1)\n",
    "\n",
    "logVar[\"relFrequVec2\"] = logVar[\"int_strucLengthList2\"].apply(lambda x: pd.DataFrame(x, columns=['String', 'Value']))\n",
    "logVar[\"relFrequVec2\"] = logVar[\"relFrequVec2\"].apply(lambda x: x.groupby('String', as_index=False)['Value'].sum())\n",
    "logVar[\"relFrequVec2\"] = logVar[\"relFrequVec2\"].apply(lambda x: x.to_numpy())"
   ]
  },
  {
   "cell_type": "code",
   "execution_count": 131,
   "id": "adebdc00",
   "metadata": {},
   "outputs": [
    {
     "name": "stderr",
     "output_type": "stream",
     "text": [
      "C:\\Users\\la1949\\Anaconda3\\envs\\pm4py\\lib\\site-packages\\scipy\\spatial\\distance.py:636: RuntimeWarning: invalid value encountered in scalar divide\n",
      "  dist = 1.0 - uv / np.sqrt(uu * vv)\n"
     ]
    }
   ],
   "source": [
    "'''\n",
    "listVec = list(logVar[\"relFrequVec2\"])\n",
    "\n",
    "n = len(listVec)\n",
    "dist_matrix = np.zeros((n,n))    # initialize distance matrix to a square of zeros\n",
    "\n",
    "for i in range(n):\n",
    "    for j in range(i, n):\n",
    "        dist_matrix[i,j] = cosineDist(listVec[i], listVec[j])\n",
    "        dist_matrix[j,i] = dist_matrix[i,j]       # for the symmetric part, no computation\n",
    "        \n",
    "cos_graph_dis = dist_matrix"
   ]
  },
  {
   "cell_type": "code",
   "execution_count": 132,
   "id": "3e99372d",
   "metadata": {},
   "outputs": [
    {
     "name": "stdout",
     "output_type": "stream",
     "text": [
      "NN:   0.3333333333333333\n",
      "P@10: 0.36233333333333334\n",
      "Tri:  tensor(0.3545)\n",
      "Sil:  -0.056785127670243817\n"
     ]
    }
   ],
   "source": [
    "'''\n",
    "Matrix = cos_graph_dis\n",
    "\n",
    "print('NN:   ' + str(NearestNeighbor(Matrix, labelDict1)))\n",
    "print('P@10: ' + str(PrecisionAtK(Matrix, labelDict1, 10)))\n",
    "\n",
    "triplet = BatchAllTtripletLoss()\n",
    "print('Tri:  ' + str(triplet.forward(Matrix,labelDict1)))\n",
    "print('Sil:  ' + str(Silhouette(Matrix, labelDict1)))"
   ]
  },
  {
   "cell_type": "code",
   "execution_count": 133,
   "id": "90e0d944",
   "metadata": {},
   "outputs": [
    {
     "name": "stdout",
     "output_type": "stream",
     "text": [
      "NN:   0.9133333333333334\n",
      "P@10: 0.8613333333333332\n",
      "Tri:  tensor(0.7806)\n",
      "Sil:  0.32546883550586564\n"
     ]
    }
   ],
   "source": [
    "#Aggregation\n",
    "'''\n",
    "aggregate = cos1_dis + cos2_dis + cos_graph_dis\n",
    "\n",
    "Matrix = aggregate\n",
    "\n",
    "print('NN:   ' + str(NearestNeighbor(Matrix, labelDict1)))\n",
    "print('P@10: ' + str(PrecisionAtK(Matrix, labelDict1, 10)))\n",
    "\n",
    "triplet = BatchAllTtripletLoss()\n",
    "print('Tri:  ' + str(triplet.forward(Matrix,labelDict1)))\n",
    "print('Sil:  ' + str(Silhouette(Matrix, labelDict1)))"
   ]
  },
  {
   "cell_type": "markdown",
   "id": "3aa7b969",
   "metadata": {},
   "source": [
    "### Jaccard Edge Type and length + df relation"
   ]
  },
  {
   "cell_type": "code",
   "execution_count": 22,
   "id": "420ecc50",
   "metadata": {},
   "outputs": [],
   "source": [
    "class Graph2:\n",
    "    # instance variables\n",
    "    def __init__(self, graph_list2, indexList):\n",
    "        # v is the number of nodes/vertices\n",
    "        self.time = 0\n",
    "        self.traversal_array = []\n",
    "        self.structural_array = []\n",
    "        #self.structural_array = []\n",
    "        self.graph_list = graph_list2\n",
    "        self.v = len(graph_list2)\n",
    "        self.indexList = indexList\n",
    "\n",
    "    # function for dfs\n",
    "    def dfs(self):\n",
    "        self.start_time = [-1]*self.v\n",
    "        self.end_time = [-1]*self.v\n",
    " \n",
    "        for node in range(self.v):\n",
    "            if self.start_time[node] == -1:\n",
    "                self.traverse_dfs(node)\n",
    "                \n",
    "        return self.structural_array\n",
    "        #print()\n",
    "        #print(\"DFS Traversal: \", self.traversal_array)\n",
    "        #print()\n",
    " \n",
    "    def traverse_dfs(self, node):\n",
    "        self.traversal_array.append(node)\n",
    "        # get the starting time\n",
    "        self.start_time[node] = self.time\n",
    "        self.time += 1\n",
    "        # traverse through the neighbours\n",
    "        for neighbour in self.graph_list[node]:\n",
    "\n",
    "            # when the neighbor was not yet visited\n",
    "            if self.start_time[neighbour] == -1:                \n",
    "                #self.structural_array[0][1] += 0\n",
    "                #self.structural_array.append('tree ' + str(self.indexList[node]) + ' ' + str(self.indexList[neighbour]) + ')\n",
    "                self.structural_array.append('tree')\n",
    "                self.traverse_dfs(neighbour)\n",
    "                \n",
    "            # otherwise when the neighbour's visit is still ongoing:\n",
    "            elif self.end_time[neighbour] == -1:\n",
    "                if node == neighbour:\n",
    "                    self.structural_array.append('back ' + str(self.indexList[node]) + ' ' + str(self.indexList[neighbour]) + ' ' + str(1))\n",
    "                    #self.structural_array.append([str(1)+'b'])\n",
    "                \n",
    "                elif node in self.graph_list[neighbour]:\n",
    "                    self.structural_array.append('back ' + str(self.indexList[node]) + ' ' + str(self.indexList[neighbour]) + ' ' + str(2))\n",
    "                    #self.structural_array.append(str(2)+'b')\n",
    "                    \n",
    "                else:\n",
    "                    x = bfs_4(self.graph_list, neighbour, node)\n",
    "                    self.structural_array.append('back ' + str(self.indexList[node]) + ' ' + str(self.indexList[neighbour]) + ' ' + str(x+1))\n",
    "                    #self.structural_array.append(str(x+1)+'b')\n",
    "                \n",
    "            # otherwise when the neighbour's visit started before the current node's visit:\n",
    "            elif self.start_time[node] < self.start_time[neighbour]:\n",
    "                graph_list_copy = copy.deepcopy(self.graph_list)\n",
    "                graph_list_copy[node].remove(neighbour)\n",
    "                y = bfs_4(graph_list_copy, node, neighbour)\n",
    "                self.structural_array.append('forward ' + str(self.indexList[node]) + ' ' + str(self.indexList[neighbour]) + ' ' + str(y-1))\n",
    "                #self.structural_array.extend((y-1)*['forward']) # -1 to exclude one edge: (A:B,C;B:C;C:[]) ...the dist A --> C is 2 without forward edge, but we are skipping only one activity\n",
    "                #self.structural_array.append(str(y-1)+'f')\n",
    "                \n",
    "            else:\n",
    "                #Possibly first check, whether two nodes connected by cross-type have identical parent\n",
    "                numberSkips, numberCross = common_ancestors(self.graph_list, node, neighbour)\n",
    "                #self.structural_array.append('forward ' + str(self.indexList[node]) + ' ' + str(self.indexList[neighbour]) + ' ' + str(numberSkips))\n",
    "                self.structural_array.append('cross ' + str(self.indexList[node]) + ' ' + str(self.indexList[neighbour]) + ' ' + str(numberCross))\n",
    "                #self.structural_array.append(str(numberSkips)+'f')\n",
    "                #self.structural_array.append(str(numberCross)+'c')\n",
    "    \n",
    "        # Indentation corrected:\n",
    "        self.end_time[node] = self.time\n",
    "        self.time += 1\n",
    "\n"
   ]
  },
  {
   "cell_type": "code",
   "execution_count": null,
   "id": "9143e221",
   "metadata": {},
   "outputs": [],
   "source": [
    "logVar[\"int_strucLengthList3\"] = logVar.apply(lambda x: Graph2(x.int_adjList, x.indexList).dfs(), axis =1)\n",
    "#logVar"
   ]
  },
  {
   "cell_type": "code",
   "execution_count": null,
   "id": "956beaea",
   "metadata": {},
   "outputs": [],
   "source": [
    "#Jacc similarity based on edge types\n",
    "\n",
    "jacc_graph = matrix_calc(logVar[\"int_strucLengthList3\"],jaccard_similarity)\n",
    "results(jacc_graph)"
   ]
  },
  {
   "cell_type": "code",
   "execution_count": null,
   "id": "e158e8f7",
   "metadata": {},
   "outputs": [],
   "source": [
    "#Jacc sim based on edge types\n",
    "agg_jacc = Jacc1_dis + Jacc2_dis + jacc_graph\n",
    "results(agg_cos)"
   ]
  },
  {
   "cell_type": "code",
   "execution_count": null,
   "id": "d6974460",
   "metadata": {},
   "outputs": [],
   "source": []
  },
  {
   "cell_type": "code",
   "execution_count": 23,
   "id": "94b57fc5",
   "metadata": {},
   "outputs": [],
   "source": [
    "#logVar[\"int_strucLengthList4\"] = logVar.apply(lambda x: Graph2(x.int_adjList, x.indexList).dfs(), axis =1)\n",
    "#logVar[\"relFrequVec3\"] = logVar[\"int_strucLengthList3\"].apply(lambda x: createVector(x))\n",
    "#logVar"
   ]
  },
  {
   "cell_type": "code",
   "execution_count": 24,
   "id": "016cd35d",
   "metadata": {},
   "outputs": [],
   "source": [
    "'''\n",
    "ListChar = list(logVar[\"int_strucLengthList4\"])\n",
    "\n",
    "#To avoid \"division by zero\" error\n",
    "for i in range(len(ListChar)):\n",
    "    if len(ListChar[i]) == 0:\n",
    "        ListChar[i].append('NaN')\n",
    "\n",
    "n = len(ListChar)\n",
    "dist_matrix = np.zeros((n,n))    # initialize distance matrix to a square of zeros\n",
    "\n",
    "for i in range(n):\n",
    "    for j in range(i, n):\n",
    "        dist_matrix[i,j] = jaccard_similarity(ListChar[i], ListChar[j])\n",
    "        dist_matrix[j,i] = dist_matrix[i,j]       # for the symmetric part, no computation\n",
    "        \n",
    "jacc_graph_dist2 = dist_matrix"
   ]
  },
  {
   "cell_type": "code",
   "execution_count": 25,
   "id": "54e3016f",
   "metadata": {},
   "outputs": [
    {
     "name": "stdout",
     "output_type": "stream",
     "text": [
      "NN:   0.8266666666666667\n",
      "P@10: 0.81\n",
      "Tri:  tensor(0.7085)\n",
      "Sil:  0.2633678977328572\n"
     ]
    }
   ],
   "source": [
    "'''\n",
    "Matrix = jacc_graph_dist2\n",
    "\n",
    "print('NN:   ' + str(NearestNeighbor(Matrix, labelDict1)))\n",
    "print('P@10: ' + str(PrecisionAtK(Matrix, labelDict1, 10)))\n",
    "\n",
    "triplet = BatchAllTtripletLoss()\n",
    "print('Tri:  ' + str(triplet.forward(Matrix,labelDict1)))\n",
    "print('Sil:  ' + str(Silhouette(Matrix, labelDict1)))"
   ]
  },
  {
   "cell_type": "code",
   "execution_count": 33,
   "id": "110bd5ca",
   "metadata": {},
   "outputs": [
    {
     "name": "stdout",
     "output_type": "stream",
     "text": [
      "NN:   0.91\n",
      "P@10: 0.8853333333333334\n",
      "Tri:  tensor(0.8412)\n",
      "Sil:  0.36664422458720297\n"
     ]
    }
   ],
   "source": [
    "#Aggregation\n",
    "'''\n",
    "aggregate = (jacc1_dis + jacc2_dis + jacc_graph_dist2)\n",
    "\n",
    "Matrix = aggregate\n",
    "\n",
    "print('NN:   ' + str(NearestNeighbor(Matrix, labelDict1)))\n",
    "print('P@10: ' + str(PrecisionAtK(Matrix, labelDict1, 10)))\n",
    "\n",
    "triplet = BatchAllTtripletLoss()\n",
    "print('Tri:  ' + str(triplet.forward(Matrix,labelDict1)))\n",
    "print('Sil:  ' + str(Silhouette(Matrix, labelDict1)))"
   ]
  },
  {
   "cell_type": "markdown",
   "id": "85aa0119",
   "metadata": {},
   "source": [
    "## Eventually Follows"
   ]
  },
  {
   "cell_type": "code",
   "execution_count": 35,
   "id": "6516a8d6",
   "metadata": {},
   "outputs": [],
   "source": [
    "#Spatial distance between strings\n",
    "\n",
    "\n",
    "from scipy.spatial import distance\n",
    "\n",
    "\n",
    "def distanceSpatial(traceString, char1, char2):\n",
    "    positions_letter1 = [pos for pos, char in enumerate(traceString) if char == char1]\n",
    "    positions_letter2 = [pos for pos, char in enumerate(traceString) if char == char2]\n",
    "    \n",
    "    distList = []\n",
    "    \n",
    "\n",
    "    for i in range(len(positions_letter1)):\n",
    "        for j in range(len(positions_letter2)):\n",
    "            dist = positions_letter2[j] - positions_letter1[i]\n",
    "            if dist > 0:\n",
    "                    #print(dist)\n",
    "                distList.append(dist)\n",
    "                    \n",
    "    \n",
    "    if not distList: #distList.append(0) #in the case the char1 is after char2 asign dist 0, i.e. char2 cannot be reached from char1\n",
    "        return 0\n",
    "    else:\n",
    "        return 1/min(distList)\n",
    "\n",
    "\n",
    "\n",
    "\n",
    "\n",
    "def commonDistance(trace1, trace2):\n",
    "    \n",
    "    commonSet = set(trace1) & set(trace2)\n",
    "\n",
    "    commonList = list(commonSet)\n",
    "    commonList.sort()\n",
    "    #print(commonList)\n",
    "\n",
    "    n = len(commonSet)\n",
    "    dist_matrix1 = np.zeros((n,n))\n",
    "    dist_matrix2 = np.zeros((n,n))\n",
    "\n",
    "    for i in range(n):\n",
    "        for j in range(i, n):\n",
    "            dist_matrix1[i,j] = distanceSpatial(trace1, commonList[i], commonList[j])\n",
    "        \n",
    "    for i in range(n):\n",
    "        for j in range(i, n):\n",
    "            dist_matrix2[i,j] = distanceSpatial(trace2, commonList[i], commonList[j])\n",
    "    \n",
    "    #print(dist_matrix1, dist_matrix2)\n",
    "    return distance.cosine(dist_matrix1.ravel(), dist_matrix2.ravel())\n",
    "\n",
    "\n",
    "\n",
    "#x = 'ABCDEF'\n",
    "#y = 'ABCDEBCDEBCDEF'\n",
    "#z = 'ABCDEBCDEF'\n",
    "#print(dist_matrix)\n",
    "#distanceSpatial(x, 'A', 'E')\n",
    "#listVec = logVar[\"strings\"]\n",
    "#x= listVec[0]\n",
    "#y= listVec[1]\n",
    "#commonDistance(x, y)"
   ]
  },
  {
   "cell_type": "code",
   "execution_count": 17,
   "id": "d8ed0fdd",
   "metadata": {
    "collapsed": true
   },
   "outputs": [
    {
     "ename": "NameError",
     "evalue": "name 'commonDistance' is not defined",
     "output_type": "error",
     "traceback": [
      "\u001b[1;31m---------------------------------------------------------------------------\u001b[0m",
      "\u001b[1;31mNameError\u001b[0m                                 Traceback (most recent call last)",
      "Cell \u001b[1;32mIn[17], line 1\u001b[0m\n\u001b[1;32m----> 1\u001b[0m dist_matrix_evFollows \u001b[38;5;241m=\u001b[39m matrix_calc(logVar[\u001b[38;5;124m\"\u001b[39m\u001b[38;5;124mstrings\u001b[39m\u001b[38;5;124m\"\u001b[39m],\u001b[43mcommonDistance\u001b[49m)\n\u001b[0;32m      2\u001b[0m agg_evFollows \u001b[38;5;241m=\u001b[39m \u001b[38;5;241m0.7\u001b[39m\u001b[38;5;241m*\u001b[39mdist_matrix_evFollows \u001b[38;5;241m+\u001b[39m \u001b[38;5;241m0.3\u001b[39m\u001b[38;5;241m*\u001b[39mcos1_dis \n\u001b[0;32m      3\u001b[0m results(agg_evFollows)\n",
      "\u001b[1;31mNameError\u001b[0m: name 'commonDistance' is not defined"
     ]
    }
   ],
   "source": [
    "dist_matrix_evFollows = matrix_calc(logVar[\"strings\"],commonDistance)\n",
    "dist_matrix_evFollows = np.nan_to_num(dist_matrix_evFollows, nan=0)\n",
    "agg_evFollows = 0.7*dist_matrix_evFollows + 0.3*cos1_dis \n",
    "results(agg_evFollows)"
   ]
  },
  {
   "cell_type": "code",
   "execution_count": 36,
   "id": "2da337fc",
   "metadata": {},
   "outputs": [
    {
     "name": "stderr",
     "output_type": "stream",
     "text": [
      "C:\\Users\\la1949\\Anaconda3\\envs\\pm4py\\lib\\site-packages\\scipy\\spatial\\distance.py:636: RuntimeWarning: invalid value encountered in scalar divide\n",
      "  dist = 1.0 - uv / np.sqrt(uu * vv)\n"
     ]
    }
   ],
   "source": [
    "#Calculate cosine similarity based on Spatial distance\n",
    "'''\n",
    "listVec = logVar[\"strings\"]\n",
    "\n",
    "n = len(listVec)\n",
    "dist_matrix = np.zeros((n,n))    # initialize distance matrix to a square of zeros\n",
    "\n",
    "for i in range(n):\n",
    "    for j in range(i, n):\n",
    "        #print(listVec[i], listVec[j])\n",
    "        dist_matrix[i,j] = commonDistance(listVec[i], listVec[j])\n",
    "        #print(dist_matrix[i,j])\n",
    "        dist_matrix[j,i] = dist_matrix[i,j]       # for the symmetric part, no computation\n",
    "        \n",
    "dist_matrix_evFollows = dist_matrix"
   ]
  },
  {
   "cell_type": "code",
   "execution_count": 43,
   "id": "85481c48",
   "metadata": {},
   "outputs": [
    {
     "name": "stdout",
     "output_type": "stream",
     "text": [
      "NN:   0.88\n",
      "P@10: 0.7566666666666665\n",
      "Tri:  tensor(0.7250)\n",
      "Sil:  0.2486236965037499\n"
     ]
    }
   ],
   "source": [
    "'''\n",
    "aggregate = 0.7*dist_matrix_evFollows + 0.3*cos1_dis \n",
    "\n",
    "Matrix = aggregate\n",
    "\n",
    "print('NN:   ' + str(NearestNeighbor(Matrix, labelDict1)))\n",
    "print('P@10: ' + str(PrecisionAtK(Matrix, labelDict1, 10)))\n",
    "\n",
    "triplet = BatchAllTtripletLoss()\n",
    "print('Tri:  ' + str(triplet.forward(Matrix,labelDict1)))\n",
    "print('Sil:  ' + str(Silhouette(Matrix, labelDict1)))"
   ]
  },
  {
   "cell_type": "markdown",
   "id": "93429bb5",
   "metadata": {},
   "source": [
    "## Maximal Repeat"
   ]
  },
  {
   "cell_type": "code",
   "execution_count": null,
   "id": "7ac365f3",
   "metadata": {},
   "outputs": [],
   "source": [
    "from suffix_tree import Tree"
   ]
  },
  {
   "cell_type": "code",
   "execution_count": null,
   "id": "f20cab7a",
   "metadata": {},
   "outputs": [],
   "source": [
    "#tree.maximal_repeats\n",
    "def maxRepeat(tree):\n",
    "    mrList=[]\n",
    "    for C, path in sorted(tree.maximal_repeats()):\n",
    "        mrList.append(str(path))\n",
    "    return mrList\n",
    "\n",
    "#test_tree = Tree({\"A\": \"aaacdcdcbedbccbadbdebdc\"})\n",
    "#maxRepeat(test_tree)"
   ]
  },
  {
   "cell_type": "code",
   "execution_count": null,
   "id": "d633b8ea",
   "metadata": {},
   "outputs": [],
   "source": [
    "#create vector based on maximal repeats\n",
    "logVar[\"mrList\"] = logVar[\"strings\"].apply(lambda x: maxRepeat(Tree({\"A\": x})))\n",
    "logVar[\"mrVector\"] = logVar[\"mrList\"].apply(lambda x: createVector(tuple(x)))"
   ]
  },
  {
   "cell_type": "code",
   "execution_count": null,
   "id": "96d22cff",
   "metadata": {},
   "outputs": [],
   "source": [
    "#Cosine distance based on maxR\n",
    "\n",
    "cos_mr = matrix_calc(logVar[\"mrVector\"],cosineDist)\n",
    "results(cos_mr)"
   ]
  },
  {
   "cell_type": "code",
   "execution_count": null,
   "id": "e57753c9",
   "metadata": {},
   "outputs": [],
   "source": [
    "#Euclidean distance based on maxR\n",
    "\n",
    "euc_mr = matrix_calc(logVar[\"mrVector\"],euclidDist)\n",
    "results(euc_mr)"
   ]
  },
  {
   "cell_type": "code",
   "execution_count": null,
   "id": "a701f0e4",
   "metadata": {},
   "outputs": [],
   "source": [
    "#Jaccard similarity based on maxR\n",
    "\n",
    "jacc_mr = matrix_calc(logVar[\"mrList\"],jaccard_similarity)\n",
    "results(jacc_mr)"
   ]
  },
  {
   "cell_type": "markdown",
   "id": "86b92099",
   "metadata": {},
   "source": [
    "## Optimal Alignments"
   ]
  },
  {
   "cell_type": "code",
   "execution_count": null,
   "id": "39ccba1f",
   "metadata": {},
   "outputs": [],
   "source": [
    "from Bio import pairwise2\n",
    "import math\n",
    "\n",
    "\n",
    "# Define sequences\n",
    "#seq1 = \"ACCGTTTTT\"\n",
    "#seq2 = \"ACG\"\n",
    "\n",
    "# Perform global alignment with scoring:\n",
    "# match = +2, mismatch = -1, gap open = -2, gap extend = 0\n",
    "#alignments = pairwise2.align.globalms(seq1, seq2, 2, -1, -2, 0)\n",
    "\n",
    "#alignments\n",
    "#score --> alignments[0][2]\n",
    "\n",
    "def optAlign1(string1, string2):\n",
    "    alignments = pairwise2.align.globalms(string1, string2, 1, 0, 0, 0)    \n",
    "    return 1 - (alignments[0][2]/max(len(string1),len(string2)))\n",
    "\n",
    "\n",
    "def optAlign2(string1, string2):\n",
    "    alignments = pairwise2.align.globalms(string1, string2, 2, -1, -2, 0)    \n",
    "    return 1 / (1 + math.exp(0.05*alignments[0][2]))"
   ]
  },
  {
   "cell_type": "code",
   "execution_count": null,
   "id": "7c02150d",
   "metadata": {},
   "outputs": [],
   "source": [
    "Align_dis1 = matrix_calc(logVar[\"strings\"],optAlign1)\n",
    "results(Align_dis1)"
   ]
  },
  {
   "cell_type": "code",
   "execution_count": null,
   "id": "ba7af93a",
   "metadata": {},
   "outputs": [],
   "source": [
    "Align_dis2 = matrix_calc(logVar[\"strings\"],optAlign2)\n",
    "results(Align_dis2)"
   ]
  }
 ],
 "metadata": {
  "kernelspec": {
   "display_name": "Python 3 (ipykernel)",
   "language": "python",
   "name": "python3"
  },
  "language_info": {
   "codemirror_mode": {
    "name": "ipython",
    "version": 3
   },
   "file_extension": ".py",
   "mimetype": "text/x-python",
   "name": "python",
   "nbconvert_exporter": "python",
   "pygments_lexer": "ipython3",
   "version": "3.9.16"
  }
 },
 "nbformat": 4,
 "nbformat_minor": 5
}

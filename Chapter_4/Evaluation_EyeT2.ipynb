{
 "cells": [
  {
   "cell_type": "code",
   "execution_count": 1,
   "id": "57d097ae",
   "metadata": {},
   "outputs": [],
   "source": [
    "import pandas as pd\n",
    "from datetime import datetime\n",
    "import numpy as np\n",
    "#from scipy.stats import mannwhitneyu\n",
    "#import collections\n",
    "#from statistics import mean\n",
    "#from statistics import median\n",
    "from collections import defaultdict\n",
    "from Levenshtein import distance\n",
    "\n",
    "from sklearn.preprocessing import LabelEncoder\n",
    "from sklearn.cluster import DBSCAN\n",
    "from sklearn.cluster import AgglomerativeClustering\n",
    "from matplotlib import pyplot as plt\n",
    "from scipy.cluster.hierarchy import dendrogram\n",
    "from sklearn import metrics\n",
    "#from sklearn.metrics.cluster import homogeneity_score, completeness_score, v_measure_score, adjusted_rand_score, adjusted_mutual_info_score, silhouette_score\n",
    "\n",
    "import copy"
   ]
  },
  {
   "cell_type": "code",
   "execution_count": 2,
   "id": "c1dd85d8",
   "metadata": {},
   "outputs": [],
   "source": [
    "##############################\n",
    "#\n",
    "# The Dataset will only be available for the review\n",
    "#\n",
    "##############################\n",
    "\n",
    "log = pd.read_csv(\"eventsWithPhases.csv\")"
   ]
  },
  {
   "cell_type": "code",
   "execution_count": 3,
   "id": "b702daf7",
   "metadata": {},
   "outputs": [],
   "source": [
    "#create log with Case ID based on currentQuestion + participant\n",
    "\n",
    "#first change data type of currentQuestion from int to str\n",
    "log = log.astype({'currentQuestion': str})\n",
    "log.dtypes\n",
    "\n",
    "#combine two columns\n",
    "log['case_id'] = pd.factorize(log.participant+log.currentQuestion)[0]\n",
    "\n",
    "#there are 614 cases, although 46 participants * 14 questions = 616 --> 2 cases are missing \n",
    "#print(len(log.case_id.unique()))"
   ]
  },
  {
   "cell_type": "code",
   "execution_count": 4,
   "id": "9d396445",
   "metadata": {},
   "outputs": [],
   "source": [
    "# Define conversion function\n",
    "def convert_ms_to_date(milliseconds):\n",
    "    date_obj = datetime.fromtimestamp(milliseconds / 1000.0)\n",
    "    date_string = date_obj.strftime('%Y-%m-%d %H:%M:%S.%f')\n",
    "    return date_string\n",
    "\n",
    "# Apply conversion function to 'milliseconds' column\n",
    "log['fixation_start'] = log['Fixation Start'].apply(convert_ms_to_date)\n",
    "log['fixation_end'] = log['Fixation End'].apply(convert_ms_to_date)"
   ]
  },
  {
   "cell_type": "code",
   "execution_count": 5,
   "id": "3aeb7334",
   "metadata": {},
   "outputs": [],
   "source": [
    "# Initialize LabelEncoder\n",
    "le = LabelEncoder()\n",
    "\n",
    "# Fit and transform the 'tabName_element' column\n",
    "log['activity'] = le.fit_transform(log['tabName_element'])\n",
    "\n",
    "#Number of unique activity values\n",
    "#log['activity'].value_counts()"
   ]
  },
  {
   "cell_type": "code",
   "execution_count": 6,
   "id": "ff605e2f",
   "metadata": {},
   "outputs": [],
   "source": [
    "#Select only Control-flow questions\n",
    "log_select = log[['case_id', 'fixation_start', 'activity', 'Phase', 'Type1', 'Type2', 'Type3', 'Fixation Duration']]\n",
    "log_tasks = log_select.loc[log_select['Type2'] == 'Control-flow']"
   ]
  },
  {
   "cell_type": "code",
   "execution_count": 7,
   "id": "dfc629eb",
   "metadata": {},
   "outputs": [
    {
     "data": {
      "text/html": [
       "<div>\n",
       "<style scoped>\n",
       "    .dataframe tbody tr th:only-of-type {\n",
       "        vertical-align: middle;\n",
       "    }\n",
       "\n",
       "    .dataframe tbody tr th {\n",
       "        vertical-align: top;\n",
       "    }\n",
       "\n",
       "    .dataframe thead th {\n",
       "        text-align: right;\n",
       "    }\n",
       "</style>\n",
       "<table border=\"1\" class=\"dataframe\">\n",
       "  <thead>\n",
       "    <tr style=\"text-align: right;\">\n",
       "      <th></th>\n",
       "      <th>case_id</th>\n",
       "      <th>fixation_start</th>\n",
       "      <th>activity</th>\n",
       "      <th>Phase</th>\n",
       "      <th>Type1</th>\n",
       "      <th>Type2</th>\n",
       "      <th>Type3</th>\n",
       "      <th>Fixation Duration</th>\n",
       "    </tr>\n",
       "  </thead>\n",
       "  <tbody>\n",
       "    <tr>\n",
       "      <th>31794</th>\n",
       "      <td>106</td>\n",
       "      <td>1970-01-01 01:38:40.855554</td>\n",
       "      <td>50</td>\n",
       "      <td>NaN</td>\n",
       "      <td>Local</td>\n",
       "      <td>Control-flow</td>\n",
       "      <td>Ordering</td>\n",
       "      <td>83.316</td>\n",
       "    </tr>\n",
       "    <tr>\n",
       "      <th>31795</th>\n",
       "      <td>106</td>\n",
       "      <td>1970-01-01 01:38:47.950454</td>\n",
       "      <td>412</td>\n",
       "      <td>NaN</td>\n",
       "      <td>Local</td>\n",
       "      <td>Control-flow</td>\n",
       "      <td>Ordering</td>\n",
       "      <td>66.624</td>\n",
       "    </tr>\n",
       "  </tbody>\n",
       "</table>\n",
       "</div>"
      ],
      "text/plain": [
       "       case_id              fixation_start  activity Phase  Type1  \\\n",
       "31794      106  1970-01-01 01:38:40.855554        50   NaN  Local   \n",
       "31795      106  1970-01-01 01:38:47.950454       412   NaN  Local   \n",
       "\n",
       "              Type2     Type3  Fixation Duration  \n",
       "31794  Control-flow  Ordering             83.316  \n",
       "31795  Control-flow  Ordering             66.624  "
      ]
     },
     "execution_count": 7,
     "metadata": {},
     "output_type": "execute_result"
    }
   ],
   "source": [
    "#The experiment session with case_id 106 only contains 2 fixations and is therefore removed from the evaluation\n",
    "#The error porbably occured since the participant involuntarily clicked on the 'next' button to go to the next task\n",
    "log_tasks[log_tasks['case_id'] == 106]"
   ]
  },
  {
   "cell_type": "code",
   "execution_count": 8,
   "id": "0b091c43",
   "metadata": {},
   "outputs": [
    {
     "data": {
      "text/html": [
       "<div>\n",
       "<style scoped>\n",
       "    .dataframe tbody tr th:only-of-type {\n",
       "        vertical-align: middle;\n",
       "    }\n",
       "\n",
       "    .dataframe tbody tr th {\n",
       "        vertical-align: top;\n",
       "    }\n",
       "\n",
       "    .dataframe thead th {\n",
       "        text-align: right;\n",
       "    }\n",
       "</style>\n",
       "<table border=\"1\" class=\"dataframe\">\n",
       "  <thead>\n",
       "    <tr style=\"text-align: right;\">\n",
       "      <th></th>\n",
       "      <th>case_id</th>\n",
       "      <th>fixation_start</th>\n",
       "      <th>activity</th>\n",
       "      <th>Phase</th>\n",
       "      <th>Type1</th>\n",
       "      <th>Type2</th>\n",
       "      <th>Type3</th>\n",
       "      <th>Fixation Duration</th>\n",
       "    </tr>\n",
       "  </thead>\n",
       "  <tbody>\n",
       "    <tr>\n",
       "      <th>0</th>\n",
       "      <td>0</td>\n",
       "      <td>1970-01-01 02:35:15.800704</td>\n",
       "      <td>82</td>\n",
       "      <td>search</td>\n",
       "      <td>Local</td>\n",
       "      <td>Control-flow</td>\n",
       "      <td>Exclusiveness</td>\n",
       "      <td>83.4080</td>\n",
       "    </tr>\n",
       "    <tr>\n",
       "      <th>1</th>\n",
       "      <td>0</td>\n",
       "      <td>1970-01-01 02:35:16.708983</td>\n",
       "      <td>82</td>\n",
       "      <td>search</td>\n",
       "      <td>Local</td>\n",
       "      <td>Control-flow</td>\n",
       "      <td>Exclusiveness</td>\n",
       "      <td>124.9670</td>\n",
       "    </tr>\n",
       "    <tr>\n",
       "      <th>2</th>\n",
       "      <td>0</td>\n",
       "      <td>1970-01-01 02:35:16.883977</td>\n",
       "      <td>82</td>\n",
       "      <td>search</td>\n",
       "      <td>Local</td>\n",
       "      <td>Control-flow</td>\n",
       "      <td>Exclusiveness</td>\n",
       "      <td>66.6000</td>\n",
       "    </tr>\n",
       "    <tr>\n",
       "      <th>3</th>\n",
       "      <td>0</td>\n",
       "      <td>1970-01-01 02:35:17.900487</td>\n",
       "      <td>82</td>\n",
       "      <td>search</td>\n",
       "      <td>Local</td>\n",
       "      <td>Control-flow</td>\n",
       "      <td>Exclusiveness</td>\n",
       "      <td>83.3050</td>\n",
       "    </tr>\n",
       "    <tr>\n",
       "      <th>4</th>\n",
       "      <td>0</td>\n",
       "      <td>1970-01-01 02:35:18.375424</td>\n",
       "      <td>82</td>\n",
       "      <td>search</td>\n",
       "      <td>Local</td>\n",
       "      <td>Control-flow</td>\n",
       "      <td>Exclusiveness</td>\n",
       "      <td>108.3100</td>\n",
       "    </tr>\n",
       "    <tr>\n",
       "      <th>...</th>\n",
       "      <td>...</td>\n",
       "      <td>...</td>\n",
       "      <td>...</td>\n",
       "      <td>...</td>\n",
       "      <td>...</td>\n",
       "      <td>...</td>\n",
       "      <td>...</td>\n",
       "      <td>...</td>\n",
       "    </tr>\n",
       "    <tr>\n",
       "      <th>173748</th>\n",
       "      <td>610</td>\n",
       "      <td>1970-01-01 03:15:17.900596</td>\n",
       "      <td>88</td>\n",
       "      <td>NaN</td>\n",
       "      <td>Global</td>\n",
       "      <td>Control-flow</td>\n",
       "      <td>Ordering</td>\n",
       "      <td>191.6515</td>\n",
       "    </tr>\n",
       "    <tr>\n",
       "      <th>173749</th>\n",
       "      <td>610</td>\n",
       "      <td>1970-01-01 03:15:18.142225</td>\n",
       "      <td>179</td>\n",
       "      <td>NaN</td>\n",
       "      <td>Global</td>\n",
       "      <td>Control-flow</td>\n",
       "      <td>Ordering</td>\n",
       "      <td>283.3150</td>\n",
       "    </tr>\n",
       "    <tr>\n",
       "      <th>173750</th>\n",
       "      <td>610</td>\n",
       "      <td>1970-01-01 03:15:18.442194</td>\n",
       "      <td>179</td>\n",
       "      <td>NaN</td>\n",
       "      <td>Global</td>\n",
       "      <td>Control-flow</td>\n",
       "      <td>Ordering</td>\n",
       "      <td>141.6530</td>\n",
       "    </tr>\n",
       "    <tr>\n",
       "      <th>173751</th>\n",
       "      <td>610</td>\n",
       "      <td>1970-01-01 03:15:18.642171</td>\n",
       "      <td>50</td>\n",
       "      <td>NaN</td>\n",
       "      <td>Global</td>\n",
       "      <td>Control-flow</td>\n",
       "      <td>Ordering</td>\n",
       "      <td>191.6490</td>\n",
       "    </tr>\n",
       "    <tr>\n",
       "      <th>173752</th>\n",
       "      <td>610</td>\n",
       "      <td>1970-01-01 03:15:18.933816</td>\n",
       "      <td>179</td>\n",
       "      <td>NaN</td>\n",
       "      <td>Global</td>\n",
       "      <td>Control-flow</td>\n",
       "      <td>Ordering</td>\n",
       "      <td>508.2945</td>\n",
       "    </tr>\n",
       "  </tbody>\n",
       "</table>\n",
       "<p>98671 rows × 8 columns</p>\n",
       "</div>"
      ],
      "text/plain": [
       "        case_id              fixation_start  activity   Phase   Type1  \\\n",
       "0             0  1970-01-01 02:35:15.800704        82  search   Local   \n",
       "1             0  1970-01-01 02:35:16.708983        82  search   Local   \n",
       "2             0  1970-01-01 02:35:16.883977        82  search   Local   \n",
       "3             0  1970-01-01 02:35:17.900487        82  search   Local   \n",
       "4             0  1970-01-01 02:35:18.375424        82  search   Local   \n",
       "...         ...                         ...       ...     ...     ...   \n",
       "173748      610  1970-01-01 03:15:17.900596        88     NaN  Global   \n",
       "173749      610  1970-01-01 03:15:18.142225       179     NaN  Global   \n",
       "173750      610  1970-01-01 03:15:18.442194       179     NaN  Global   \n",
       "173751      610  1970-01-01 03:15:18.642171        50     NaN  Global   \n",
       "173752      610  1970-01-01 03:15:18.933816       179     NaN  Global   \n",
       "\n",
       "               Type2          Type3  Fixation Duration  \n",
       "0       Control-flow  Exclusiveness            83.4080  \n",
       "1       Control-flow  Exclusiveness           124.9670  \n",
       "2       Control-flow  Exclusiveness            66.6000  \n",
       "3       Control-flow  Exclusiveness            83.3050  \n",
       "4       Control-flow  Exclusiveness           108.3100  \n",
       "...              ...            ...                ...  \n",
       "173748  Control-flow       Ordering           191.6515  \n",
       "173749  Control-flow       Ordering           283.3150  \n",
       "173750  Control-flow       Ordering           141.6530  \n",
       "173751  Control-flow       Ordering           191.6490  \n",
       "173752  Control-flow       Ordering           508.2945  \n",
       "\n",
       "[98671 rows x 8 columns]"
      ]
     },
     "execution_count": 8,
     "metadata": {},
     "output_type": "execute_result"
    }
   ],
   "source": [
    "log_tasks = log_tasks.drop(log_tasks[log_tasks['case_id'] == 106].index)\n",
    "log_tasks"
   ]
  },
  {
   "cell_type": "code",
   "execution_count": 9,
   "id": "118b1ec6",
   "metadata": {},
   "outputs": [],
   "source": [
    "#log_tasks['taskType'] = log_tasks['Type1'] + log_tasks['Type3']\n",
    "log_group = log_tasks.groupby(['case_id'])['Type1'].apply(list).reset_index()\n",
    "log_group['task'] = log_group['Type1'].apply(lambda x: str(set(x)))"
   ]
  },
  {
   "cell_type": "code",
   "execution_count": 10,
   "id": "2b9b0f3c",
   "metadata": {},
   "outputs": [
    {
     "data": {
      "text/html": [
       "<div>\n",
       "<style scoped>\n",
       "    .dataframe tbody tr th:only-of-type {\n",
       "        vertical-align: middle;\n",
       "    }\n",
       "\n",
       "    .dataframe tbody tr th {\n",
       "        vertical-align: top;\n",
       "    }\n",
       "\n",
       "    .dataframe thead th {\n",
       "        text-align: right;\n",
       "    }\n",
       "</style>\n",
       "<table border=\"1\" class=\"dataframe\">\n",
       "  <thead>\n",
       "    <tr style=\"text-align: right;\">\n",
       "      <th></th>\n",
       "      <th>case_id</th>\n",
       "      <th>activity</th>\n",
       "    </tr>\n",
       "  </thead>\n",
       "  <tbody>\n",
       "    <tr>\n",
       "      <th>0</th>\n",
       "      <td>0</td>\n",
       "      <td>[82, 82, 82, 82, 82, 177, 82, 82, 82, 82, 82, ...</td>\n",
       "    </tr>\n",
       "    <tr>\n",
       "      <th>1</th>\n",
       "      <td>4</td>\n",
       "      <td>[82, 82, 82, 181, 82, 82, 82, 82, 82, 82, 181,...</td>\n",
       "    </tr>\n",
       "    <tr>\n",
       "      <th>2</th>\n",
       "      <td>5</td>\n",
       "      <td>[90, 82, 183, 82, 82, 82, 82, 82, 183, 77, 75,...</td>\n",
       "    </tr>\n",
       "    <tr>\n",
       "      <th>3</th>\n",
       "      <td>6</td>\n",
       "      <td>[82, 82, 82, 82, 82, 82, 82, 82, 82, 82, 82, 8...</td>\n",
       "    </tr>\n",
       "    <tr>\n",
       "      <th>4</th>\n",
       "      <td>7</td>\n",
       "      <td>[86, 82, 82, 82, 82, 178, 178, 82, 82, 82, 82,...</td>\n",
       "    </tr>\n",
       "    <tr>\n",
       "      <th>...</th>\n",
       "      <td>...</td>\n",
       "      <td>...</td>\n",
       "    </tr>\n",
       "    <tr>\n",
       "      <th>344</th>\n",
       "      <td>606</td>\n",
       "      <td>[82, 59, 120, 122, 183, 120, 120, 183, 59, 183...</td>\n",
       "    </tr>\n",
       "    <tr>\n",
       "      <th>345</th>\n",
       "      <td>607</td>\n",
       "      <td>[82, 82, 82, 102, 175, 175, 175, 175, 175, 175...</td>\n",
       "    </tr>\n",
       "    <tr>\n",
       "      <th>346</th>\n",
       "      <td>608</td>\n",
       "      <td>[86, 86, 82, 108, 109, 86, 178, 86, 178, 108, ...</td>\n",
       "    </tr>\n",
       "    <tr>\n",
       "      <th>347</th>\n",
       "      <td>609</td>\n",
       "      <td>[82, 195, 195, 195, 195, 195, 195, 195, 195, 1...</td>\n",
       "    </tr>\n",
       "    <tr>\n",
       "      <th>348</th>\n",
       "      <td>610</td>\n",
       "      <td>[82, 82, 112, 112, 179, 82, 179, 82, 179, 82, ...</td>\n",
       "    </tr>\n",
       "  </tbody>\n",
       "</table>\n",
       "<p>349 rows × 2 columns</p>\n",
       "</div>"
      ],
      "text/plain": [
       "     case_id                                           activity\n",
       "0          0  [82, 82, 82, 82, 82, 177, 82, 82, 82, 82, 82, ...\n",
       "1          4  [82, 82, 82, 181, 82, 82, 82, 82, 82, 82, 181,...\n",
       "2          5  [90, 82, 183, 82, 82, 82, 82, 82, 183, 77, 75,...\n",
       "3          6  [82, 82, 82, 82, 82, 82, 82, 82, 82, 82, 82, 8...\n",
       "4          7  [86, 82, 82, 82, 82, 178, 178, 82, 82, 82, 82,...\n",
       "..       ...                                                ...\n",
       "344      606  [82, 59, 120, 122, 183, 120, 120, 183, 59, 183...\n",
       "345      607  [82, 82, 82, 102, 175, 175, 175, 175, 175, 175...\n",
       "346      608  [86, 86, 82, 108, 109, 86, 178, 86, 178, 108, ...\n",
       "347      609  [82, 195, 195, 195, 195, 195, 195, 195, 195, 1...\n",
       "348      610  [82, 82, 112, 112, 179, 82, 179, 82, 179, 82, ...\n",
       "\n",
       "[349 rows x 2 columns]"
      ]
     },
     "execution_count": 10,
     "metadata": {},
     "output_type": "execute_result"
    }
   ],
   "source": [
    "#Create trace log\n",
    "logVar = log_tasks.groupby(['case_id'])['activity'].apply(list).reset_index()\n",
    "#len(logVar[\"activity\"][310])\n",
    "logVar"
   ]
  },
  {
   "cell_type": "code",
   "execution_count": 11,
   "id": "4fd029f9",
   "metadata": {},
   "outputs": [
    {
     "data": {
      "text/plain": [
       "1152"
      ]
     },
     "execution_count": 11,
     "metadata": {},
     "output_type": "execute_result"
    }
   ],
   "source": [
    "logVar[\"length\"] = logVar[\"activity\"].apply(lambda x: len(x))\n",
    "logVar['length'].max()"
   ]
  },
  {
   "cell_type": "code",
   "execution_count": 12,
   "id": "92b43bc8",
   "metadata": {},
   "outputs": [
    {
     "data": {
      "text/plain": [
       "27"
      ]
     },
     "execution_count": 12,
     "metadata": {},
     "output_type": "execute_result"
    }
   ],
   "source": [
    "logVar['length'].min()"
   ]
  },
  {
   "cell_type": "code",
   "execution_count": 13,
   "id": "e1a196a6",
   "metadata": {},
   "outputs": [
    {
     "data": {
      "text/html": [
       "<div>\n",
       "<style scoped>\n",
       "    .dataframe tbody tr th:only-of-type {\n",
       "        vertical-align: middle;\n",
       "    }\n",
       "\n",
       "    .dataframe tbody tr th {\n",
       "        vertical-align: top;\n",
       "    }\n",
       "\n",
       "    .dataframe thead th {\n",
       "        text-align: right;\n",
       "    }\n",
       "</style>\n",
       "<table border=\"1\" class=\"dataframe\">\n",
       "  <thead>\n",
       "    <tr style=\"text-align: right;\">\n",
       "      <th></th>\n",
       "      <th>case_id</th>\n",
       "      <th>Type1</th>\n",
       "      <th>task</th>\n",
       "    </tr>\n",
       "  </thead>\n",
       "  <tbody>\n",
       "    <tr>\n",
       "      <th>0</th>\n",
       "      <td>0</td>\n",
       "      <td>[Local, Local, Local, Local, Local, Local, Loc...</td>\n",
       "      <td>{'Local'}</td>\n",
       "    </tr>\n",
       "    <tr>\n",
       "      <th>1</th>\n",
       "      <td>4</td>\n",
       "      <td>[Global, Global, Global, Global, Global, Globa...</td>\n",
       "      <td>{'Global'}</td>\n",
       "    </tr>\n",
       "    <tr>\n",
       "      <th>2</th>\n",
       "      <td>5</td>\n",
       "      <td>[Global, Global, Global, Global, Global, Globa...</td>\n",
       "      <td>{'Global'}</td>\n",
       "    </tr>\n",
       "    <tr>\n",
       "      <th>3</th>\n",
       "      <td>6</td>\n",
       "      <td>[Local, Local, Local, Local, Local, Local, Loc...</td>\n",
       "      <td>{'Local'}</td>\n",
       "    </tr>\n",
       "    <tr>\n",
       "      <th>4</th>\n",
       "      <td>7</td>\n",
       "      <td>[Local, Local, Local, Local, Local, Local, Loc...</td>\n",
       "      <td>{'Local'}</td>\n",
       "    </tr>\n",
       "    <tr>\n",
       "      <th>...</th>\n",
       "      <td>...</td>\n",
       "      <td>...</td>\n",
       "      <td>...</td>\n",
       "    </tr>\n",
       "    <tr>\n",
       "      <th>344</th>\n",
       "      <td>606</td>\n",
       "      <td>[Global, Global, Global, Global, Global, Globa...</td>\n",
       "      <td>{'Global'}</td>\n",
       "    </tr>\n",
       "    <tr>\n",
       "      <th>345</th>\n",
       "      <td>607</td>\n",
       "      <td>[Local, Local, Local, Local, Local, Local, Loc...</td>\n",
       "      <td>{'Local'}</td>\n",
       "    </tr>\n",
       "    <tr>\n",
       "      <th>346</th>\n",
       "      <td>608</td>\n",
       "      <td>[Local, Local, Local, Local, Local, Local, Loc...</td>\n",
       "      <td>{'Local'}</td>\n",
       "    </tr>\n",
       "    <tr>\n",
       "      <th>347</th>\n",
       "      <td>609</td>\n",
       "      <td>[Local, Local, Local, Local, Local, Local, Loc...</td>\n",
       "      <td>{'Local'}</td>\n",
       "    </tr>\n",
       "    <tr>\n",
       "      <th>348</th>\n",
       "      <td>610</td>\n",
       "      <td>[Global, Global, Global, Global, Global, Globa...</td>\n",
       "      <td>{'Global'}</td>\n",
       "    </tr>\n",
       "  </tbody>\n",
       "</table>\n",
       "<p>349 rows × 3 columns</p>\n",
       "</div>"
      ],
      "text/plain": [
       "     case_id                                              Type1        task\n",
       "0          0  [Local, Local, Local, Local, Local, Local, Loc...   {'Local'}\n",
       "1          4  [Global, Global, Global, Global, Global, Globa...  {'Global'}\n",
       "2          5  [Global, Global, Global, Global, Global, Globa...  {'Global'}\n",
       "3          6  [Local, Local, Local, Local, Local, Local, Loc...   {'Local'}\n",
       "4          7  [Local, Local, Local, Local, Local, Local, Loc...   {'Local'}\n",
       "..       ...                                                ...         ...\n",
       "344      606  [Global, Global, Global, Global, Global, Globa...  {'Global'}\n",
       "345      607  [Local, Local, Local, Local, Local, Local, Loc...   {'Local'}\n",
       "346      608  [Local, Local, Local, Local, Local, Local, Loc...   {'Local'}\n",
       "347      609  [Local, Local, Local, Local, Local, Local, Loc...   {'Local'}\n",
       "348      610  [Global, Global, Global, Global, Global, Globa...  {'Global'}\n",
       "\n",
       "[349 rows x 3 columns]"
      ]
     },
     "execution_count": 13,
     "metadata": {},
     "output_type": "execute_result"
    }
   ],
   "source": [
    "log_group"
   ]
  },
  {
   "cell_type": "code",
   "execution_count": 14,
   "id": "8fb276e0",
   "metadata": {},
   "outputs": [
    {
     "data": {
      "text/plain": [
       "0    175\n",
       "1    174\n",
       "Name: case_id, dtype: int64"
      ]
     },
     "execution_count": 14,
     "metadata": {},
     "output_type": "execute_result"
    }
   ],
   "source": [
    "trace_dis = log_group.groupby(['task'])['case_id'].apply(list).reset_index()\n",
    "trace_dis['case_id'].str.len()"
   ]
  },
  {
   "cell_type": "markdown",
   "id": "3a0863e5",
   "metadata": {},
   "source": [
    "## Evaluation based on Nearest Neighbor"
   ]
  },
  {
   "cell_type": "code",
   "execution_count": 15,
   "id": "8407d2ab",
   "metadata": {},
   "outputs": [
    {
     "data": {
      "text/plain": [
       "'\\nx = np.array([[ 0, 12,  8, 10, 12],\\n       [5,  0,  9, 14, 17],\\n       [ 8,  9,  0, 12, 10],\\n       [ 8,  9,  1, 0, 10],\\n       [ 8,  9,  5, 4, 0]])\\n\\nlabelDict2 = {0:1,1:2,2:1,3:3,4:3}\\nNearestNeighbor(x, labelDict2)\\n'"
      ]
     },
     "execution_count": 15,
     "metadata": {},
     "output_type": "execute_result"
    }
   ],
   "source": [
    "def NearestNeighbor(matrix, labelDict):\n",
    "    \n",
    "    clusterLabel = set(labelDict.values())\n",
    "    clusterMeasuredCount = dict.fromkeys(list(clusterLabel), 0)\n",
    "    \n",
    "    for i in range(len(matrix)):\n",
    "        #delete 0 in array matrix[i] for distance between (i,i)\n",
    "        x = np.delete(matrix[i], i) \n",
    "        #identify min distance/value in array\n",
    "        y = min(x)\n",
    "        \n",
    "        #identify position of y AND select first position/pair appearing in the array in case there are muliple pairs with identical min distance\n",
    "        nearestNeighbor = np.where(x == y)[0] #problem if multiple positions??\n",
    "        nearestNeighbor = int(nearestNeighbor[0])\n",
    "        \n",
    "        #true Label for i\n",
    "        trueLabel = labelDict[i]\n",
    "        \n",
    "        #for label comparison add +1 to dict position if position occurs after i (because of the deletion of 0 at the beginning)\n",
    "        if nearestNeighbor >= i:\n",
    "            if trueLabel == labelDict[nearestNeighbor + 1]:\n",
    "                clusterMeasuredCount[trueLabel] += 1         \n",
    "        else:\n",
    "            if trueLabel == labelDict[nearestNeighbor]:\n",
    "                clusterMeasuredCount[trueLabel] += 1\n",
    "    \n",
    "    #Count the (true) number of traces per label/attribute\n",
    "    clusterTrueCount = {}\n",
    "    for i in clusterLabel:\n",
    "        clusterTrueCount[i] = list(labelDict.values()).count(i)\n",
    "    \n",
    "    #Divide number of nearest neighbours with identical label by the respective (true number) of traces with this label\n",
    "    metric = 0\n",
    "    for i in clusterLabel:\n",
    "        metric += clusterMeasuredCount[i] / clusterTrueCount[i]\n",
    "        \n",
    "    #print(clusterMeasuredCount, clusterTrueCount, metric)\n",
    "    \n",
    "    #print(clusterMeasuredCount)\n",
    "    #print(clusterTrueCount)\n",
    "    #print(clusterLabel)\n",
    "    #print(metric)\n",
    "    return metric / len(clusterLabel)\n",
    "\n",
    "\n",
    "'''\n",
    "x = np.array([[ 0, 12,  8, 10, 12],\n",
    "       [5,  0,  9, 14, 17],\n",
    "       [ 8,  9,  0, 12, 10],\n",
    "       [ 8,  9,  1, 0, 10],\n",
    "       [ 8,  9,  5, 4, 0]])\n",
    "\n",
    "labelDict2 = {0:1,1:2,2:1,3:3,4:3}\n",
    "NearestNeighbor(x, labelDict2)\n",
    "'''"
   ]
  },
  {
   "cell_type": "markdown",
   "id": "3c0aae66",
   "metadata": {},
   "source": [
    "## Evaluation based on Precision@k"
   ]
  },
  {
   "cell_type": "code",
   "execution_count": 16,
   "id": "24a0d082",
   "metadata": {},
   "outputs": [
    {
     "data": {
      "text/plain": [
       "'\\nx3 = np.array([[ 0, 12,  8, 10, 12],\\n       [5,  0,  9, 14, 17],\\n       [ 8,  9,  0, 12, 10],\\n       [ 8,  9,  1, 0, 10],\\n       [ 4,  8,  4, 4, 0]]) # --> Issue: How to select NN when identical distance values !!!\\n\\nlabelDict3 = {0:1,1:2,2:1,3:3,4:3}\\nPrecisionAtK(x3, labelDict3, 2)\\n'"
      ]
     },
     "execution_count": 16,
     "metadata": {},
     "output_type": "execute_result"
    }
   ],
   "source": [
    "def get_key_by_value(dictionary, value):\n",
    "    for key, val in dictionary.items():\n",
    "        if val == value:\n",
    "            return key\n",
    "    #return None  # Return None if the value is not found in the dictionary\n",
    "\n",
    "\n",
    "\n",
    "\n",
    "def PrecisionAtK(matrix, labelDict, k):\n",
    "    \n",
    "    clusterLabel = set(labelDict.values())\n",
    "    clusterMeasuredCount = dict.fromkeys(list(clusterLabel), 0)\n",
    "    \n",
    "    \n",
    "    for i in range(len(matrix)):\n",
    "        \n",
    "        #true Label for i\n",
    "        trueLabel = labelDict[i]\n",
    "\n",
    "        \n",
    "        #delete 0 in array matrix[i] for distance between (i,i)   \n",
    "        x = np.delete(matrix[i], i)\n",
    "        \n",
    "        #get all k minimum values\n",
    "        nnValues = []\n",
    "        for l in range(k):\n",
    "            y = min(x)\n",
    "            nnValues.append(y)\n",
    "            x = np.delete(x, np.where(x == y)[0][0])\n",
    "        \n",
    "        \n",
    "        #get location of minimum values\n",
    "        z = np.delete(matrix[i], i)\n",
    "        \n",
    "        #create dict from array with {position:value}\n",
    "        my_dict = {}\n",
    "        for m in range(len(z)):\n",
    "            my_dict[m] = z[m]\n",
    "        \n",
    "        key_list = []\n",
    "        for n in nnValues:\n",
    "            key = get_key_by_value(my_dict, n)\n",
    "            key_list.append(key)\n",
    "            del my_dict[key]\n",
    "        \n",
    "        for o in range(k):\n",
    "            position = list(key_list)[o]\n",
    "\n",
    "            if position >= i:\n",
    "                if trueLabel == labelDict[position + 1]:\n",
    "                    clusterMeasuredCount[trueLabel] += 1\n",
    "\n",
    "            else:\n",
    "                if trueLabel == labelDict[position]:\n",
    "                    clusterMeasuredCount[trueLabel] += 1\n",
    "\n",
    "            #transform array to dict\n",
    "            #get key value from dict\n",
    "            #compare label\n",
    "            #remove key+value from dict\n",
    "\n",
    "            #Need exception in case y == 0 ??\n",
    "            \n",
    "    \n",
    "    #Count the (true) number of traces per label/attribute\n",
    "    clusterTrueCount = {}\n",
    "    for i in clusterLabel:\n",
    "        clusterTrueCount[i] = list(labelDict.values()).count(i)\n",
    "    \n",
    "    #Divide number of nearest neighbours with identical label by the respective (true number) of traces with this label\n",
    "    metric = 0\n",
    "    for i in clusterLabel:\n",
    "        metric += clusterMeasuredCount[i] / k / clusterTrueCount[i]\n",
    "        \n",
    "    #print(clusterMeasuredCount, clusterTrueCount, metric)\n",
    "    \n",
    "    #print(clusterLabel)\n",
    "    #print(metric)\n",
    "    return metric / len(clusterLabel)\n",
    "\n",
    "\n",
    "'''\n",
    "x3 = np.array([[ 0, 12,  8, 10, 12],\n",
    "       [5,  0,  9, 14, 17],\n",
    "       [ 8,  9,  0, 12, 10],\n",
    "       [ 8,  9,  1, 0, 10],\n",
    "       [ 4,  8,  4, 4, 0]]) # --> Issue: How to select NN when identical distance values !!!\n",
    "\n",
    "labelDict3 = {0:1,1:2,2:1,3:3,4:3}\n",
    "PrecisionAtK(x3, labelDict3, 2)\n",
    "'''"
   ]
  },
  {
   "cell_type": "markdown",
   "id": "f18183bf",
   "metadata": {},
   "source": [
    "## Triplet\n",
    "\n",
    "see: https://towardsdatascience.com/triplet-loss-advanced-intro-49a07b7d8905"
   ]
  },
  {
   "cell_type": "code",
   "execution_count": 17,
   "id": "2b8138ad",
   "metadata": {},
   "outputs": [],
   "source": [
    "import torch\n",
    "import torch.nn as nn\n",
    "import torch.nn.functional as F"
   ]
  },
  {
   "cell_type": "code",
   "execution_count": 18,
   "id": "836bd93b",
   "metadata": {},
   "outputs": [],
   "source": [
    "def get_triplet_mask(labels):\n",
    "    \n",
    "    # step 1 - get a mask for distinct indices\n",
    "    ###print('labels', labels)\n",
    "    # shape: (batch_size, batch_size)\n",
    "    indices_equal = torch.eye(labels.size()[0], dtype=torch.bool, device=labels.device)\n",
    "    ###print('equal', indices_equal)\n",
    "    indices_not_equal = torch.logical_not(indices_equal)\n",
    "    ###print('not_equal', indices_not_equal)\n",
    "\n",
    "    # shape: (batch_size, batch_size, 1)\n",
    "    i_not_equal_j = indices_not_equal.unsqueeze(2)\n",
    "    ###print('i_not_j - unsqueeze2', i_not_equal_j)\n",
    "    # shape: (batch_size, 1, batch_size)\n",
    "    i_not_equal_k = indices_not_equal.unsqueeze(1)\n",
    "    ###print('i_not_k - unsqueeze1', i_not_equal_k)\n",
    "    # shape: (1, batch_size, batch_size)\n",
    "    j_not_equal_k = indices_not_equal.unsqueeze(0)\n",
    "    ###print('j_not_k - unsqueeze0', i_not_equal_k)\n",
    "    # Shape: (batch_size, batch_size, batch_size)\n",
    "    distinct_indices = torch.logical_and(torch.logical_and(i_not_equal_j, i_not_equal_k), j_not_equal_k)\n",
    "    ###print('distinct!!!!', distinct_indices)\n",
    "\n",
    "    # step 2 - get a mask for valid anchor-positive-negative triplets\n",
    "    # shape: (batch_size, batch_size)\n",
    "    labels_equal = labels.unsqueeze(0) == labels.unsqueeze(1)\n",
    "    ###print('labels_equal', labels_equal)\n",
    "    # shape: (batch_size, batch_size, 1)\n",
    "    i_equal_j = labels_equal.unsqueeze(2)\n",
    "    ###print('i_equal_j', i_equal_j)\n",
    "    # shape: (batch_size, 1, batch_size)\n",
    "    i_equal_k = labels_equal.unsqueeze(1)\n",
    "    ###print('i_equal_k', i_equal_k)\n",
    "    # shape: (batch_size, batch_size, batch_size)\n",
    "    valid_indices = torch.logical_and(i_equal_j, torch.logical_not(i_equal_k))\n",
    "    ###print('valid_indices!!!', valid_indices)\n",
    "    \n",
    "\n",
    "    # step 3 - combine two masks\n",
    "    mask = torch.logical_and(distinct_indices, valid_indices)\n",
    "    ###print('mask!!', mask)\n",
    "    return mask\n",
    "\n",
    "    \"\"\"compute a mask for valid triplets\n",
    "    Args:\n",
    "        labels: Batch of integer labels. shape: (batch_size,)\n",
    "    Returns:\n",
    "        Mask tensor to indicate which triplets are actually valid. Shape: (batch_size, batch_size, batch_size)\n",
    "        A triplet is valid if:\n",
    "        `labels[i] == labels[j] and labels[i] != labels[k]`\n",
    "        and `i`, `j`, `k` are different.\n",
    "    \"\"\"\n",
    "    \n",
    "class custom_activation(nn.Module):\n",
    "    def __init__(self):\n",
    "        super(custom_activation, self).__init__()\n",
    "    \n",
    "    def forward(self, x):\n",
    "        x[x>0] = 1\n",
    "        x[x<=0] = 0\n",
    "        return x\n",
    "\n",
    "\n",
    "class BatchAllTtripletLoss(nn.Module):\n",
    "  \"\"\"Uses all valid triplets to compute Triplet loss\n",
    "\n",
    "  Args:\n",
    "    margin: Margin value in the Triplet Loss equation\n",
    "  \"\"\"\n",
    "  def __init__(self, margin=0): #default margin = 0\n",
    "    super().__init__()\n",
    "    self.margin = margin\n",
    "    self.relu = nn.ReLU() #new\n",
    "    self.custom = custom_activation()\n",
    "    \n",
    "  def forward(self, distance_matrix, labels):\n",
    "    \"\"\"computes loss value.\n",
    "\n",
    "    Args:\n",
    "      embeddings: Batch of embeddings, e.g., output of the encoder. shape: (batch_size, embedding_dim)\n",
    "      labels: Batch of integer labels associated with embeddings. shape: (batch_size,)\n",
    "\n",
    "    Returns:\n",
    "      Scalar loss value.\n",
    "    \"\"\"\n",
    "    # step 1 - convert to tensor format\n",
    "    distance_matrix = torch.tensor(distance_matrix)\n",
    "    labels = torch.tensor(list(labels.values()))\n",
    "\n",
    "\n",
    "    # step 2 - compute loss values for all triplets by applying broadcasting to distance matrix\n",
    "\n",
    "    # shape: (batch_size, batch_size, 1)\n",
    "    anchor_positive_dists = distance_matrix.unsqueeze(2)\n",
    "    # shape: (batch_size, 1, batch_size)\n",
    "    anchor_negative_dists = distance_matrix.unsqueeze(1)\n",
    "    # get loss values for all possible n^3 triplets\n",
    "    # shape: (batch_size, batch_size, batch_size)\n",
    "    triplet_loss = anchor_negative_dists - anchor_positive_dists + self.margin\n",
    "    ###print('tl0',triplet_loss)\n",
    "\n",
    "    # step 3 - filter out invalid or easy triplets by setting their loss values to 0\n",
    "\n",
    "    # shape: (batch_size, batch_size, batch_size)\n",
    "    mask = get_triplet_mask(labels)\n",
    "    ###print('mask', mask)\n",
    "    triplet_loss *= mask\n",
    "    ###print(triplet_loss)\n",
    "    ###print('tl1:', triplet_loss)\n",
    "    # easy triplets have negative loss values\n",
    "    \n",
    "    triplet_loss = self.custom(triplet_loss)\n",
    "    ###print(triplet_loss)\n",
    "    #triplet_loss = F.relu(triplet_loss)\n",
    "\n",
    "    # step 4 - compute scalar loss value by averaging positive losses\n",
    "    \n",
    "    triLossNonZero = (triplet_loss != 0).nonzero(as_tuple=True)\n",
    "    labelTorchUnique = torch.unique(labels, return_counts=True)\n",
    "    \n",
    "    nonZero = len(triLossNonZero[0])\n",
    "    triLossSum = []\n",
    "    for i in range(nonZero):\n",
    "        #Identify L_a --> In Class\n",
    "        t1 = triLossNonZero[0][i]\n",
    "        labelIn = labels[t1]\n",
    "        positionIn = int((labelTorchUnique[0] == labelIn).nonzero(as_tuple=False))\n",
    "        countIn = labelTorchUnique[1][positionIn]\n",
    "\n",
    "        #Identify L_b --> Out Class\n",
    "        t3 = triLossNonZero[2][i]\n",
    "        labelOut = labels[t3]\n",
    "        positionOut = int((labelTorchUnique[0] == labelOut).nonzero(as_tuple=False))\n",
    "        countOut = labelTorchUnique[1][positionOut]\n",
    "\n",
    "        #Calculate loss\n",
    "        value = (1/countIn)*(1/countIn)*(1/countOut)  \n",
    "        ###print(countIn)\n",
    "        ###print(countOut)\n",
    "        triLossSum.append(value)\n",
    "    \n",
    "    #finally divide by |A|^2-|A|\n",
    "    A = len(labelTorchUnique[0])  \n",
    "    lossValue = sum(triLossSum) / (A*A-A)\n",
    "        \n",
    "    #OLD\n",
    "    #E_triplet = (1 / (A^2 - A)) *\n",
    "    #num_positive_losses = (triplet_loss > eps).float().sum()\n",
    "    #print(num_positive_losses)\n",
    "    #print(triplet_loss.sum())\n",
    "    #triplet_loss = triplet_loss.sum() / (num_positive_losses + eps)\n",
    "    \n",
    "\n",
    "    return lossValue"
   ]
  },
  {
   "cell_type": "code",
   "execution_count": 19,
   "id": "fca56952",
   "metadata": {},
   "outputs": [],
   "source": [
    "#distance_matrix = torch.tensor(Matrix)\n",
    "#labels = torch.tensor(list(labelDict1.values()))\n",
    "#distance_matrix\n",
    "#labels\n",
    "#triLossNonZero = (triplet_loss != 0).nonzero(as_tuple=True)\n",
    "#labelTorchUnique = torch.unique(labels, return_counts=True)\n",
    "#len(labelTorchUnique[0])"
   ]
  },
  {
   "cell_type": "markdown",
   "id": "0f12a92e",
   "metadata": {},
   "source": [
    "## Silhouette"
   ]
  },
  {
   "cell_type": "code",
   "execution_count": 20,
   "id": "26715870",
   "metadata": {},
   "outputs": [],
   "source": [
    "from sklearn import metrics\n",
    "\n",
    "def Silhouette(distMatrix, labelDict):\n",
    "    labelDictList = list(labelDict.values())\n",
    "    return metrics.silhouette_score(distMatrix, labelDictList)"
   ]
  },
  {
   "cell_type": "markdown",
   "id": "e07bf24c",
   "metadata": {},
   "source": [
    "## Ground truth comparison"
   ]
  },
  {
   "cell_type": "code",
   "execution_count": 21,
   "id": "28bc49d7",
   "metadata": {},
   "outputs": [],
   "source": [
    "#Create dictionary with true labels\n",
    "log_group['label'] = le.fit_transform(log_group['task'])\n",
    "labelDict1 = log_group['label'].to_dict()\n",
    "#labelDict1"
   ]
  },
  {
   "cell_type": "code",
   "execution_count": 22,
   "id": "9b448163",
   "metadata": {},
   "outputs": [],
   "source": [
    "logVar[\"c:n_chr\"] = logVar[\"activity\"].apply(lambda x: [chr(i) for i in x])\n",
    "logVar[\"strings\"] = logVar[\"c:n_chr\"].apply(lambda x: ''.join(x))"
   ]
  },
  {
   "cell_type": "code",
   "execution_count": 23,
   "id": "31366d5f",
   "metadata": {},
   "outputs": [],
   "source": [
    "def matrix_calc(features, distance):\n",
    "    n = len(features)\n",
    "    dist_matrix = np.zeros((n,n))\n",
    "    \n",
    "    for i in range(n):\n",
    "        for j in range(i, n):\n",
    "            dist_matrix[i,j] = distance(features[i], features[j])\n",
    "            dist_matrix[j,i] = dist_matrix[i,j]\n",
    "    \n",
    "    return dist_matrix"
   ]
  },
  {
   "cell_type": "code",
   "execution_count": 24,
   "id": "796fed6d",
   "metadata": {},
   "outputs": [],
   "source": [
    "def results(DistMatrix):\n",
    "    print('NN:   ' + str(NearestNeighbor(DistMatrix, labelDict1)))\n",
    "    print('P@10: ' + str(PrecisionAtK(DistMatrix, labelDict1, 10)))\n",
    "\n",
    "    triplet = BatchAllTtripletLoss()\n",
    "    print('Tri:  ' + str(triplet.forward(DistMatrix,labelDict1)))\n",
    "    print('Sil:  ' + str(Silhouette(DistMatrix, labelDict1)))"
   ]
  },
  {
   "cell_type": "markdown",
   "id": "48f908a1",
   "metadata": {},
   "source": [
    "### Levenshtein Distance"
   ]
  },
  {
   "cell_type": "code",
   "execution_count": 25,
   "id": "babbef01",
   "metadata": {},
   "outputs": [
    {
     "data": {
      "text/plain": [
       "array([[  0, 267, 316, ..., 263, 274, 332],\n",
       "       [267,   0, 311, ..., 188, 180, 311],\n",
       "       [316, 311,   0, ..., 333, 307, 319],\n",
       "       ...,\n",
       "       [263, 188, 333, ...,   0, 194, 345],\n",
       "       [274, 180, 307, ..., 194,   0, 351],\n",
       "       [332, 311, 319, ..., 345, 351,   0]])"
      ]
     },
     "execution_count": 25,
     "metadata": {},
     "output_type": "execute_result"
    }
   ],
   "source": [
    "#Levenshtein Distance\n",
    "\n",
    "List = list(logVar[\"strings\"])\n",
    "\n",
    "dist_matrix = np.zeros((len(List),len(List)),dtype=int)\n",
    "\n",
    "for i in range(0,len(List)):\n",
    "    for j in range(0,len(List)):\n",
    "        dist_matrix[i,j] = distance(List[i],List[j])\n",
    "\n",
    "lev_dis = dist_matrix\n",
    "lev_dis"
   ]
  },
  {
   "cell_type": "code",
   "execution_count": 26,
   "id": "cf8a5cfd",
   "metadata": {},
   "outputs": [
    {
     "name": "stdout",
     "output_type": "stream",
     "text": [
      "NN:   0.939983579638752\n",
      "P@10: 0.8513070607553366\n",
      "Tri:  tensor(0.5836)\n",
      "Sil:  0.21810578792076235\n"
     ]
    }
   ],
   "source": [
    "results(lev_dis)"
   ]
  },
  {
   "cell_type": "code",
   "execution_count": 18,
   "id": "a788eb6b",
   "metadata": {},
   "outputs": [
    {
     "name": "stdout",
     "output_type": "stream",
     "text": [
      "NN:   0.937142857142857\n",
      "P@10: 0.850857142857143\n",
      "Tri:  tensor(0.5911)\n",
      "Sil:  0.21990849399232068\n"
     ]
    }
   ],
   "source": [
    "###OLD\n",
    "'''\n",
    "Matrix = lev_dis\n",
    "\n",
    "print('NN:   ' + str(NearestNeighbor(Matrix, labelDict1)))\n",
    "print('P@10: ' + str(PrecisionAtK(Matrix, labelDict1, 10)))\n",
    "\n",
    "triplet = BatchAllTtripletLoss()\n",
    "print('Tri:  ' + str(triplet.forward(Matrix,labelDict1)))\n",
    "print('Sil:  ' + str(Silhouette(Matrix, labelDict1)))\n",
    "'''"
   ]
  },
  {
   "cell_type": "markdown",
   "id": "d8d769e7",
   "metadata": {},
   "source": [
    "### Normalized Levenshtein Distance"
   ]
  },
  {
   "cell_type": "code",
   "execution_count": 27,
   "id": "ecb15751",
   "metadata": {},
   "outputs": [],
   "source": [
    "List = logVar[\"strings\"]\n",
    "\n",
    "n = len(List)\n",
    "dist_matrix = np.zeros((n,n))    # initialize distance matrix to a square of zeros\n",
    "\n",
    "for i in range(n):\n",
    "    for j in range(i, n):\n",
    "        dist_matrix[i,j] = distance(List[i], List[j]) / max(len(List[i]),len(List[j]))\n",
    "        dist_matrix[j,i] = dist_matrix[i,j]       # for the symmetric part, no computation\n",
    "\n",
    "lev_dis_norm = dist_matrix"
   ]
  },
  {
   "cell_type": "code",
   "execution_count": 28,
   "id": "4cfc8069",
   "metadata": {},
   "outputs": [
    {
     "name": "stdout",
     "output_type": "stream",
     "text": [
      "NN:   0.9714121510673235\n",
      "P@10: 0.9167783251231527\n",
      "Tri:  tensor(0.6128)\n",
      "Sil:  0.06023860382402081\n"
     ]
    }
   ],
   "source": [
    "results(lev_dis_norm)"
   ]
  },
  {
   "cell_type": "code",
   "execution_count": 33,
   "id": "e767dec7",
   "metadata": {},
   "outputs": [
    {
     "name": "stdout",
     "output_type": "stream",
     "text": [
      "NN:   0.9685714285714286\n",
      "P@10: 0.9157142857142857\n",
      "Tri:  tensor(0.6184)\n",
      "Sil:  0.05932236364558842\n"
     ]
    }
   ],
   "source": [
    "###OLD\n",
    "'''\n",
    "Matrix = lev_dis_norm\n",
    "\n",
    "print('NN:   ' + str(NearestNeighbor(Matrix, labelDict1)))\n",
    "print('P@10: ' + str(PrecisionAtK(Matrix, labelDict1, 10)))\n",
    "\n",
    "triplet = BatchAllTtripletLoss()\n",
    "print('Tri:  ' + str(triplet.forward(Matrix,labelDict1)))\n",
    "print('Sil:  ' + str(Silhouette(Matrix, labelDict1)))\n",
    "'''"
   ]
  },
  {
   "cell_type": "markdown",
   "id": "8c7dd7ae",
   "metadata": {},
   "source": [
    "### Cosine based on 1-gram"
   ]
  },
  {
   "cell_type": "code",
   "execution_count": 29,
   "id": "bbe30ac1",
   "metadata": {},
   "outputs": [],
   "source": [
    "#Create 1-gram\n",
    "\n",
    "def createVector(charList):\n",
    "    #dtype = [('structure', 'S10'), ('relfrequ', float)]\n",
    "    arrayList = np.array(charList)\n",
    "    unique, counts = np.unique(arrayList, return_counts=True)\n",
    "    #calculate relative frequency\n",
    "    relFrequList = np.array((unique, counts)).T\n",
    "    uniqueList = list(unique)\n",
    "    return relFrequList[relFrequList[:, 0].argsort()]\n",
    "    #check completeness\n",
    "    #if 'tree' not in uniqueList:\n",
    "        #relFrequList = np.append(relFrequList, np.array([['tree', 0]]), axis=0)\n",
    "        #print(relFrequList)\n",
    "\n",
    "        \n",
    "#Change data format from string to list of unique characters\n",
    "logVar[\"1-gram\"] = logVar[\"c:n_chr\"].apply(lambda x: createVector(tuple(x)))\n",
    "#logVar\n"
   ]
  },
  {
   "cell_type": "code",
   "execution_count": 30,
   "id": "d2556cd8",
   "metadata": {},
   "outputs": [],
   "source": [
    "def alignArrays(array1, array2):\n",
    "    commonSet = set(array1[:,0]).union(array2[:,0])\n",
    "    \n",
    "    for i in commonSet:\n",
    "        if i not in array1[:,0]:\n",
    "            array1 = np.append(array1, np.array([[i, '0']]), axis=0)\n",
    "        if i not in array2[:,0]:\n",
    "            array2 = np.append(array2, np.array([[i, '0']]), axis=0)\n",
    "    return array1[array1[:, 0].argsort()], array2[array2[:, 0].argsort()]"
   ]
  },
  {
   "cell_type": "code",
   "execution_count": 29,
   "id": "51bc8b8d",
   "metadata": {},
   "outputs": [],
   "source": [
    "#One-hot embedding\n",
    "'''\n",
    "def alignArrays_OneHotEmbedding(array1, array2):\n",
    "    \n",
    "    for i in range(len(array1)):\n",
    "        if int(array1[:,1][i]) > 1:\n",
    "            array1[:,1][i] = 1\n",
    "    \n",
    "    for i in range(len(array2)):\n",
    "        if int(array2[:,1][i]) > 1:\n",
    "            array2[:,1][i] = 1\n",
    "               \n",
    "    commonSet = set(array1[:,0]).union(array2[:,0])\n",
    "    #print(commonSet)\n",
    "        \n",
    "    for i in commonSet:\n",
    "        if i not in array1[:,0]:\n",
    "            array1 = np.append(array1, np.array([[i, '0']]), axis=0)\n",
    "        if i not in array2[:,0]:\n",
    "            array2 = np.append(array2, np.array([[i, '0']]), axis=0)\n",
    "    return array1[array1[:, 0].argsort()], array2[array2[:, 0].argsort()]\n",
    "'''"
   ]
  },
  {
   "cell_type": "code",
   "execution_count": 31,
   "id": "c2a7a886",
   "metadata": {},
   "outputs": [],
   "source": [
    "from scipy.spatial import distance\n",
    "\n",
    "def cosineDist(frequVector1, frequVector2):\n",
    "    Vector1, Vector2 = alignArrays(frequVector1, frequVector2)\n",
    "    a = Vector1[:,1].astype(int)\n",
    "    b = Vector2[:,1].astype(int)\n",
    "    dist_matrix = distance.cosine(a, b)\n",
    "    return dist_matrix"
   ]
  },
  {
   "cell_type": "code",
   "execution_count": 40,
   "id": "ba78e306",
   "metadata": {},
   "outputs": [
    {
     "name": "stdout",
     "output_type": "stream",
     "text": [
      "NN:   0.9799507389162561\n",
      "P@10: 0.9570607553366174\n",
      "Tri:  tensor(0.5652)\n",
      "Sil:  0.07706030961601126\n"
     ]
    }
   ],
   "source": [
    "#Cosine distance based on 1-gram\n",
    "\n",
    "#cos1_dis = matrix_calc(logVar[\"1-gram\"],cosineDist)\n",
    "results(cos1_dis)"
   ]
  },
  {
   "cell_type": "code",
   "execution_count": 31,
   "id": "63a2bff8",
   "metadata": {},
   "outputs": [],
   "source": [
    "#Cosine distance based on 1-gram\n",
    "'''\n",
    "listVec = logVar[\"1-gram\"]\n",
    "\n",
    "n = len(listVec)\n",
    "dist_matrix = np.zeros((n,n))\n",
    "\n",
    "for i in range(n):\n",
    "    for j in range(i, n):\n",
    "        dist_matrix[i,j] = cosineDist(listVec[i], listVec[j])\n",
    "        dist_matrix[j,i] = dist_matrix[i,j]  \n",
    "        \n",
    "cos1_dis = dist_matrix"
   ]
  },
  {
   "cell_type": "code",
   "execution_count": 44,
   "id": "bef9d6ab",
   "metadata": {},
   "outputs": [
    {
     "name": "stdout",
     "output_type": "stream",
     "text": [
      "NN:   0.9885714285714285\n",
      "P@10: 0.96\n",
      "Tri:  tensor(0.5966)\n",
      "Sil:  0.07511495833799511\n"
     ]
    }
   ],
   "source": [
    "'''\n",
    "Matrix = cos1_dis\n",
    "\n",
    "print('NN:   ' + str(NearestNeighbor(Matrix, labelDict1)))\n",
    "print('P@10: ' + str(PrecisionAtK(Matrix, labelDict1, 10)))\n",
    "\n",
    "triplet = BatchAllTtripletLoss()\n",
    "print('Tri:  ' + str(triplet.forward(Matrix,labelDict1)))\n",
    "print('Sil:  ' + str(Silhouette(Matrix, labelDict1)))\n",
    "'''"
   ]
  },
  {
   "cell_type": "markdown",
   "id": "1aaed8c6",
   "metadata": {},
   "source": [
    "### Cosine based on 2-gram"
   ]
  },
  {
   "cell_type": "code",
   "execution_count": 33,
   "id": "58972a6d",
   "metadata": {},
   "outputs": [],
   "source": [
    "#Change data format from string to list of unique characters\n",
    "#logVar[\"charList\"] = logVar[\"trace_variant\"].apply(lambda x: list(x))\n",
    "#logVar\n",
    "\n",
    "def df_list(list_of_char):\n",
    "    extList = list_of_char.copy()\n",
    "    extList.insert(0, '*') \n",
    "    extList.append('$')\n",
    "    list_new = []\n",
    "    for i in range(len(extList)):\n",
    "        new = ''.join(extList[i:i+2])\n",
    "        list_new.append(new)\n",
    "    del list_new[-1]\n",
    "    return list_new\n",
    "\n",
    "#Change data format from string to list of unique characters\n",
    "logVar[\"dfList\"] = logVar[\"c:n_chr\"].apply(lambda x: df_list(x))\n",
    "#logVar\n",
    "\n",
    "logVar[\"2-gram\"] = logVar[\"dfList\"].apply(lambda x: createVector(x))\n",
    "#logVar"
   ]
  },
  {
   "cell_type": "code",
   "execution_count": 34,
   "id": "b5cb4649",
   "metadata": {},
   "outputs": [
    {
     "name": "stdout",
     "output_type": "stream",
     "text": [
      "NN:   0.965632183908046\n",
      "P@10: 0.900376026272578\n",
      "Tri:  tensor(0.5557)\n",
      "Sil:  0.04190006376468889\n"
     ]
    }
   ],
   "source": [
    "#Cosine distance based on 2-gram\n",
    "\n",
    "cos2_dis = matrix_calc(logVar[\"2-gram\"],cosineDist)\n",
    "results(cos2_dis)"
   ]
  },
  {
   "cell_type": "code",
   "execution_count": 25,
   "id": "08af481e",
   "metadata": {},
   "outputs": [],
   "source": [
    "#Cosine distance based on 2-gram\n",
    "'''\n",
    "listVec = logVar[\"2-gram\"]\n",
    "\n",
    "n = len(listVec)\n",
    "dist_matrix = np.zeros((n,n))\n",
    "\n",
    "for i in range(n):\n",
    "    for j in range(i, n):\n",
    "        dist_matrix[i,j] = cosineDist(listVec[i], listVec[j])\n",
    "        dist_matrix[j,i] = dist_matrix[i,j]  \n",
    "        \n",
    "cos2_dis = dist_matrix"
   ]
  },
  {
   "cell_type": "code",
   "execution_count": 46,
   "id": "2adf27e8",
   "metadata": {},
   "outputs": [
    {
     "name": "stdout",
     "output_type": "stream",
     "text": [
      "NN:   0.9914285714285714\n",
      "P@10: 0.9825714285714285\n",
      "Tri:  tensor(0.6086)\n",
      "Sil:  0.07824155855586741\n"
     ]
    }
   ],
   "source": [
    "'''\n",
    "Matrix = cos2_dis\n",
    "\n",
    "print('NN:   ' + str(NearestNeighbor(Matrix, labelDict1)))\n",
    "print('P@10: ' + str(PrecisionAtK(Matrix, labelDict1, 10)))\n",
    "\n",
    "triplet = BatchAllTtripletLoss()\n",
    "print('Tri:  ' + str(triplet.forward(Matrix,labelDict1)))\n",
    "print('Sil:  ' + str(Silhouette(Matrix, labelDict1)))\n",
    "'''"
   ]
  },
  {
   "cell_type": "code",
   "execution_count": 33,
   "id": "7c41f0c7",
   "metadata": {},
   "outputs": [
    {
     "name": "stdout",
     "output_type": "stream",
     "text": [
      "NN:   0.9971428571428571\n",
      "P@10: 0.978\n",
      "Tri:  tensor(0.6072)\n",
      "Sil:  0.08113738485276242\n"
     ]
    }
   ],
   "source": [
    "#Aggregation\n",
    "'''\n",
    "aggregate = cos1_dis + cos2_dis\n",
    "\n",
    "Matrix = aggregate\n",
    "\n",
    "print('NN:   ' + str(NearestNeighbor(Matrix, labelDict1)))\n",
    "print('P@10: ' + str(PrecisionAtK(Matrix, labelDict1, 10)))\n",
    "\n",
    "triplet = BatchAllTtripletLoss()\n",
    "print('Tri:  ' + str(triplet.forward(Matrix,labelDict1)))\n",
    "print('Sil:  ' + str(Silhouette(Matrix, labelDict1)))\n",
    "'''"
   ]
  },
  {
   "cell_type": "code",
   "execution_count": 35,
   "id": "3431f1f4",
   "metadata": {},
   "outputs": [],
   "source": [
    "#Create 3-gram\n",
    "\n",
    "#Change data format from string to list of unique characters\n",
    "logVar[\"charList\"] = logVar[\"c:n_chr\"].apply(lambda x: list(x))\n",
    "\n",
    "def df_list2(list_of_char):\n",
    "    extList = list_of_char.copy()\n",
    "    extList.insert(0, '*') \n",
    "    extList.append('$')\n",
    "    list_new = []\n",
    "    for i in range(len(extList) - 1):\n",
    "        new = ''.join(extList[i:i+3])\n",
    "        list_new.append(new)\n",
    "    del list_new[-1]\n",
    "    return list_new"
   ]
  },
  {
   "cell_type": "code",
   "execution_count": 36,
   "id": "d179a775",
   "metadata": {},
   "outputs": [],
   "source": [
    "logVar[\"dfList2\"] = logVar[\"charList\"].apply(lambda x: df_list2(x))\n",
    "logVar[\"3-gram\"] = logVar[\"dfList2\"].apply(lambda x: createVector(x))"
   ]
  },
  {
   "cell_type": "code",
   "execution_count": 37,
   "id": "60c74cae",
   "metadata": {},
   "outputs": [
    {
     "name": "stdout",
     "output_type": "stream",
     "text": [
      "NN:   0.9170607553366175\n",
      "P@10: 0.8345566502463053\n",
      "Tri:  tensor(0.5331)\n",
      "Sil:  0.021983474242203347\n"
     ]
    }
   ],
   "source": [
    "#Cosine distance based on 3-gram\n",
    "\n",
    "cos3_dis = matrix_calc(logVar[\"3-gram\"],cosineDist)\n",
    "results(cos3_dis)"
   ]
  },
  {
   "cell_type": "code",
   "execution_count": 38,
   "id": "51320bf2",
   "metadata": {},
   "outputs": [
    {
     "name": "stdout",
     "output_type": "stream",
     "text": [
      "NN:   0.9770935960591133\n",
      "P@10: 0.9381658456486042\n",
      "Tri:  tensor(0.5611)\n",
      "Sil:  0.05977036300162498\n"
     ]
    }
   ],
   "source": [
    "#Aggregation\n",
    "\n",
    "aggregate1 = cos1_dis + cos2_dis\n",
    "results(aggregate1)"
   ]
  },
  {
   "cell_type": "code",
   "execution_count": 39,
   "id": "de62a8fb",
   "metadata": {},
   "outputs": [
    {
     "name": "stdout",
     "output_type": "stream",
     "text": [
      "NN:   0.9684893267651888\n",
      "P@10: 0.9109753694581282\n",
      "Tri:  tensor(0.5561)\n",
      "Sil:  0.04699491340323087\n"
     ]
    }
   ],
   "source": [
    "#Aggregation\n",
    "\n",
    "aggregate2 = cos1_dis + cos2_dis + cos3_dis\n",
    "results(aggregate2)"
   ]
  },
  {
   "cell_type": "markdown",
   "id": "4873184e",
   "metadata": {},
   "source": [
    "## Euclidean Distance"
   ]
  },
  {
   "cell_type": "code",
   "execution_count": 41,
   "id": "72dfa0d6",
   "metadata": {},
   "outputs": [],
   "source": [
    "# Euclidean distance\n",
    "# see https://stackoverflow.com/questions/1401712/how-can-the-euclidean-distance-be-calculated-with-numpy\n",
    "\n",
    "def euclidDist(frequVector1, frequVector2):\n",
    "    Vector1, Vector2 = alignArrays(frequVector1, frequVector2)\n",
    "    a = Vector1[:,1].astype(float)\n",
    "    b = Vector2[:,1].astype(float)\n",
    "    euclidean_dist = np.linalg.norm(a-b)\n",
    "    return euclidean_dist"
   ]
  },
  {
   "cell_type": "code",
   "execution_count": 42,
   "id": "c9bdee22",
   "metadata": {},
   "outputs": [
    {
     "name": "stdout",
     "output_type": "stream",
     "text": [
      "NN:   0.9742528735632183\n",
      "P@10: 0.9156026272577997\n",
      "Tri:  tensor(0.5799)\n",
      "Sil:  0.12313737064490321\n"
     ]
    }
   ],
   "source": [
    "#Euclidean distance based on 1-gram\n",
    "\n",
    "euc1_dis = matrix_calc(logVar[\"1-gram\"],euclidDist)\n",
    "results(euc1_dis)"
   ]
  },
  {
   "cell_type": "code",
   "execution_count": 43,
   "id": "311f1808",
   "metadata": {},
   "outputs": [
    {
     "name": "stdout",
     "output_type": "stream",
     "text": [
      "NN:   0.9456321839080459\n",
      "P@10: 0.800888341543514\n",
      "Tri:  tensor(0.5402)\n",
      "Sil:  0.07896608635287823\n"
     ]
    }
   ],
   "source": [
    "#Euclidean distance based on 2-gram\n",
    "\n",
    "euc2_dis = matrix_calc(logVar[\"2-gram\"],euclidDist)\n",
    "results(euc2_dis)"
   ]
  },
  {
   "cell_type": "code",
   "execution_count": 44,
   "id": "c1dba692",
   "metadata": {},
   "outputs": [
    {
     "name": "stdout",
     "output_type": "stream",
     "text": [
      "NN:   0.8110344827586207\n",
      "P@10: 0.672704433497537\n",
      "Tri:  tensor(0.5131)\n",
      "Sil:  0.05959731752325882\n"
     ]
    }
   ],
   "source": [
    "#Euclidean distance based on 3-gram\n",
    "\n",
    "euc3_dis = matrix_calc(logVar[\"3-gram\"],euclidDist)\n",
    "results(euc3_dis)"
   ]
  },
  {
   "cell_type": "code",
   "execution_count": 45,
   "id": "b5fcf4d3",
   "metadata": {},
   "outputs": [
    {
     "name": "stdout",
     "output_type": "stream",
     "text": [
      "NN:   0.9685221674876847\n",
      "P@10: 0.8864302134646962\n",
      "Tri:  tensor(0.5662)\n",
      "Sil:  0.1069272854571777\n"
     ]
    }
   ],
   "source": [
    "#Aggregation\n",
    "\n",
    "agg_euc = euc1_dis + euc2_dis\n",
    "results(agg_euc)"
   ]
  },
  {
   "cell_type": "markdown",
   "id": "efaef19c",
   "metadata": {},
   "source": [
    "### Jaccard based on 1-gram"
   ]
  },
  {
   "cell_type": "code",
   "execution_count": 46,
   "id": "feb39b93",
   "metadata": {},
   "outputs": [],
   "source": [
    "#Distance based on activity type\n",
    "\n",
    "def jaccard_similarity(list1, list2):\n",
    "    s1, s2 = set(list1), set(list2)\n",
    "    return 1 - len(s1 & s2) / len(s1 | s2)"
   ]
  },
  {
   "cell_type": "code",
   "execution_count": 47,
   "id": "ed3d4c95",
   "metadata": {},
   "outputs": [
    {
     "name": "stdout",
     "output_type": "stream",
     "text": [
      "NN:   0.979983579638752\n",
      "P@10: 0.9519261083743842\n",
      "Tri:  tensor(0.6072)\n",
      "Sil:  0.07999095734358981\n"
     ]
    }
   ],
   "source": [
    "#Jaccard based on 1-gram\n",
    "Jacc1_dis = matrix_calc(logVar[\"charList\"],jaccard_similarity)\n",
    "results(Jacc1_dis)"
   ]
  },
  {
   "cell_type": "code",
   "execution_count": 48,
   "id": "37b6a406",
   "metadata": {},
   "outputs": [
    {
     "name": "stdout",
     "output_type": "stream",
     "text": [
      "NN:   0.9913957307060756\n",
      "P@10: 0.9816600985221675\n",
      "Tri:  tensor(0.6266)\n",
      "Sil:  0.04940525630137409\n"
     ]
    }
   ],
   "source": [
    "#Jaccard based on 2-gram\n",
    "Jacc2_dis = matrix_calc(logVar[\"dfList\"],jaccard_similarity)\n",
    "results(Jacc2_dis)"
   ]
  },
  {
   "cell_type": "code",
   "execution_count": 49,
   "id": "22ecfe4b",
   "metadata": {},
   "outputs": [
    {
     "name": "stdout",
     "output_type": "stream",
     "text": [
      "NN:   0.9942528735632183\n",
      "P@10: 0.9868259441707719\n",
      "Tri:  tensor(0.6294)\n",
      "Sil:  0.018640554706811936\n"
     ]
    }
   ],
   "source": [
    "#Jaccard based on 3-gram\n",
    "Jacc3_dis = matrix_calc(logVar[\"dfList2\"],jaccard_similarity)\n",
    "results(Jacc3_dis)"
   ]
  },
  {
   "cell_type": "code",
   "execution_count": 51,
   "id": "5476dc0c",
   "metadata": {},
   "outputs": [
    {
     "name": "stdout",
     "output_type": "stream",
     "text": [
      "NN:   0.9971428571428571\n",
      "P@10: 0.9682249589490969\n",
      "Tri:  tensor(0.6185)\n",
      "Sil:  0.0714694571964214\n"
     ]
    }
   ],
   "source": [
    "#Aggregation\n",
    "\n",
    "agg_jacc1 = Jacc1_dis + Jacc2_dis\n",
    "results(agg_jacc1)"
   ]
  },
  {
   "cell_type": "code",
   "execution_count": 52,
   "id": "631b3640",
   "metadata": {},
   "outputs": [
    {
     "name": "stdout",
     "output_type": "stream",
     "text": [
      "NN:   0.9942857142857142\n",
      "P@10: 0.9762331691297209\n",
      "Tri:  tensor(0.6242)\n",
      "Sil:  0.05754668243539865\n"
     ]
    }
   ],
   "source": [
    "agg_jacc2 = Jacc1_dis + Jacc2_dis + Jacc3_dis\n",
    "results(agg_jacc2)"
   ]
  },
  {
   "cell_type": "code",
   "execution_count": 42,
   "id": "17049e40",
   "metadata": {},
   "outputs": [],
   "source": [
    "'''\n",
    "ListChar = list(logVar[\"activity\"])\n",
    "\n",
    "n = len(ListChar)\n",
    "dist_matrix = np.zeros((n,n))    # initialize distance matrix to a square of zeros\n",
    "\n",
    "for i in range(n):\n",
    "    for j in range(i, n):\n",
    "        dist_matrix[i,j] = jaccard_similarity(ListChar[i], ListChar[j])\n",
    "        dist_matrix[j,i] = dist_matrix[i,j]       # for the symmetric part, no computation\n",
    "        \n",
    "jacc1_dis = dist_matrix"
   ]
  },
  {
   "cell_type": "code",
   "execution_count": 37,
   "id": "8606da9b",
   "metadata": {},
   "outputs": [
    {
     "name": "stdout",
     "output_type": "stream",
     "text": [
      "NN:   0.98\n",
      "P@10: 0.9511428571428571\n",
      "Tri:  tensor(0.6128)\n",
      "Sil:  0.07995137880520391\n"
     ]
    }
   ],
   "source": [
    "'''\n",
    "Matrix = jacc1_dis\n",
    "\n",
    "print('NN:   ' + str(NearestNeighbor(Matrix, labelDict1)))\n",
    "print('P@10: ' + str(PrecisionAtK(Matrix, labelDict1, 10)))\n",
    "\n",
    "triplet = BatchAllTtripletLoss()\n",
    "print('Tri:  ' + str(triplet.forward(Matrix,labelDict1)))\n",
    "print('Sil:  ' + str(Silhouette(Matrix, labelDict1)))\n",
    "'''"
   ]
  },
  {
   "cell_type": "markdown",
   "id": "baad37ec",
   "metadata": {},
   "source": [
    "### Jaccard based on 2-gram"
   ]
  },
  {
   "cell_type": "code",
   "execution_count": 43,
   "id": "664a9dd7",
   "metadata": {},
   "outputs": [],
   "source": [
    "#Distance based on adjacency relations\n",
    "\n",
    "#Create list of directly follow relations\n",
    "'''\n",
    "def df_list(list_of_char):\n",
    "    extList = list_of_char.copy()\n",
    "    extList.insert(0, '*') \n",
    "    extList.append('$')\n",
    "    list_new = []\n",
    "    for i in range(len(extList)):\n",
    "        new = ''.join(extList[i:i+2])\n",
    "        list_new.append(new)\n",
    "    del list_new[-1]\n",
    "    return list_new"
   ]
  },
  {
   "cell_type": "code",
   "execution_count": 44,
   "id": "7c8c2746",
   "metadata": {},
   "outputs": [],
   "source": [
    "#Change data format from string to list of unique characters\n",
    "#logVar[\"dfList\"] = logVar[\"c:n_chr\"].apply(lambda x: df_list(x))\n",
    "#logVar"
   ]
  },
  {
   "cell_type": "code",
   "execution_count": 45,
   "id": "da1ba214",
   "metadata": {},
   "outputs": [],
   "source": [
    "'''\n",
    "ListChar = list(logVar[\"dfList\"])\n",
    "\n",
    "n = len(ListChar)\n",
    "dist_matrix = np.zeros((n,n))    # initialize distance matrix to a square of zeros\n",
    "\n",
    "for i in range(n):\n",
    "    for j in range(i, n):\n",
    "        dist_matrix[i,j] = jaccard_similarity(ListChar[i], ListChar[j])\n",
    "        dist_matrix[j,i] = dist_matrix[i,j]       # for the symmetric part, no computation\n",
    "        \n",
    "jacc2_dis = dist_matrix"
   ]
  },
  {
   "cell_type": "code",
   "execution_count": 41,
   "id": "b14857d2",
   "metadata": {},
   "outputs": [
    {
     "name": "stdout",
     "output_type": "stream",
     "text": [
      "NN:   0.9885714285714287\n",
      "P@10: 0.9805714285714286\n",
      "Tri:  tensor(0.6300)\n",
      "Sil:  0.04925171804531398\n"
     ]
    }
   ],
   "source": [
    "'''\n",
    "Matrix = jacc2_dis\n",
    "\n",
    "print('NN:   ' + str(NearestNeighbor(Matrix, labelDict1)))\n",
    "print('P@10: ' + str(PrecisionAtK(Matrix, labelDict1, 10)))\n",
    "\n",
    "triplet = BatchAllTtripletLoss()\n",
    "print('Tri:  ' + str(triplet.forward(Matrix,labelDict1)))\n",
    "print('Sil:  ' + str(Silhouette(Matrix, labelDict1)))\n",
    "'''"
   ]
  },
  {
   "cell_type": "code",
   "execution_count": 46,
   "id": "aa36480f",
   "metadata": {},
   "outputs": [
    {
     "name": "stdout",
     "output_type": "stream",
     "text": [
      "NN:   0.9971428571428571\n",
      "P@10: 0.9674285714285713\n",
      "Tri:  tensor(0.6240)\n",
      "Sil:  0.07137964234907106\n"
     ]
    }
   ],
   "source": [
    "#Aggregation\n",
    "'''\n",
    "aggregate = jacc1_dis + jacc2_dis\n",
    "\n",
    "Matrix = aggregate\n",
    "\n",
    "print('NN:   ' + str(NearestNeighbor(Matrix, labelDict1)))\n",
    "print('P@10: ' + str(PrecisionAtK(Matrix, labelDict1, 10)))\n",
    "\n",
    "triplet = BatchAllTtripletLoss()\n",
    "print('Tri:  ' + str(triplet.forward(Matrix,labelDict1)))\n",
    "print('Sil:  ' + str(Silhouette(Matrix, labelDict1)))\n",
    "'''"
   ]
  },
  {
   "cell_type": "markdown",
   "id": "ca8982bc",
   "metadata": {},
   "source": [
    "## Graph based measures"
   ]
  },
  {
   "cell_type": "code",
   "execution_count": null,
   "id": "553dcf11",
   "metadata": {},
   "outputs": [],
   "source": [
    "#Now consider edge types"
   ]
  },
  {
   "cell_type": "code",
   "execution_count": 53,
   "id": "26f94a66",
   "metadata": {},
   "outputs": [],
   "source": [
    "def intEncoder(character_List):\n",
    "    return [np.where(np.array(list(dict.fromkeys(character_List)))==e)[0][0]for e in character_List]\n",
    "\n",
    "logVar[\"intList\"] = logVar[\"activity\"].apply(lambda x: intEncoder(x))"
   ]
  },
  {
   "cell_type": "code",
   "execution_count": 54,
   "id": "26a1b7fe",
   "metadata": {},
   "outputs": [],
   "source": [
    "# 2. transfer intList to int_tupleList\n",
    "\n",
    "#Create tuple lists\n",
    "def tuple_list(list_of_encodedActivities):\n",
    "    #list.insert(0, '*')\n",
    "    #list.append('*')\n",
    "    list_new = []\n",
    "    last_element = list_of_encodedActivities[-1]\n",
    "    for i in range(len(list_of_encodedActivities)):\n",
    "        new = tuple(list_of_encodedActivities[i:i+2])\n",
    "        list_new.append(new)\n",
    "    del list_new[-1]\n",
    "    if list_of_encodedActivities.count(last_element) == 1: #check wether last activity in trace has some adjancency relation\n",
    "        list_new.append((last_element,)) ### NOT Correct\n",
    "    return list_new\n",
    "\n",
    "#q = [0,0,0,0,1,1,2,3,4,5,3,2,4,0,5,6]\n",
    "#tuple_list(q)\n",
    "\n",
    "logVar[\"int_tupleList\"] = logVar[\"intList\"].apply(lambda x: tuple_list(x))\n",
    "#logVar[\"int_tupleList\"]"
   ]
  },
  {
   "cell_type": "code",
   "execution_count": 55,
   "id": "a4db1f49",
   "metadata": {},
   "outputs": [],
   "source": [
    "# 3. generate Adjacency List\n",
    "\n",
    "def adj_list(list_of_tuples):\n",
    "    adj_list_new = {}\n",
    "    try:\n",
    "        for node1, node2 in list_of_tuples:\n",
    "            #print(node1, node2)\n",
    "            if node1 not in adj_list_new:\n",
    "                newlist = []\n",
    "                newlist.append(node2)\n",
    "                adj_list_new[node1] = newlist\n",
    "                #print(adj_list3)\n",
    "        \n",
    "            else:\n",
    "                if node2 not in adj_list_new[node1]:\n",
    "                    #mylist.extend(adj_list3[node1])\n",
    "                    adj_list_new[node1].append(node2)\n",
    "                    #print(adj_list3)\n",
    "                    #adj_list3[node1] = mylist\n",
    "    \n",
    "    #in case activity has no adjacent activity - only possible for last activity --> tuple: (lastAct,)\n",
    "    except ValueError as ve:\n",
    "        lastValue = list_of_tuples[-1][0] \n",
    "        adj_list_new[lastValue] = list()\n",
    "    return list(adj_list_new.values())\n",
    "\n",
    "#q = [0,0,0,0,1,1,2,3,4,5,3,2,4,0,5,6]\n",
    "#l = tuple_list(q)\n",
    "#adj_list(l)\n",
    "\n",
    "logVar[\"int_adjList\"] = logVar[\"int_tupleList\"].apply(lambda x: adj_list(x))\n",
    "#logVar[\"int_adjList\"]"
   ]
  },
  {
   "cell_type": "code",
   "execution_count": 56,
   "id": "5433d059",
   "metadata": {},
   "outputs": [],
   "source": [
    "#Now consider length\n",
    "\n",
    "from collections import deque\n",
    "\n",
    "def bfs_4(graph, start, end):\n",
    "    \n",
    "    graph = {v: k for v, k in enumerate(graph)}\n",
    "    #print(start, end)\n",
    "    queue = deque([(start, 0)])\n",
    "    seen = set()\n",
    "    while queue:\n",
    "        #print(queue)\n",
    "        node, distance = queue.popleft()\n",
    "        #if not node:\n",
    "            #print(start, end, queue)\n",
    "            #print(\"GRAPH LIST\", graph)\n",
    "        if node in seen:\n",
    "            continue\n",
    "        seen.add(node)\n",
    "        if node == end:\n",
    "            return distance \n",
    "        for adjacent in graph.get(node, []):\n",
    "            queue.append((adjacent, distance + 1))\n",
    "        \n",
    "#x = {0: [0, 1], 1: [2, 1, 0, int], 2:[2], [3: [1, 5, 3, 7], 4: [3], 5: [6, 5], 6: [1, 7], 7: [8, 9, 7], 8: [5, 8, 10], 9: [3]}\n",
    "#y = [[0, 1, 5], [1, 2], [3, 4], [4, 2], [5, 0], [3, 6], []]\n",
    "#bfs_4(y, 1, 6)"
   ]
  },
  {
   "cell_type": "code",
   "execution_count": 57,
   "id": "01800b9e",
   "metadata": {},
   "outputs": [],
   "source": [
    "from collections import defaultdict, deque\n",
    "\n",
    "def reverse_graph(graph):\n",
    "    reversed_graph = defaultdict(list)\n",
    "    for node in graph:\n",
    "        for neighbor in graph[node]:\n",
    "            reversed_graph[neighbor].append(node)\n",
    "    return reversed_graph\n",
    "\n",
    "\n",
    "def bfs_5(graph, start, end):\n",
    "    queue = deque([(start, 0)])\n",
    "    seen = set()\n",
    "    visited = {}\n",
    "    while queue:\n",
    "        node, distance = queue.popleft()\n",
    "        if node in seen:\n",
    "            continue\n",
    "        seen.add(node)\n",
    "        if node == end: # maybe quicker if adjacent directly checked\n",
    "            return visited\n",
    "        for adjacent in graph.get(node, []):\n",
    "            queue.append((adjacent, distance + 1))\n",
    "            if adjacent not in visited:\n",
    "                visited.update({adjacent:distance})\n",
    "\n",
    "            \n",
    "def common_ancestors(graph, node1, node2): \n",
    "    #remove cross type edge between node1 and node2\n",
    "    graph[node1].remove(node2) #maybe issue, if graph is changed and not copy of graph?\n",
    "    graph = {v: k for v, k in enumerate(graph)}\n",
    "    graphReverse = reverse_graph(graph)\n",
    "    setNode1 = bfs_5(graphReverse, node1, 0)\n",
    "    setNode2 = bfs_5(graphReverse, node2, 0)\n",
    "    if next((a for a in list(setNode1) if a in list(setNode2)), None) == None:\n",
    "        firstCommonAnces = next((a for a in list(setNode2) if a in list(setNode1)), None)\n",
    "    else:\n",
    "        firstCommonAnces = next((a for a in list(setNode1) if a in list(setNode2)), 0)\n",
    "    \n",
    "    #uses a hash map to identify the first common ancestor in both lists\n",
    "    #looks for the first common ancestor in setNode1, which can also be found in setNode2 \n",
    "    #--> this might not be the closest distance between setNode1 and setNode2\n",
    "    #--> e.g., for x= [0,1,3,7,5,6] and y= [4,5,7,8,3] 7 might be closest ancestor, although algo detects 3 !\n",
    "    #distance = setNode1[firstCommonAnces] + setNode2[firstCommonAnces]\n",
    "    \n",
    "    \n",
    "    if firstCommonAnces != None:   # ISSUE: in some cases the firstCommonAnces cannot be detected!\n",
    "        ancesDistNode1 =  setNode1[firstCommonAnces] + 1 #the edge from node1 to first parent is counted as 0 by algorithm, therefore +1\n",
    "        ancesDistNode2 =  setNode2[firstCommonAnces] + 1\n",
    "        numberSkips = abs(ancesDistNode1 - ancesDistNode2)\n",
    "        numberCross = min(ancesDistNode1, ancesDistNode2)\n",
    "    else:\n",
    "        numberSkips, numberCross = (0,1)\n",
    "    return numberSkips, numberCross\n",
    "    #if all(x in crossType for x in i):\n",
    "    \n",
    "\n",
    "    \n",
    "\n",
    "#graphList = [[1], [2, 4, 1], [3, 2, 1], [], [5, 4], [5, 4, 6], [7], []]\n",
    "#c = [[1, 4], [2], [3], [0, 5], [3, 5], []]\n",
    "#c2 = {v: k for v, k in enumerate(c)}\n",
    "#common_ancestors(c, 4, 5)\n",
    "#reverse_graph(c2)"
   ]
  },
  {
   "cell_type": "code",
   "execution_count": 58,
   "id": "8e8cb966",
   "metadata": {},
   "outputs": [],
   "source": [
    "#Create List for decoding traces\n",
    "from collections import OrderedDict\n",
    "logVar[\"indexList\"] = logVar[\"activity\"].apply(lambda x: list(OrderedDict.fromkeys(x)))"
   ]
  },
  {
   "cell_type": "markdown",
   "id": "5e36477c",
   "metadata": {},
   "source": [
    "### Cosine Edge Type + length (no df relations)"
   ]
  },
  {
   "cell_type": "code",
   "execution_count": 61,
   "id": "965f35a3",
   "metadata": {},
   "outputs": [],
   "source": [
    "class Graph1:\n",
    "    # instance variables\n",
    "    def __init__(self, graph_list2, indexList):\n",
    "        # v is the number of nodes/vertices\n",
    "        self.time = 0\n",
    "        self.traversal_array = []\n",
    "        self.structural_array = [['tree', 0]]\n",
    "        #self.structural_array = []\n",
    "        self.graph_list = graph_list2\n",
    "        self.v = len(graph_list2)\n",
    "        self.indexList = indexList\n",
    "\n",
    "    # function for dfs\n",
    "    def dfs(self):\n",
    "        self.start_time = [-1]*self.v\n",
    "        self.end_time = [-1]*self.v\n",
    " \n",
    "        for node in range(self.v):\n",
    "            if self.start_time[node] == -1:\n",
    "                self.traverse_dfs(node)\n",
    "                \n",
    "        return np.array(self.structural_array)\n",
    "        #print()\n",
    "        #print(\"DFS Traversal: \", self.traversal_array)\n",
    "        #print()\n",
    " \n",
    "    def traverse_dfs(self, node):\n",
    "        self.traversal_array.append(node)\n",
    "        # get the starting time\n",
    "        self.start_time[node] = self.time\n",
    "        self.time += 1\n",
    "        # traverse through the neighbours\n",
    "        for neighbour in self.graph_list[node]:\n",
    "\n",
    "            # when the neighbor was not yet visited\n",
    "            if self.start_time[neighbour] == -1:                \n",
    "                self.structural_array[0][1] += 0\n",
    "                self.traverse_dfs(neighbour)\n",
    "                \n",
    "            # otherwise when the neighbour's visit is still ongoing:\n",
    "            elif self.end_time[neighbour] == -1:\n",
    "                if node == neighbour:\n",
    "                    self.structural_array.append(['1back ',1])\n",
    "                    #self.structural_array.append(['back ',1])\n",
    "                    #self.structural_array.append([str(1)+'b'])\n",
    "                \n",
    "                elif node in self.graph_list[neighbour]:\n",
    "                    self.structural_array.append(['2back ',2])\n",
    "                    #self.structural_array.append(['back ',2])\n",
    "                    #self.structural_array.append(str(2)+'b')\n",
    "                    \n",
    "                else:\n",
    "                    x = bfs_4(self.graph_list, neighbour, node)\n",
    "                    self.structural_array.append([str(x+1)+'back ',x+1])\n",
    "                    #self.structural_array.append(['back ',x+1])\n",
    "                    #self.structural_array.append(str(x+1)+'b')\n",
    "                \n",
    "            # otherwise when the neighbour's visit started before the current node's visit:\n",
    "            elif self.start_time[node] < self.start_time[neighbour]:\n",
    "                graph_list_copy = copy.deepcopy(self.graph_list)\n",
    "                graph_list_copy[node].remove(neighbour)\n",
    "                y = bfs_4(graph_list_copy, node, neighbour)\n",
    "                self.structural_array.append([str(y-1)+'forward ',y-1])\n",
    "                #self.structural_array.append(['forward ' ,y-1])\n",
    "                #self.structural_array.extend((y-1)*['forward']) # -1 to exclude one edge: (A:B,C;B:C;C:[]) ...the dist A --> C is 2 without forward edge, but we are skipping only one activity\n",
    "                #self.structural_array.append(str(y-1)+'f')\n",
    "                \n",
    "            else:\n",
    "                #Possibly first check, whether two nodes connected by cross-type have identical parent\n",
    "                numberSkips, numberCross = common_ancestors(self.graph_list, node, neighbour)\n",
    "                #self.structural_array.append(['forward ' + str(self.indexList[node]) + ' ' + str(self.indexList[neighbour]),numberSkips])\n",
    "                self.structural_array.append([str(numberCross)+'cross ',numberCross])\n",
    "                #self.structural_array.append(['cross ' ,numberCross])\n",
    "                #self.structural_array.append(str(numberSkips)+'f')\n",
    "                #self.structural_array.append(str(numberCross)+'c')\n",
    "    \n",
    "        # Indentation corrected:\n",
    "        self.end_time[node] = self.time\n",
    "        self.time += 1"
   ]
  },
  {
   "cell_type": "code",
   "execution_count": 62,
   "id": "dc8355e1",
   "metadata": {},
   "outputs": [
    {
     "data": {
      "text/plain": [
       "'\\nlogVar[\"int_strucLengthList2\"] = logVar.apply(lambda x: Graph1(x.int_adjList, x.indexList).dfs(), axis =1)\\n\\nlogVar[\"relFrequVec2\"] = logVar[\"int_strucLengthList2\"].apply(lambda x: pd.DataFrame(x, columns=[\\'String\\', \\'Value\\']))\\nlogVar[\"relFrequVec2\"] = logVar[\"relFrequVec2\"].apply(lambda x: x.groupby(\\'String\\', as_index=False)[\\'Value\\'].sum())\\nlogVar[\"relFrequVec2\"] = logVar[\"relFrequVec2\"].apply(lambda x: x.to_numpy())\\n'"
      ]
     },
     "execution_count": 62,
     "metadata": {},
     "output_type": "execute_result"
    }
   ],
   "source": [
    "'''\n",
    "logVar[\"int_strucLengthList2\"] = logVar.apply(lambda x: Graph1(x.int_adjList, x.indexList).dfs(), axis =1)\n",
    "\n",
    "logVar[\"relFrequVec2\"] = logVar[\"int_strucLengthList2\"].apply(lambda x: pd.DataFrame(x, columns=['String', 'Value']))\n",
    "logVar[\"relFrequVec2\"] = logVar[\"relFrequVec2\"].apply(lambda x: x.groupby('String', as_index=False)['Value'].sum())\n",
    "logVar[\"relFrequVec2\"] = logVar[\"relFrequVec2\"].apply(lambda x: x.to_numpy())\n",
    "'''"
   ]
  },
  {
   "cell_type": "code",
   "execution_count": 63,
   "id": "5f6fc385",
   "metadata": {},
   "outputs": [],
   "source": [
    "from collections import Counter\n",
    "\n",
    "def transform_list_of_pairs(pairs):\n",
    "    return [pair[0] for pair in pairs]\n",
    "\n",
    "\n",
    "\n",
    "def count_entries(input_list):\n",
    "    # Count the occurrences of each unique entry in the list\n",
    "    counter = Counter(input_list)\n",
    "    \n",
    "    # Create a NumPy array from the counter dictionary\n",
    "    result = np.array([[key, count] for key, count in counter.items()], dtype=object)\n",
    "    \n",
    "    return result\n",
    "\n",
    "# Example usage\n",
    "#input_list = ['sequ', '2back', '2back']\n",
    "#result = count_entries(input_list)\n",
    "#print(result)\n",
    "\n",
    "logVar[\"int_strucLengthList2\"] = logVar.apply(lambda x: Graph1(x.int_adjList, x.indexList).dfs(), axis =1)\n",
    "logVar[\"relFrequVec1\"] = logVar[\"int_strucLengthList2\"].apply(lambda x: transform_list_of_pairs(x))\n",
    "logVar[\"relFrequVec1\"] = logVar[\"relFrequVec1\"].apply(lambda x: count_entries(x))"
   ]
  },
  {
   "cell_type": "code",
   "execution_count": 65,
   "id": "db54c29e",
   "metadata": {},
   "outputs": [
    {
     "name": "stdout",
     "output_type": "stream",
     "text": [
      "NN:   0.6532348111658457\n",
      "P@10: 0.6224614121510673\n",
      "Tri:  tensor(0.5769)\n",
      "Sil:  0.09711318446931942\n"
     ]
    }
   ],
   "source": [
    "#Cosine distance based on edge types\n",
    "cos_graph_dis = matrix_calc(logVar[\"relFrequVec1\"],cosineDist)\n",
    "results(cos_graph_dis)"
   ]
  },
  {
   "cell_type": "code",
   "execution_count": 66,
   "id": "d36e7491",
   "metadata": {},
   "outputs": [
    {
     "name": "stdout",
     "output_type": "stream",
     "text": [
      "NN:   0.9713628899835797\n",
      "P@10: 0.942175697865353\n",
      "Tri:  tensor(0.5821)\n",
      "Sil:  0.0674574899731124\n"
     ]
    }
   ],
   "source": [
    "#Cosine distance based on edge types\n",
    "agg_cos = cos1_dis + cos2_dis + cos_graph_dis\n",
    "results(agg_cos)"
   ]
  },
  {
   "cell_type": "code",
   "execution_count": 61,
   "id": "8b07b4c1",
   "metadata": {},
   "outputs": [
    {
     "name": "stderr",
     "output_type": "stream",
     "text": [
      "C:\\Users\\la1949\\Anaconda3\\envs\\pm4py\\lib\\site-packages\\scipy\\spatial\\distance.py:636: RuntimeWarning: invalid value encountered in scalar divide\n",
      "  dist = 1.0 - uv / np.sqrt(uu * vv)\n"
     ]
    }
   ],
   "source": [
    "'''\n",
    "listVec = list(logVar[\"relFrequVec2\"])\n",
    "\n",
    "n = len(listVec)\n",
    "dist_matrix = np.zeros((n,n))\n",
    "\n",
    "for i in range(n):\n",
    "    for j in range(i, n):\n",
    "        dist_matrix[i,j] = cosineDist(listVec[i], listVec[j])\n",
    "        dist_matrix[j,i] = dist_matrix[i,j]  \n",
    "        \n",
    "cos_graph_dis = dist_matrix"
   ]
  },
  {
   "cell_type": "code",
   "execution_count": 62,
   "id": "eaf85181",
   "metadata": {},
   "outputs": [
    {
     "name": "stdout",
     "output_type": "stream",
     "text": [
      "NN:   0.49142857142857144\n",
      "P@10: 0.6080000000000001\n",
      "Tri:  tensor(0.5488)\n",
      "Sil:  0.06517649082551862\n"
     ]
    }
   ],
   "source": [
    "'''\n",
    "Matrix = cos_graph_dis\n",
    "\n",
    "print('NN:   ' + str(NearestNeighbor(Matrix, labelDict1)))\n",
    "print('P@10: ' + str(PrecisionAtK(Matrix, labelDict1, 10)))\n",
    "\n",
    "triplet = BatchAllTtripletLoss()\n",
    "print('Tri:  ' + str(triplet.forward(Matrix,labelDict1)))\n",
    "print('Sil:  ' + str(Silhouette(Matrix, labelDict1)))\n",
    "'''"
   ]
  },
  {
   "cell_type": "code",
   "execution_count": 63,
   "id": "166696b8",
   "metadata": {},
   "outputs": [
    {
     "name": "stdout",
     "output_type": "stream",
     "text": [
      "NN:   0.9914285714285714\n",
      "P@10: 0.9560000000000001\n",
      "Tri:  tensor(0.6395)\n",
      "Sil:  0.0926845569582354\n"
     ]
    }
   ],
   "source": [
    "#Aggregation\n",
    "'''\n",
    "aggregate = cos1_dis + cos2_dis + cos_graph_dis\n",
    "\n",
    "Matrix = aggregate\n",
    "\n",
    "print('NN:   ' + str(NearestNeighbor(Matrix, labelDict1)))\n",
    "print('P@10: ' + str(PrecisionAtK(Matrix, labelDict1, 10)))\n",
    "\n",
    "triplet = BatchAllTtripletLoss()\n",
    "print('Tri:  ' + str(triplet.forward(Matrix,labelDict1)))\n",
    "print('Sil:  ' + str(Silhouette(Matrix, labelDict1)))\n",
    "'''"
   ]
  },
  {
   "cell_type": "markdown",
   "id": "9f88c69e",
   "metadata": {},
   "source": [
    "### Jaccard Edge Type and length + df relation"
   ]
  },
  {
   "cell_type": "code",
   "execution_count": 67,
   "id": "bd8352d5",
   "metadata": {},
   "outputs": [],
   "source": [
    "class Graph2:\n",
    "    # instance variables\n",
    "    def __init__(self, graph_list2, indexList):\n",
    "        # v is the number of nodes/vertices\n",
    "        self.time = 0\n",
    "        self.traversal_array = []\n",
    "        self.structural_array = []\n",
    "        #self.structural_array = []\n",
    "        self.graph_list = graph_list2\n",
    "        self.v = len(graph_list2)\n",
    "        self.indexList = indexList\n",
    "\n",
    "    # function for dfs\n",
    "    def dfs(self):\n",
    "        self.start_time = [-1]*self.v\n",
    "        self.end_time = [-1]*self.v\n",
    " \n",
    "        for node in range(self.v):\n",
    "            if self.start_time[node] == -1:\n",
    "                self.traverse_dfs(node)\n",
    "                \n",
    "        return self.structural_array\n",
    "        #print()\n",
    "        #print(\"DFS Traversal: \", self.traversal_array)\n",
    "        #print()\n",
    " \n",
    "    def traverse_dfs(self, node):\n",
    "        self.traversal_array.append(node)\n",
    "        # get the starting time\n",
    "        self.start_time[node] = self.time\n",
    "        self.time += 1\n",
    "        # traverse through the neighbours\n",
    "        for neighbour in self.graph_list[node]:\n",
    "\n",
    "            # when the neighbor was not yet visited\n",
    "            if self.start_time[neighbour] == -1:                \n",
    "                #self.structural_array[0][1] += 0\n",
    "                #self.structural_array.append('tree ' + str(self.indexList[node]) + ' ' + str(self.indexList[neighbour]) + ')\n",
    "                self.structural_array.append('tree')\n",
    "                self.traverse_dfs(neighbour)\n",
    "                \n",
    "            # otherwise when the neighbour's visit is still ongoing:\n",
    "            elif self.end_time[neighbour] == -1:\n",
    "                if node == neighbour:\n",
    "                    self.structural_array.append('back ' + str(self.indexList[node]) + ' ' + str(self.indexList[neighbour]) + ' ' + str(1))\n",
    "                    #self.structural_array.append([str(1)+'b'])\n",
    "                \n",
    "                elif node in self.graph_list[neighbour]:\n",
    "                    self.structural_array.append('back ' + str(self.indexList[node]) + ' ' + str(self.indexList[neighbour]) + ' ' + str(2))\n",
    "                    #self.structural_array.append(str(2)+'b')\n",
    "                    \n",
    "                else:\n",
    "                    x = bfs_4(self.graph_list, neighbour, node)\n",
    "                    self.structural_array.append('back ' + str(self.indexList[node]) + ' ' + str(self.indexList[neighbour]) + ' ' + str(x+1))\n",
    "                    #self.structural_array.append(str(x+1)+'b')\n",
    "                \n",
    "            # otherwise when the neighbour's visit started before the current node's visit:\n",
    "            elif self.start_time[node] < self.start_time[neighbour]:\n",
    "                graph_list_copy = copy.deepcopy(self.graph_list)\n",
    "                graph_list_copy[node].remove(neighbour)\n",
    "                y = bfs_4(graph_list_copy, node, neighbour)\n",
    "                self.structural_array.append('forward ' + str(self.indexList[node]) + ' ' + str(self.indexList[neighbour]) + ' ' + str(y-1))\n",
    "                #self.structural_array.extend((y-1)*['forward']) # -1 to exclude one edge: (A:B,C;B:C;C:[]) ...the dist A --> C is 2 without forward edge, but we are skipping only one activity\n",
    "                #self.structural_array.append(str(y-1)+'f')\n",
    "                \n",
    "            else:\n",
    "                #Possibly first check, whether two nodes connected by cross-type have identical parent\n",
    "                numberSkips, numberCross = common_ancestors(self.graph_list, node, neighbour)\n",
    "                #self.structural_array.append('forward ' + str(self.indexList[node]) + ' ' + str(self.indexList[neighbour]) + ' ' + str(numberSkips))\n",
    "                self.structural_array.append('cross ' + str(self.indexList[node]) + ' ' + str(self.indexList[neighbour]) + ' ' + str(numberCross))\n",
    "                #self.structural_array.append(str(numberSkips)+'f')\n",
    "                #self.structural_array.append(str(numberCross)+'c')\n",
    "    \n",
    "        # Indentation corrected:\n",
    "        self.end_time[node] = self.time\n",
    "        self.time += 1"
   ]
  },
  {
   "cell_type": "code",
   "execution_count": 68,
   "id": "7e00cfdd",
   "metadata": {},
   "outputs": [],
   "source": [
    "logVar[\"int_strucLengthList3\"] = logVar.apply(lambda x: Graph2(x.int_adjList, x.indexList).dfs(), axis =1)\n",
    "#logVar"
   ]
  },
  {
   "cell_type": "code",
   "execution_count": 69,
   "id": "98609e87",
   "metadata": {},
   "outputs": [
    {
     "name": "stdout",
     "output_type": "stream",
     "text": [
      "NN:   0.9799671592775041\n",
      "P@10: 0.962216748768473\n",
      "Tri:  tensor(0.6632)\n",
      "Sil:  0.04593634271628139\n"
     ]
    }
   ],
   "source": [
    "#Jacc similarity based on edge types\n",
    "\n",
    "jacc_graph = matrix_calc(logVar[\"int_strucLengthList3\"],jaccard_similarity)\n",
    "results(jacc_graph)"
   ]
  },
  {
   "cell_type": "code",
   "execution_count": 70,
   "id": "54bbf7c9",
   "metadata": {},
   "outputs": [
    {
     "name": "stdout",
     "output_type": "stream",
     "text": [
      "NN:   0.9713628899835797\n",
      "P@10: 0.942175697865353\n",
      "Tri:  tensor(0.5821)\n",
      "Sil:  0.0674574899731124\n"
     ]
    }
   ],
   "source": [
    "#Jacc sim based on edge types\n",
    "agg_jacc = Jacc1_dis + Jacc2_dis + jacc_graph\n",
    "results(agg_cos)"
   ]
  },
  {
   "cell_type": "markdown",
   "id": "0ea8f79f",
   "metadata": {},
   "source": [
    "## Eventually Follows"
   ]
  },
  {
   "cell_type": "code",
   "execution_count": 71,
   "id": "0d9559b8",
   "metadata": {},
   "outputs": [],
   "source": [
    "#Spatial distance between strings\n",
    "\n",
    "\n",
    "from scipy.spatial import distance\n",
    "\n",
    "\n",
    "def distanceSpatial(traceString, char1, char2):\n",
    "    positions_letter1 = [pos for pos, char in enumerate(traceString) if char == char1]\n",
    "    positions_letter2 = [pos for pos, char in enumerate(traceString) if char == char2]\n",
    "    \n",
    "    distList = []\n",
    "    \n",
    "\n",
    "    for i in range(len(positions_letter1)):\n",
    "        for j in range(len(positions_letter2)):\n",
    "            dist = positions_letter2[j] - positions_letter1[i]\n",
    "            if dist > 0:\n",
    "                    #print(dist)\n",
    "                distList.append(dist)\n",
    "                    \n",
    "    \n",
    "    if not distList: #distList.append(0) #in the case the char1 is after char2 asign dist 0, i.e. char2 cannot be reached from char1\n",
    "        return 0\n",
    "    else:\n",
    "        return 1/min(distList)\n",
    "\n",
    "\n",
    "\n",
    "\n",
    "\n",
    "def commonDistance(trace1, trace2):\n",
    "    \n",
    "    commonSet = set(trace1) & set(trace2)\n",
    "\n",
    "    commonList = list(commonSet)\n",
    "    commonList.sort()\n",
    "    #print(commonList)\n",
    "\n",
    "    n = len(commonSet)\n",
    "    dist_matrix1 = np.zeros((n,n))\n",
    "    dist_matrix2 = np.zeros((n,n))\n",
    "\n",
    "    for i in range(n):\n",
    "        for j in range(i, n):\n",
    "            dist_matrix1[i,j] = distanceSpatial(trace1, commonList[i], commonList[j])\n",
    "        \n",
    "    for i in range(n):\n",
    "        for j in range(i, n):\n",
    "            dist_matrix2[i,j] = distanceSpatial(trace2, commonList[i], commonList[j])\n",
    "    \n",
    "    #print(dist_matrix1, dist_matrix2)\n",
    "    return distance.cosine(dist_matrix1.ravel(), dist_matrix2.ravel())\n",
    "\n",
    "\n",
    "\n",
    "#x = 'ABCDEF'\n",
    "#y = 'ABCDEBCDEBCDEF'\n",
    "#z = 'ABCDEBCDEF'\n",
    "#print(dist_matrix)\n",
    "#distanceSpatial(x, 'A', 'E')\n",
    "#listVec = logVar[\"strings\"]\n",
    "#x= listVec[0]\n",
    "#y= listVec[1]\n",
    "#commonDistance(x, y)"
   ]
  },
  {
   "cell_type": "code",
   "execution_count": 73,
   "id": "2f92cbe7",
   "metadata": {},
   "outputs": [
    {
     "ename": "KeyboardInterrupt",
     "evalue": "",
     "output_type": "error",
     "traceback": [
      "\u001b[1;31m---------------------------------------------------------------------------\u001b[0m",
      "\u001b[1;31mKeyboardInterrupt\u001b[0m                         Traceback (most recent call last)",
      "Cell \u001b[1;32mIn[73], line 1\u001b[0m\n\u001b[1;32m----> 1\u001b[0m dist_matrix_evFollows \u001b[38;5;241m=\u001b[39m \u001b[43mmatrix_calc\u001b[49m\u001b[43m(\u001b[49m\u001b[43mlogVar\u001b[49m\u001b[43m[\u001b[49m\u001b[38;5;124;43m\"\u001b[39;49m\u001b[38;5;124;43mstrings\u001b[39;49m\u001b[38;5;124;43m\"\u001b[39;49m\u001b[43m]\u001b[49m\u001b[43m,\u001b[49m\u001b[43mcommonDistance\u001b[49m\u001b[43m)\u001b[49m\n\u001b[0;32m      2\u001b[0m agg_evFollows \u001b[38;5;241m=\u001b[39m \u001b[38;5;241m0.7\u001b[39m\u001b[38;5;241m*\u001b[39mdist_matrix_evFollows \u001b[38;5;241m+\u001b[39m \u001b[38;5;241m0.3\u001b[39m\u001b[38;5;241m*\u001b[39mcos1_dis \n\u001b[0;32m      3\u001b[0m results(agg_evFollows)\n",
      "Cell \u001b[1;32mIn[23], line 7\u001b[0m, in \u001b[0;36mmatrix_calc\u001b[1;34m(features, distance)\u001b[0m\n\u001b[0;32m      5\u001b[0m \u001b[38;5;28;01mfor\u001b[39;00m i \u001b[38;5;129;01min\u001b[39;00m \u001b[38;5;28mrange\u001b[39m(n):\n\u001b[0;32m      6\u001b[0m     \u001b[38;5;28;01mfor\u001b[39;00m j \u001b[38;5;129;01min\u001b[39;00m \u001b[38;5;28mrange\u001b[39m(i, n):\n\u001b[1;32m----> 7\u001b[0m         dist_matrix[i,j] \u001b[38;5;241m=\u001b[39m \u001b[43mdistance\u001b[49m\u001b[43m(\u001b[49m\u001b[43mfeatures\u001b[49m\u001b[43m[\u001b[49m\u001b[43mi\u001b[49m\u001b[43m]\u001b[49m\u001b[43m,\u001b[49m\u001b[43m \u001b[49m\u001b[43mfeatures\u001b[49m\u001b[43m[\u001b[49m\u001b[43mj\u001b[49m\u001b[43m]\u001b[49m\u001b[43m)\u001b[49m\n\u001b[0;32m      8\u001b[0m         dist_matrix[j,i] \u001b[38;5;241m=\u001b[39m dist_matrix[i,j]\n\u001b[0;32m     10\u001b[0m \u001b[38;5;28;01mreturn\u001b[39;00m dist_matrix\n",
      "Cell \u001b[1;32mIn[71], line 49\u001b[0m, in \u001b[0;36mcommonDistance\u001b[1;34m(trace1, trace2)\u001b[0m\n\u001b[0;32m     47\u001b[0m \u001b[38;5;28;01mfor\u001b[39;00m i \u001b[38;5;129;01min\u001b[39;00m \u001b[38;5;28mrange\u001b[39m(n):\n\u001b[0;32m     48\u001b[0m     \u001b[38;5;28;01mfor\u001b[39;00m j \u001b[38;5;129;01min\u001b[39;00m \u001b[38;5;28mrange\u001b[39m(i, n):\n\u001b[1;32m---> 49\u001b[0m         dist_matrix2[i,j] \u001b[38;5;241m=\u001b[39m \u001b[43mdistanceSpatial\u001b[49m\u001b[43m(\u001b[49m\u001b[43mtrace2\u001b[49m\u001b[43m,\u001b[49m\u001b[43m \u001b[49m\u001b[43mcommonList\u001b[49m\u001b[43m[\u001b[49m\u001b[43mi\u001b[49m\u001b[43m]\u001b[49m\u001b[43m,\u001b[49m\u001b[43m \u001b[49m\u001b[43mcommonList\u001b[49m\u001b[43m[\u001b[49m\u001b[43mj\u001b[49m\u001b[43m]\u001b[49m\u001b[43m)\u001b[49m\n\u001b[0;32m     51\u001b[0m \u001b[38;5;66;03m#print(dist_matrix1, dist_matrix2)\u001b[39;00m\n\u001b[0;32m     52\u001b[0m \u001b[38;5;28;01mreturn\u001b[39;00m distance\u001b[38;5;241m.\u001b[39mcosine(dist_matrix1\u001b[38;5;241m.\u001b[39mravel(), dist_matrix2\u001b[38;5;241m.\u001b[39mravel())\n",
      "Cell \u001b[1;32mIn[71], line 9\u001b[0m, in \u001b[0;36mdistanceSpatial\u001b[1;34m(traceString, char1, char2)\u001b[0m\n\u001b[0;32m      7\u001b[0m \u001b[38;5;28;01mdef\u001b[39;00m \u001b[38;5;21mdistanceSpatial\u001b[39m(traceString, char1, char2):\n\u001b[0;32m      8\u001b[0m     positions_letter1 \u001b[38;5;241m=\u001b[39m [pos \u001b[38;5;28;01mfor\u001b[39;00m pos, char \u001b[38;5;129;01min\u001b[39;00m \u001b[38;5;28menumerate\u001b[39m(traceString) \u001b[38;5;28;01mif\u001b[39;00m char \u001b[38;5;241m==\u001b[39m char1]\n\u001b[1;32m----> 9\u001b[0m     positions_letter2 \u001b[38;5;241m=\u001b[39m [pos \u001b[38;5;28;01mfor\u001b[39;00m pos, char \u001b[38;5;129;01min\u001b[39;00m \u001b[38;5;28menumerate\u001b[39m(traceString) \u001b[38;5;28;01mif\u001b[39;00m char \u001b[38;5;241m==\u001b[39m char2]\n\u001b[0;32m     11\u001b[0m     distList \u001b[38;5;241m=\u001b[39m []\n\u001b[0;32m     14\u001b[0m     \u001b[38;5;28;01mfor\u001b[39;00m i \u001b[38;5;129;01min\u001b[39;00m \u001b[38;5;28mrange\u001b[39m(\u001b[38;5;28mlen\u001b[39m(positions_letter1)):\n",
      "Cell \u001b[1;32mIn[71], line 9\u001b[0m, in \u001b[0;36m<listcomp>\u001b[1;34m(.0)\u001b[0m\n\u001b[0;32m      7\u001b[0m \u001b[38;5;28;01mdef\u001b[39;00m \u001b[38;5;21mdistanceSpatial\u001b[39m(traceString, char1, char2):\n\u001b[0;32m      8\u001b[0m     positions_letter1 \u001b[38;5;241m=\u001b[39m [pos \u001b[38;5;28;01mfor\u001b[39;00m pos, char \u001b[38;5;129;01min\u001b[39;00m \u001b[38;5;28menumerate\u001b[39m(traceString) \u001b[38;5;28;01mif\u001b[39;00m char \u001b[38;5;241m==\u001b[39m char1]\n\u001b[1;32m----> 9\u001b[0m     positions_letter2 \u001b[38;5;241m=\u001b[39m [pos \u001b[38;5;28;01mfor\u001b[39;00m pos, char \u001b[38;5;129;01min\u001b[39;00m \u001b[38;5;28menumerate\u001b[39m(traceString) \u001b[38;5;28;01mif\u001b[39;00m char \u001b[38;5;241m==\u001b[39m char2]\n\u001b[0;32m     11\u001b[0m     distList \u001b[38;5;241m=\u001b[39m []\n\u001b[0;32m     14\u001b[0m     \u001b[38;5;28;01mfor\u001b[39;00m i \u001b[38;5;129;01min\u001b[39;00m \u001b[38;5;28mrange\u001b[39m(\u001b[38;5;28mlen\u001b[39m(positions_letter1)):\n",
      "\u001b[1;31mKeyboardInterrupt\u001b[0m: "
     ]
    }
   ],
   "source": [
    "dist_matrix_evFollows = matrix_calc(logVar[\"strings\"],commonDistance)\n",
    "agg_evFollows = 0.7*dist_matrix_evFollows + 0.3*cos1_dis \n",
    "results(agg_evFollows)"
   ]
  },
  {
   "cell_type": "markdown",
   "id": "69846d1f",
   "metadata": {},
   "source": [
    "## Maximal Repeat"
   ]
  },
  {
   "cell_type": "code",
   "execution_count": null,
   "id": "575d7980",
   "metadata": {},
   "outputs": [],
   "source": [
    "from suffix_tree import Tree"
   ]
  },
  {
   "cell_type": "code",
   "execution_count": null,
   "id": "f926791a",
   "metadata": {},
   "outputs": [],
   "source": [
    "#tree.maximal_repeats\n",
    "def maxRepeat(tree):\n",
    "    mrList=[]\n",
    "    for C, path in sorted(tree.maximal_repeats()):\n",
    "        mrList.append(str(path))\n",
    "    return mrList\n",
    "\n",
    "#test_tree = Tree({\"A\": \"aaacdcdcbedbccbadbdebdc\"})\n",
    "#maxRepeat(test_tree)"
   ]
  },
  {
   "cell_type": "code",
   "execution_count": null,
   "id": "2228d4c4",
   "metadata": {},
   "outputs": [],
   "source": [
    "#create vector based on maximal repeats\n",
    "logVar[\"mrList\"] = logVar[\"strings\"].apply(lambda x: maxRepeat(Tree({\"A\": x})))\n",
    "logVar[\"mrVector\"] = logVar[\"mrList\"].apply(lambda x: createVector(tuple(x)))"
   ]
  },
  {
   "cell_type": "code",
   "execution_count": null,
   "id": "b12c5860",
   "metadata": {},
   "outputs": [],
   "source": [
    "#Cosine distance based on maxR\n",
    "\n",
    "cos_mr = matrix_calc(logVar[\"mrVector\"],cosineDist)\n",
    "results(cos_mr)"
   ]
  },
  {
   "cell_type": "code",
   "execution_count": null,
   "id": "1d4a1917",
   "metadata": {},
   "outputs": [],
   "source": [
    "#Euclidean distance based on maxR\n",
    "\n",
    "euc_mr = matrix_calc(logVar[\"mrVector\"],euclidDist)\n",
    "results(euc_mr)"
   ]
  },
  {
   "cell_type": "code",
   "execution_count": null,
   "id": "74462611",
   "metadata": {},
   "outputs": [],
   "source": [
    "#Jaccard similarity based on maxR\n",
    "\n",
    "jacc_mr = matrix_calc(logVar[\"mrList\"],jaccard_similarity)\n",
    "results(jacc_mr)"
   ]
  },
  {
   "cell_type": "markdown",
   "id": "eb5ec48c",
   "metadata": {},
   "source": [
    "## Optimal Alignments"
   ]
  },
  {
   "cell_type": "code",
   "execution_count": null,
   "id": "28348a7c",
   "metadata": {},
   "outputs": [],
   "source": [
    "from Bio import pairwise2\n",
    "import math\n",
    "\n",
    "\n",
    "# Define sequences\n",
    "#seq1 = \"ACCGTTTTT\"\n",
    "#seq2 = \"ACG\"\n",
    "\n",
    "# Perform global alignment with scoring:\n",
    "# match = +2, mismatch = -1, gap open = -2, gap extend = 0\n",
    "#alignments = pairwise2.align.globalms(seq1, seq2, 2, -1, -2, 0)\n",
    "\n",
    "#alignments\n",
    "#score --> alignments[0][2]\n",
    "\n",
    "def optAlign1(string1, string2):\n",
    "    alignments = pairwise2.align.globalms(string1, string2, 1, 0, 0, 0)    \n",
    "    return 1 - (alignments[0][2]/max(len(string1),len(string2)))\n",
    "\n",
    "\n",
    "def optAlign2(string1, string2):\n",
    "    alignments = pairwise2.align.globalms(string1, string2, 2, -1, -2, 0)    \n",
    "    return 1 / (1 + math.exp(0.05*alignments[0][2]))"
   ]
  },
  {
   "cell_type": "code",
   "execution_count": null,
   "id": "657f0a50",
   "metadata": {},
   "outputs": [],
   "source": [
    "Align_dis1 = matrix_calc(logVar[\"strings\"],optAlign1)\n",
    "results(Align_dis1)"
   ]
  },
  {
   "cell_type": "code",
   "execution_count": null,
   "id": "848b4496",
   "metadata": {},
   "outputs": [],
   "source": [
    "Align_dis2 = matrix_calc(logVar[\"strings\"],optAlign2)\n",
    "results(Align_dis2)"
   ]
  },
  {
   "cell_type": "code",
   "execution_count": null,
   "id": "4de833eb",
   "metadata": {},
   "outputs": [],
   "source": []
  }
 ],
 "metadata": {
  "kernelspec": {
   "display_name": "Python 3 (ipykernel)",
   "language": "python",
   "name": "python3"
  },
  "language_info": {
   "codemirror_mode": {
    "name": "ipython",
    "version": 3
   },
   "file_extension": ".py",
   "mimetype": "text/x-python",
   "name": "python",
   "nbconvert_exporter": "python",
   "pygments_lexer": "ipython3",
   "version": "3.9.16"
  }
 },
 "nbformat": 4,
 "nbformat_minor": 5
}
